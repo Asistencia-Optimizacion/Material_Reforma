{
 "cells": [
  {
   "cell_type": "markdown",
   "id": "b4178b04",
   "metadata": {},
   "source": [
    "##### Configuración"
   ]
  },
  {
   "cell_type": "code",
   "execution_count": 111,
   "id": "11daa016",
   "metadata": {},
   "outputs": [],
   "source": [
    "## Celda de configuración\n",
    "\n",
    "# Librerias\n",
    "import random\n",
    "import time\n",
    "import sys\n",
    "import os\n",
    "\n",
    "# Instancias y algoritmos\n",
    "sys.path.append(os.path.abspath(\"../Instances\"))\n",
    "from InsKnapsack import generar_datos, visualizar, report\n",
    "\n",
    "# Programación Dinámica\n",
    "sys.path.append(os.path.abspath(\"../DP/Env\"))         # entorno del problema\n",
    "sys.path.append(os.path.abspath(\"../DP/Algorithms/\")) # algoritmos RL / DP\n",
    "sys.path.append(os.path.abspath(\"../DP/Visual/\"))     # visualización de políticas / valores\n",
    "\n",
    "from Knapsack import KnapsackEnv  # Clase que define el entorno tipo mochila\n",
    "\n",
    "from value_iteration import value_iteration           # iteración de valores\n",
    "from policy_evaluation import policy_evaluation       # evaluación de políticas\n",
    "from policy_iteration import policy_iteration         # iteración de políticas\n",
    "\n",
    "from value_states import value_states_visual          # visualización de V(s)\n",
    "from policy_dag import draw_policy_dag                # grafo de política óptima"
   ]
  },
  {
   "cell_type": "markdown",
   "id": "c064baa3",
   "metadata": {},
   "source": [
    "# MinObras"
   ]
  },
  {
   "cell_type": "markdown",
   "id": "fe926f2a",
   "metadata": {},
   "source": [
    "El Ministerio de Transporte (MinTransporte) cuenta con un presupuesto de **100 millones de pesos** para ejecutar obras de infraestructura vial, con el fin de generar desarrollo en Bogotá. D.C.\n",
    "\n",
    "MinTransporte le va a proporcionar datos que contiene información sobre:\n",
    "\n",
    "- **Costo de ejecución** de cada proyecto (en millones de pesos)\n",
    "- **Número de empleos generados** (en miles)\n",
    "- **Ubicación geográfica** del proyecto (latitud y longitud)\n",
    "\n",
    "El objetivo del Ministerio es **maximizar la cantidad total de empleos generados**, respetando el límite presupuestal."
   ]
  },
  {
   "cell_type": "code",
   "execution_count": null,
   "id": "92ff2d1f",
   "metadata": {},
   "outputs": [
    {
     "data": {
      "application/vnd.plotly.v1+json": {
       "config": {
        "plotlyServerURL": "https://plot.ly"
       },
       "data": [
        {
         "customdata": [
          [
           "Bogotá",
           5,
           10,
           4.770003,
           -74.196201
          ],
          [
           "Bogotá",
           3,
           5,
           4.553651,
           -74.081376
          ],
          [
           "Bogotá",
           9,
           7,
           4.535699,
           -74.019207
          ],
          [
           "Bogotá",
           6,
           5,
           4.733692,
           -74.141669
          ],
          [
           "Bogotá",
           10,
           10,
           4.516346,
           -74.005183
          ],
          [
           "Bogotá",
           8,
           14,
           4.631031,
           -74.114338
          ],
          [
           "Bogotá",
           4,
           13,
           4.755722,
           -74.101052
          ],
          [
           "Bogotá",
           7,
           3,
           4.770125,
           -74.17275
          ],
          [
           "Bogotá",
           8,
           8,
           4.554949,
           -74.029145
          ],
          [
           "Bogotá",
           2,
           4,
           4.678822,
           -74.114892
          ],
          [
           "Bogotá",
           9,
           13,
           4.642126,
           -74.123761
          ],
          [
           "Bogotá",
           6,
           11,
           4.632141,
           -74.108468
          ],
          [
           "Bogotá",
           2,
           10,
           4.534102,
           -74.106525
          ],
          [
           "Bogotá",
           2,
           6,
           4.50931,
           -74.104521
          ],
          [
           "Bogotá",
           9,
           2,
           4.77184,
           -74.163569
          ],
          [
           "Bogotá",
           3,
           12,
           4.816746,
           -74.032505
          ],
          [
           "Bogotá",
           2,
           7,
           4.578208,
           -74.187376
          ],
          [
           "Bogotá",
           6,
           4,
           4.605213,
           -74.171074
          ],
          [
           "Bogotá",
           2,
           3,
           4.724035,
           -74.009433
          ],
          [
           "Bogotá",
           7,
           12,
           4.828855,
           -74.068079
          ],
          [
           "Bogotá",
           2,
           3,
           4.577695,
           -74.187422
          ],
          [
           "Bogotá",
           4,
           13,
           4.68488,
           -74.019476
          ],
          [
           "Bogotá",
           6,
           10,
           4.510968,
           -74.001745
          ],
          [
           "Bogotá",
           6,
           7,
           4.535284,
           -74.175264
          ],
          [
           "Bogotá",
           2,
           13,
           4.734843,
           -74.033642
          ]
         ],
         "hovertemplate": "Empleos generados (mil)=%{customdata[2]}<br>Ciudad=%{customdata[0]}<br>Costo ejecución (M)=%{marker.color}<extra></extra>",
         "lat": {
          "bdata": "nUmbqnsUE0A+l6lJ8DYSQOf/VUeOJBJA6lil9EzvEkCCrn0BvRASQHgMj/0shhJAiXjr/NsFE0D4U+OlmxQTQKfK94xEOBJApDhHHR23EkArpWd6iZESQMvXZfhPhxJAq+l6ousiEkBhGoaPiAkSQIP6ljldFhNAJo48EFlEE0BsJAnCFVASQMl06PS8axJAL6NYbmnlEkAbgXhdv1ATQDpAMEePTxJA6LzGLlG9EkDKNQUyOwsSQMtJKH0hJBJAMsfyrnrwEkA=",
          "dtype": "f8"
         },
         "legendgroup": "",
         "lon": {
          "bdata": "Upyjjo6MUsB6q65DNYVSwKw2/686gVLA2XbaGhGJUsCx3xPrVIBSwCqsVFBRh1LAgczOoneGUsCTGARWDotSwOJ1/YLdgVLAnKT5Y1qHUsBM4UGz64dSwGcqxCPxhlLANs07TtGGUsCyL9l4sIZSwOxoHOp3ilLAN/3ZjxSCUsCKA+j3/YtSwIrMXODyilLANKDejJqAUsDXogVoW4RSwEIj2Lj+i1LApMNDGD+BUsCeew+XHIBSwKIKf4Y3i1LAaXHGMCeCUsA=",
          "dtype": "f8"
         },
         "marker": {
          "color": {
           "bdata": "AAAAAAAAFEAAAAAAAAAIQAAAAAAAACJAAAAAAAAAGEAAAAAAAAAkQAAAAAAAACBAAAAAAAAAEEAAAAAAAAAcQAAAAAAAACBAAAAAAAAAAEAAAAAAAAAiQAAAAAAAABhAAAAAAAAAAEAAAAAAAAAAQAAAAAAAACJAAAAAAAAACEAAAAAAAAAAQAAAAAAAABhAAAAAAAAAAEAAAAAAAAAcQAAAAAAAAABAAAAAAAAAEEAAAAAAAAAYQAAAAAAAABhAAAAAAAAAAEA=",
           "dtype": "f8"
          },
          "coloraxis": "coloraxis",
          "size": {
           "bdata": "AAAAAAAAJEAAAAAAAAAUQAAAAAAAABxAAAAAAAAAFEAAAAAAAAAkQAAAAAAAACxAAAAAAAAAKkAAAAAAAAAIQAAAAAAAACBAAAAAAAAAEEAAAAAAAAAqQAAAAAAAACZAAAAAAAAAJEAAAAAAAAAYQAAAAAAAAABAAAAAAAAAKEAAAAAAAAAcQAAAAAAAABBAAAAAAAAACEAAAAAAAAAoQAAAAAAAAAhAAAAAAAAAKkAAAAAAAAAkQAAAAAAAABxAAAAAAAAAKkA=",
           "dtype": "f8"
          },
          "sizemode": "area",
          "sizeref": 0.00875
         },
         "mode": "markers",
         "name": "",
         "showlegend": false,
         "subplot": "mapbox",
         "type": "scattermapbox"
        }
       ],
       "layout": {
        "coloraxis": {
         "colorbar": {
          "title": {
           "text": "Costo ejecución (M)"
          }
         },
         "colorscale": [
          [
           0,
           "rgb(255,255,204)"
          ],
          [
           0.125,
           "rgb(255,237,160)"
          ],
          [
           0.25,
           "rgb(254,217,118)"
          ],
          [
           0.375,
           "rgb(254,178,76)"
          ],
          [
           0.5,
           "rgb(253,141,60)"
          ],
          [
           0.625,
           "rgb(252,78,42)"
          ],
          [
           0.75,
           "rgb(227,26,28)"
          ],
          [
           0.875,
           "rgb(189,0,38)"
          ],
          [
           1,
           "rgb(128,0,38)"
          ]
         ]
        },
        "height": 700,
        "legend": {
         "itemsizing": "constant",
         "tracegroupgap": 0
        },
        "mapbox": {
         "center": {
          "lat": 4.7,
          "lon": -74.1
         },
         "domain": {
          "x": [
           0,
           1
          ],
          "y": [
           0,
           1
          ]
         },
         "style": "carto-positron",
         "zoom": 10
        },
        "margin": {
         "t": 60
        },
        "template": {
         "data": {
          "bar": [
           {
            "error_x": {
             "color": "#2a3f5f"
            },
            "error_y": {
             "color": "#2a3f5f"
            },
            "marker": {
             "line": {
              "color": "#E5ECF6",
              "width": 0.5
             },
             "pattern": {
              "fillmode": "overlay",
              "size": 10,
              "solidity": 0.2
             }
            },
            "type": "bar"
           }
          ],
          "barpolar": [
           {
            "marker": {
             "line": {
              "color": "#E5ECF6",
              "width": 0.5
             },
             "pattern": {
              "fillmode": "overlay",
              "size": 10,
              "solidity": 0.2
             }
            },
            "type": "barpolar"
           }
          ],
          "carpet": [
           {
            "aaxis": {
             "endlinecolor": "#2a3f5f",
             "gridcolor": "white",
             "linecolor": "white",
             "minorgridcolor": "white",
             "startlinecolor": "#2a3f5f"
            },
            "baxis": {
             "endlinecolor": "#2a3f5f",
             "gridcolor": "white",
             "linecolor": "white",
             "minorgridcolor": "white",
             "startlinecolor": "#2a3f5f"
            },
            "type": "carpet"
           }
          ],
          "choropleth": [
           {
            "colorbar": {
             "outlinewidth": 0,
             "ticks": ""
            },
            "type": "choropleth"
           }
          ],
          "contour": [
           {
            "colorbar": {
             "outlinewidth": 0,
             "ticks": ""
            },
            "colorscale": [
             [
              0,
              "#0d0887"
             ],
             [
              0.1111111111111111,
              "#46039f"
             ],
             [
              0.2222222222222222,
              "#7201a8"
             ],
             [
              0.3333333333333333,
              "#9c179e"
             ],
             [
              0.4444444444444444,
              "#bd3786"
             ],
             [
              0.5555555555555556,
              "#d8576b"
             ],
             [
              0.6666666666666666,
              "#ed7953"
             ],
             [
              0.7777777777777778,
              "#fb9f3a"
             ],
             [
              0.8888888888888888,
              "#fdca26"
             ],
             [
              1,
              "#f0f921"
             ]
            ],
            "type": "contour"
           }
          ],
          "contourcarpet": [
           {
            "colorbar": {
             "outlinewidth": 0,
             "ticks": ""
            },
            "type": "contourcarpet"
           }
          ],
          "heatmap": [
           {
            "colorbar": {
             "outlinewidth": 0,
             "ticks": ""
            },
            "colorscale": [
             [
              0,
              "#0d0887"
             ],
             [
              0.1111111111111111,
              "#46039f"
             ],
             [
              0.2222222222222222,
              "#7201a8"
             ],
             [
              0.3333333333333333,
              "#9c179e"
             ],
             [
              0.4444444444444444,
              "#bd3786"
             ],
             [
              0.5555555555555556,
              "#d8576b"
             ],
             [
              0.6666666666666666,
              "#ed7953"
             ],
             [
              0.7777777777777778,
              "#fb9f3a"
             ],
             [
              0.8888888888888888,
              "#fdca26"
             ],
             [
              1,
              "#f0f921"
             ]
            ],
            "type": "heatmap"
           }
          ],
          "histogram": [
           {
            "marker": {
             "pattern": {
              "fillmode": "overlay",
              "size": 10,
              "solidity": 0.2
             }
            },
            "type": "histogram"
           }
          ],
          "histogram2d": [
           {
            "colorbar": {
             "outlinewidth": 0,
             "ticks": ""
            },
            "colorscale": [
             [
              0,
              "#0d0887"
             ],
             [
              0.1111111111111111,
              "#46039f"
             ],
             [
              0.2222222222222222,
              "#7201a8"
             ],
             [
              0.3333333333333333,
              "#9c179e"
             ],
             [
              0.4444444444444444,
              "#bd3786"
             ],
             [
              0.5555555555555556,
              "#d8576b"
             ],
             [
              0.6666666666666666,
              "#ed7953"
             ],
             [
              0.7777777777777778,
              "#fb9f3a"
             ],
             [
              0.8888888888888888,
              "#fdca26"
             ],
             [
              1,
              "#f0f921"
             ]
            ],
            "type": "histogram2d"
           }
          ],
          "histogram2dcontour": [
           {
            "colorbar": {
             "outlinewidth": 0,
             "ticks": ""
            },
            "colorscale": [
             [
              0,
              "#0d0887"
             ],
             [
              0.1111111111111111,
              "#46039f"
             ],
             [
              0.2222222222222222,
              "#7201a8"
             ],
             [
              0.3333333333333333,
              "#9c179e"
             ],
             [
              0.4444444444444444,
              "#bd3786"
             ],
             [
              0.5555555555555556,
              "#d8576b"
             ],
             [
              0.6666666666666666,
              "#ed7953"
             ],
             [
              0.7777777777777778,
              "#fb9f3a"
             ],
             [
              0.8888888888888888,
              "#fdca26"
             ],
             [
              1,
              "#f0f921"
             ]
            ],
            "type": "histogram2dcontour"
           }
          ],
          "mesh3d": [
           {
            "colorbar": {
             "outlinewidth": 0,
             "ticks": ""
            },
            "type": "mesh3d"
           }
          ],
          "parcoords": [
           {
            "line": {
             "colorbar": {
              "outlinewidth": 0,
              "ticks": ""
             }
            },
            "type": "parcoords"
           }
          ],
          "pie": [
           {
            "automargin": true,
            "type": "pie"
           }
          ],
          "scatter": [
           {
            "fillpattern": {
             "fillmode": "overlay",
             "size": 10,
             "solidity": 0.2
            },
            "type": "scatter"
           }
          ],
          "scatter3d": [
           {
            "line": {
             "colorbar": {
              "outlinewidth": 0,
              "ticks": ""
             }
            },
            "marker": {
             "colorbar": {
              "outlinewidth": 0,
              "ticks": ""
             }
            },
            "type": "scatter3d"
           }
          ],
          "scattercarpet": [
           {
            "marker": {
             "colorbar": {
              "outlinewidth": 0,
              "ticks": ""
             }
            },
            "type": "scattercarpet"
           }
          ],
          "scattergeo": [
           {
            "marker": {
             "colorbar": {
              "outlinewidth": 0,
              "ticks": ""
             }
            },
            "type": "scattergeo"
           }
          ],
          "scattergl": [
           {
            "marker": {
             "colorbar": {
              "outlinewidth": 0,
              "ticks": ""
             }
            },
            "type": "scattergl"
           }
          ],
          "scattermap": [
           {
            "marker": {
             "colorbar": {
              "outlinewidth": 0,
              "ticks": ""
             }
            },
            "type": "scattermap"
           }
          ],
          "scattermapbox": [
           {
            "marker": {
             "colorbar": {
              "outlinewidth": 0,
              "ticks": ""
             }
            },
            "type": "scattermapbox"
           }
          ],
          "scatterpolar": [
           {
            "marker": {
             "colorbar": {
              "outlinewidth": 0,
              "ticks": ""
             }
            },
            "type": "scatterpolar"
           }
          ],
          "scatterpolargl": [
           {
            "marker": {
             "colorbar": {
              "outlinewidth": 0,
              "ticks": ""
             }
            },
            "type": "scatterpolargl"
           }
          ],
          "scatterternary": [
           {
            "marker": {
             "colorbar": {
              "outlinewidth": 0,
              "ticks": ""
             }
            },
            "type": "scatterternary"
           }
          ],
          "surface": [
           {
            "colorbar": {
             "outlinewidth": 0,
             "ticks": ""
            },
            "colorscale": [
             [
              0,
              "#0d0887"
             ],
             [
              0.1111111111111111,
              "#46039f"
             ],
             [
              0.2222222222222222,
              "#7201a8"
             ],
             [
              0.3333333333333333,
              "#9c179e"
             ],
             [
              0.4444444444444444,
              "#bd3786"
             ],
             [
              0.5555555555555556,
              "#d8576b"
             ],
             [
              0.6666666666666666,
              "#ed7953"
             ],
             [
              0.7777777777777778,
              "#fb9f3a"
             ],
             [
              0.8888888888888888,
              "#fdca26"
             ],
             [
              1,
              "#f0f921"
             ]
            ],
            "type": "surface"
           }
          ],
          "table": [
           {
            "cells": {
             "fill": {
              "color": "#EBF0F8"
             },
             "line": {
              "color": "white"
             }
            },
            "header": {
             "fill": {
              "color": "#C8D4E3"
             },
             "line": {
              "color": "white"
             }
            },
            "type": "table"
           }
          ]
         },
         "layout": {
          "annotationdefaults": {
           "arrowcolor": "#2a3f5f",
           "arrowhead": 0,
           "arrowwidth": 1
          },
          "autotypenumbers": "strict",
          "coloraxis": {
           "colorbar": {
            "outlinewidth": 0,
            "ticks": ""
           }
          },
          "colorscale": {
           "diverging": [
            [
             0,
             "#8e0152"
            ],
            [
             0.1,
             "#c51b7d"
            ],
            [
             0.2,
             "#de77ae"
            ],
            [
             0.3,
             "#f1b6da"
            ],
            [
             0.4,
             "#fde0ef"
            ],
            [
             0.5,
             "#f7f7f7"
            ],
            [
             0.6,
             "#e6f5d0"
            ],
            [
             0.7,
             "#b8e186"
            ],
            [
             0.8,
             "#7fbc41"
            ],
            [
             0.9,
             "#4d9221"
            ],
            [
             1,
             "#276419"
            ]
           ],
           "sequential": [
            [
             0,
             "#0d0887"
            ],
            [
             0.1111111111111111,
             "#46039f"
            ],
            [
             0.2222222222222222,
             "#7201a8"
            ],
            [
             0.3333333333333333,
             "#9c179e"
            ],
            [
             0.4444444444444444,
             "#bd3786"
            ],
            [
             0.5555555555555556,
             "#d8576b"
            ],
            [
             0.6666666666666666,
             "#ed7953"
            ],
            [
             0.7777777777777778,
             "#fb9f3a"
            ],
            [
             0.8888888888888888,
             "#fdca26"
            ],
            [
             1,
             "#f0f921"
            ]
           ],
           "sequentialminus": [
            [
             0,
             "#0d0887"
            ],
            [
             0.1111111111111111,
             "#46039f"
            ],
            [
             0.2222222222222222,
             "#7201a8"
            ],
            [
             0.3333333333333333,
             "#9c179e"
            ],
            [
             0.4444444444444444,
             "#bd3786"
            ],
            [
             0.5555555555555556,
             "#d8576b"
            ],
            [
             0.6666666666666666,
             "#ed7953"
            ],
            [
             0.7777777777777778,
             "#fb9f3a"
            ],
            [
             0.8888888888888888,
             "#fdca26"
            ],
            [
             1,
             "#f0f921"
            ]
           ]
          },
          "colorway": [
           "#636efa",
           "#EF553B",
           "#00cc96",
           "#ab63fa",
           "#FFA15A",
           "#19d3f3",
           "#FF6692",
           "#B6E880",
           "#FF97FF",
           "#FECB52"
          ],
          "font": {
           "color": "#2a3f5f"
          },
          "geo": {
           "bgcolor": "white",
           "lakecolor": "white",
           "landcolor": "#E5ECF6",
           "showlakes": true,
           "showland": true,
           "subunitcolor": "white"
          },
          "hoverlabel": {
           "align": "left"
          },
          "hovermode": "closest",
          "mapbox": {
           "style": "light"
          },
          "paper_bgcolor": "white",
          "plot_bgcolor": "#E5ECF6",
          "polar": {
           "angularaxis": {
            "gridcolor": "white",
            "linecolor": "white",
            "ticks": ""
           },
           "bgcolor": "#E5ECF6",
           "radialaxis": {
            "gridcolor": "white",
            "linecolor": "white",
            "ticks": ""
           }
          },
          "scene": {
           "xaxis": {
            "backgroundcolor": "#E5ECF6",
            "gridcolor": "white",
            "gridwidth": 2,
            "linecolor": "white",
            "showbackground": true,
            "ticks": "",
            "zerolinecolor": "white"
           },
           "yaxis": {
            "backgroundcolor": "#E5ECF6",
            "gridcolor": "white",
            "gridwidth": 2,
            "linecolor": "white",
            "showbackground": true,
            "ticks": "",
            "zerolinecolor": "white"
           },
           "zaxis": {
            "backgroundcolor": "#E5ECF6",
            "gridcolor": "white",
            "gridwidth": 2,
            "linecolor": "white",
            "showbackground": true,
            "ticks": "",
            "zerolinecolor": "white"
           }
          },
          "shapedefaults": {
           "line": {
            "color": "#2a3f5f"
           }
          },
          "ternary": {
           "aaxis": {
            "gridcolor": "white",
            "linecolor": "white",
            "ticks": ""
           },
           "baxis": {
            "gridcolor": "white",
            "linecolor": "white",
            "ticks": ""
           },
           "bgcolor": "#E5ECF6",
           "caxis": {
            "gridcolor": "white",
            "linecolor": "white",
            "ticks": ""
           }
          },
          "title": {
           "x": 0.05
          },
          "xaxis": {
           "automargin": true,
           "gridcolor": "white",
           "linecolor": "white",
           "ticks": "",
           "title": {
            "standoff": 15
           },
           "zerolinecolor": "white",
           "zerolinewidth": 2
          },
          "yaxis": {
           "automargin": true,
           "gridcolor": "white",
           "linecolor": "white",
           "ticks": "",
           "title": {
            "standoff": 15
           },
           "zerolinecolor": "white",
           "zerolinewidth": 2
          }
         }
        },
        "width": 1500
       }
      }
     },
     "metadata": {},
     "output_type": "display_data"
    }
   ],
   "source": [
    "# 1. TODO Defina el número de obras a usar.\n",
    "NUM_OBRAS = 25\n",
    "\n",
    "# ----- DESDE ACÁ EN ADELANTE, NO TOQUE EL CÓDIGO DE ESTÁ CELDA.\n",
    "# . Generar Obras.\n",
    "obras = generar_datos(NUM_OBRAS)\n",
    "visualizar(obras)\n",
    "\n",
    "# . Guardar resultados.\n",
    "resultados = []"
   ]
  },
  {
   "cell_type": "markdown",
   "id": "b63e8d43",
   "metadata": {},
   "source": [
    "## Optimización (MIP)\n",
    "\n",
    "### Formulación\n",
    "\n",
    "#### 1. Conjuntos  \n",
    "$O$: conjunto de obras disponibles.\n",
    "\n",
    "#### 2. Parámetros  \n",
    "$c_i$: costo de ejecución (en millones de pesos) de la obra $i \\in O$  \n",
    "$e_i$: empleos generados (en miles) por la realización de la obra $i \\in O$  \n",
    "$p$: presupuesto total disponible (en millones de pesos)\n",
    "\n",
    "#### 3. Variables de decisión  \n",
    "$$\n",
    "x_i =\n",
    "\\begin{cases}\n",
    "1, & \\text{si la obra } i \\in O \\text{ se lleva a cabo} \\\\\n",
    "0, & \\text{en caso contrario}\n",
    "\\end{cases}\n",
    "$$\n",
    "\n",
    "#### 4. Función objetivo  \n",
    "Maximizar el total de empleos generados:\n",
    "$$\n",
    "\\max \\sum_{i \\in O} e_i \\cdot x_i\n",
    "$$\n",
    "\n",
    "#### 5. Restricciones  \n",
    "\n",
    "**(1) Presupuesto disponible:**  \n",
    "$$\n",
    "\\sum_{i \\in O} c_i \\cdot x_i \\leq p\n",
    "$$\n",
    "\n",
    "**(2) Naturaleza de las variables:**  \n",
    "$$\n",
    "x_i \\in \\{0, 1\\}, \\quad \\forall i \\in O\n",
    "$$\n",
    "\n",
    "Donde:\n",
    "\n",
    "- La restricción (1) garantiza que no se exceda el presupuesto disponible.  \n",
    "- La restricción (2) establece la naturaleza binaria de las variables de decisión.\n"
   ]
  },
  {
   "cell_type": "code",
   "execution_count": null,
   "id": "5a591cd6",
   "metadata": {},
   "outputs": [],
   "source": [
    "# 2. TODO Extraiga los parámetros relevantes desde el DataFrame 'obras' para\n",
    "# construir los insumos del modelo:\n",
    "#   • Conjunto de decisiones\n",
    "#   • Costos (c)\n",
    "#   • Beneficios (empleos generados, e)\n",
    "#   • Presupuesto total disponible\n",
    "\n",
    "# Conjuntos\n",
    "O = list(obras.index)\n",
    "\n",
    "# Parámetros\n",
    "c = dict(obras['Costo de ejecución (en millones de pesos)'])\n",
    "e = dict(obras['# de empleos generados (en miles)'])\n",
    "\n",
    "# ----- DESDE ACÁ EN ADELANTE, NO TOQUE EL CÓDIGO DE ESTÁ CELDA.\n",
    "\n",
    "# . Presupuesto\n",
    "p = min(len(O), 100)"
   ]
  },
  {
   "cell_type": "code",
   "execution_count": null,
   "id": "0443723f",
   "metadata": {},
   "outputs": [],
   "source": [
    "# 3. TODO Complete la siguiente función\n",
    "\n",
    "import pulp as lp\n",
    "\n",
    "def optimizacion_knapsack(O, c, e, p):\n",
    "\n",
    "    # Definir el problema.\n",
    "    model = lp.LpProblem(\"Obras\", lp.LpMaximize)\n",
    "\n",
    "    # Variables de decisión\n",
    "    x = {i: lp.LpVariable(f'x_{i}', lowBound=0, cat=lp.LpBinary) for i in O}\n",
    "\n",
    "    # Función Objetivo\n",
    "    model += lp.lpSum(e[i] * x[i] for i in O)\n",
    "\n",
    "    # Restricciones\n",
    "    # ▸ Presupuesto total\n",
    "    model += lp.lpSum(c[i] * x[i] for i in O) <= p\n",
    "\n",
    "    # ----- DESDE ACÁ EN ADELANTE, NO TOQUE EL CÓDIGO DE ESTÁ CELDA.\n",
    "\n",
    "    # Resolver\n",
    "    solver = lp.getSolver('PULP_CBC_CMD', msg=False)\n",
    "    model.solve(solver)\n",
    "\n",
    "    # Reportar\n",
    "    print(f'El optimizador llegó a una solución: {lp.LpStatus[model.status]}.')\n",
    "    return model, x"
   ]
  },
  {
   "cell_type": "code",
   "execution_count": 115,
   "id": "62ecfa60",
   "metadata": {},
   "outputs": [
    {
     "name": "stdout",
     "output_type": "stream",
     "text": [
      "El optimizador llegó a una solución: Optimal.\n",
      "Objetos seleccionados:\n",
      "  • Obj  6: peso=4.0, valor=13.0\n",
      "  • Obj 11: peso=6.0, valor=11.0\n",
      "  • Obj 12: peso=2.0, valor=10.0\n",
      "  • Obj 13: peso=2.0, valor=6.0\n",
      "  • Obj 15: peso=3.0, valor=12.0\n",
      "  • Obj 16: peso=2.0, valor=7.0\n",
      "  • Obj 21: peso=4.0, valor=13.0\n",
      "  • Obj 24: peso=2.0, valor=13.0\n",
      "FO (valor total):    85.0\n",
      "Presupuesto usado:   25.0/25\n"
     ]
    },
    {
     "data": {
      "application/vnd.plotly.v1+json": {
       "config": {
        "plotlyServerURL": "https://plot.ly"
       },
       "data": [
        {
         "customdata": {
          "bdata": "AAAAAAAAFEAAAAAAAAAIQAAAAAAAACJAAAAAAAAAGEAAAAAAAAAkQAAAAAAAACBAAAAAAAAAHEAAAAAAAAAgQAAAAAAAAABAAAAAAAAAIkAAAAAAAAAiQAAAAAAAABhAAAAAAAAAAEAAAAAAAAAcQAAAAAAAAABAAAAAAAAAGEAAAAAAAAAYQA==",
          "dtype": "f8"
         },
         "hovertemplate": "<b>%{x}</b><br>Empleos: %{y}<br>Costo: %{customdata} millones",
         "marker": {
          "color": "lightgray"
         },
         "type": "bar",
         "x": [
          "Obra_0",
          "Obra_1",
          "Obra_2",
          "Obra_3",
          "Obra_4",
          "Obra_5",
          "Obra_7",
          "Obra_8",
          "Obra_9",
          "Obra_10",
          "Obra_14",
          "Obra_17",
          "Obra_18",
          "Obra_19",
          "Obra_20",
          "Obra_22",
          "Obra_23"
         ],
         "xaxis": "x",
         "y": {
          "bdata": "AAAAAAAAJEAAAAAAAAAUQAAAAAAAABxAAAAAAAAAFEAAAAAAAAAkQAAAAAAAACxAAAAAAAAACEAAAAAAAAAgQAAAAAAAABBAAAAAAAAAKkAAAAAAAAAAQAAAAAAAABBAAAAAAAAACEAAAAAAAAAoQAAAAAAAAAhAAAAAAAAAJEAAAAAAAAAcQA==",
          "dtype": "f8"
         },
         "yaxis": "y"
        },
        {
         "customdata": {
          "bdata": "AAAAAAAAEEAAAAAAAAAYQAAAAAAAAABAAAAAAAAAAEAAAAAAAAAIQAAAAAAAAABAAAAAAAAAEEAAAAAAAAAAQA==",
          "dtype": "f8"
         },
         "hovertemplate": "<b>%{x}</b><br>Empleos: %{y}<br>Costo: %{customdata} millones",
         "marker": {
          "color": "steelblue"
         },
         "type": "bar",
         "x": [
          "Obra_6",
          "Obra_11",
          "Obra_12",
          "Obra_13",
          "Obra_15",
          "Obra_16",
          "Obra_21",
          "Obra_24"
         ],
         "xaxis": "x",
         "y": {
          "bdata": "AAAAAAAAKkAAAAAAAAAmQAAAAAAAACRAAAAAAAAAGEAAAAAAAAAoQAAAAAAAABxAAAAAAAAAKkAAAAAAAAAqQA==",
          "dtype": "f8"
         },
         "yaxis": "y"
        },
        {
         "domain": {
          "x": [
           0.55,
           1
          ],
          "y": [
           0,
           1
          ]
         },
         "gauge": {
          "axis": {
           "range": [
            0,
            25
           ]
          }
         },
         "mode": "gauge+number",
         "number": {
          "font": {
           "size": 40
          },
          "suffix": " / 25"
         },
         "type": "indicator",
         "value": 25
        }
       ],
       "layout": {
        "annotations": [
         {
          "font": {
           "size": 16
          },
          "showarrow": false,
          "text": "Empleos generados<br><sup>FO: 85.0 | Obras: 8</sup>",
          "x": 0.225,
          "xanchor": "center",
          "xref": "paper",
          "y": 1,
          "yanchor": "bottom",
          "yref": "paper"
         }
        ],
        "barmode": "overlay",
        "paper_bgcolor": "white",
        "plot_bgcolor": "white",
        "showlegend": false,
        "template": {
         "data": {
          "bar": [
           {
            "error_x": {
             "color": "#2a3f5f"
            },
            "error_y": {
             "color": "#2a3f5f"
            },
            "marker": {
             "line": {
              "color": "#E5ECF6",
              "width": 0.5
             },
             "pattern": {
              "fillmode": "overlay",
              "size": 10,
              "solidity": 0.2
             }
            },
            "type": "bar"
           }
          ],
          "barpolar": [
           {
            "marker": {
             "line": {
              "color": "#E5ECF6",
              "width": 0.5
             },
             "pattern": {
              "fillmode": "overlay",
              "size": 10,
              "solidity": 0.2
             }
            },
            "type": "barpolar"
           }
          ],
          "carpet": [
           {
            "aaxis": {
             "endlinecolor": "#2a3f5f",
             "gridcolor": "white",
             "linecolor": "white",
             "minorgridcolor": "white",
             "startlinecolor": "#2a3f5f"
            },
            "baxis": {
             "endlinecolor": "#2a3f5f",
             "gridcolor": "white",
             "linecolor": "white",
             "minorgridcolor": "white",
             "startlinecolor": "#2a3f5f"
            },
            "type": "carpet"
           }
          ],
          "choropleth": [
           {
            "colorbar": {
             "outlinewidth": 0,
             "ticks": ""
            },
            "type": "choropleth"
           }
          ],
          "contour": [
           {
            "colorbar": {
             "outlinewidth": 0,
             "ticks": ""
            },
            "colorscale": [
             [
              0,
              "#0d0887"
             ],
             [
              0.1111111111111111,
              "#46039f"
             ],
             [
              0.2222222222222222,
              "#7201a8"
             ],
             [
              0.3333333333333333,
              "#9c179e"
             ],
             [
              0.4444444444444444,
              "#bd3786"
             ],
             [
              0.5555555555555556,
              "#d8576b"
             ],
             [
              0.6666666666666666,
              "#ed7953"
             ],
             [
              0.7777777777777778,
              "#fb9f3a"
             ],
             [
              0.8888888888888888,
              "#fdca26"
             ],
             [
              1,
              "#f0f921"
             ]
            ],
            "type": "contour"
           }
          ],
          "contourcarpet": [
           {
            "colorbar": {
             "outlinewidth": 0,
             "ticks": ""
            },
            "type": "contourcarpet"
           }
          ],
          "heatmap": [
           {
            "colorbar": {
             "outlinewidth": 0,
             "ticks": ""
            },
            "colorscale": [
             [
              0,
              "#0d0887"
             ],
             [
              0.1111111111111111,
              "#46039f"
             ],
             [
              0.2222222222222222,
              "#7201a8"
             ],
             [
              0.3333333333333333,
              "#9c179e"
             ],
             [
              0.4444444444444444,
              "#bd3786"
             ],
             [
              0.5555555555555556,
              "#d8576b"
             ],
             [
              0.6666666666666666,
              "#ed7953"
             ],
             [
              0.7777777777777778,
              "#fb9f3a"
             ],
             [
              0.8888888888888888,
              "#fdca26"
             ],
             [
              1,
              "#f0f921"
             ]
            ],
            "type": "heatmap"
           }
          ],
          "histogram": [
           {
            "marker": {
             "pattern": {
              "fillmode": "overlay",
              "size": 10,
              "solidity": 0.2
             }
            },
            "type": "histogram"
           }
          ],
          "histogram2d": [
           {
            "colorbar": {
             "outlinewidth": 0,
             "ticks": ""
            },
            "colorscale": [
             [
              0,
              "#0d0887"
             ],
             [
              0.1111111111111111,
              "#46039f"
             ],
             [
              0.2222222222222222,
              "#7201a8"
             ],
             [
              0.3333333333333333,
              "#9c179e"
             ],
             [
              0.4444444444444444,
              "#bd3786"
             ],
             [
              0.5555555555555556,
              "#d8576b"
             ],
             [
              0.6666666666666666,
              "#ed7953"
             ],
             [
              0.7777777777777778,
              "#fb9f3a"
             ],
             [
              0.8888888888888888,
              "#fdca26"
             ],
             [
              1,
              "#f0f921"
             ]
            ],
            "type": "histogram2d"
           }
          ],
          "histogram2dcontour": [
           {
            "colorbar": {
             "outlinewidth": 0,
             "ticks": ""
            },
            "colorscale": [
             [
              0,
              "#0d0887"
             ],
             [
              0.1111111111111111,
              "#46039f"
             ],
             [
              0.2222222222222222,
              "#7201a8"
             ],
             [
              0.3333333333333333,
              "#9c179e"
             ],
             [
              0.4444444444444444,
              "#bd3786"
             ],
             [
              0.5555555555555556,
              "#d8576b"
             ],
             [
              0.6666666666666666,
              "#ed7953"
             ],
             [
              0.7777777777777778,
              "#fb9f3a"
             ],
             [
              0.8888888888888888,
              "#fdca26"
             ],
             [
              1,
              "#f0f921"
             ]
            ],
            "type": "histogram2dcontour"
           }
          ],
          "mesh3d": [
           {
            "colorbar": {
             "outlinewidth": 0,
             "ticks": ""
            },
            "type": "mesh3d"
           }
          ],
          "parcoords": [
           {
            "line": {
             "colorbar": {
              "outlinewidth": 0,
              "ticks": ""
             }
            },
            "type": "parcoords"
           }
          ],
          "pie": [
           {
            "automargin": true,
            "type": "pie"
           }
          ],
          "scatter": [
           {
            "fillpattern": {
             "fillmode": "overlay",
             "size": 10,
             "solidity": 0.2
            },
            "type": "scatter"
           }
          ],
          "scatter3d": [
           {
            "line": {
             "colorbar": {
              "outlinewidth": 0,
              "ticks": ""
             }
            },
            "marker": {
             "colorbar": {
              "outlinewidth": 0,
              "ticks": ""
             }
            },
            "type": "scatter3d"
           }
          ],
          "scattercarpet": [
           {
            "marker": {
             "colorbar": {
              "outlinewidth": 0,
              "ticks": ""
             }
            },
            "type": "scattercarpet"
           }
          ],
          "scattergeo": [
           {
            "marker": {
             "colorbar": {
              "outlinewidth": 0,
              "ticks": ""
             }
            },
            "type": "scattergeo"
           }
          ],
          "scattergl": [
           {
            "marker": {
             "colorbar": {
              "outlinewidth": 0,
              "ticks": ""
             }
            },
            "type": "scattergl"
           }
          ],
          "scattermap": [
           {
            "marker": {
             "colorbar": {
              "outlinewidth": 0,
              "ticks": ""
             }
            },
            "type": "scattermap"
           }
          ],
          "scattermapbox": [
           {
            "marker": {
             "colorbar": {
              "outlinewidth": 0,
              "ticks": ""
             }
            },
            "type": "scattermapbox"
           }
          ],
          "scatterpolar": [
           {
            "marker": {
             "colorbar": {
              "outlinewidth": 0,
              "ticks": ""
             }
            },
            "type": "scatterpolar"
           }
          ],
          "scatterpolargl": [
           {
            "marker": {
             "colorbar": {
              "outlinewidth": 0,
              "ticks": ""
             }
            },
            "type": "scatterpolargl"
           }
          ],
          "scatterternary": [
           {
            "marker": {
             "colorbar": {
              "outlinewidth": 0,
              "ticks": ""
             }
            },
            "type": "scatterternary"
           }
          ],
          "surface": [
           {
            "colorbar": {
             "outlinewidth": 0,
             "ticks": ""
            },
            "colorscale": [
             [
              0,
              "#0d0887"
             ],
             [
              0.1111111111111111,
              "#46039f"
             ],
             [
              0.2222222222222222,
              "#7201a8"
             ],
             [
              0.3333333333333333,
              "#9c179e"
             ],
             [
              0.4444444444444444,
              "#bd3786"
             ],
             [
              0.5555555555555556,
              "#d8576b"
             ],
             [
              0.6666666666666666,
              "#ed7953"
             ],
             [
              0.7777777777777778,
              "#fb9f3a"
             ],
             [
              0.8888888888888888,
              "#fdca26"
             ],
             [
              1,
              "#f0f921"
             ]
            ],
            "type": "surface"
           }
          ],
          "table": [
           {
            "cells": {
             "fill": {
              "color": "#EBF0F8"
             },
             "line": {
              "color": "white"
             }
            },
            "header": {
             "fill": {
              "color": "#C8D4E3"
             },
             "line": {
              "color": "white"
             }
            },
            "type": "table"
           }
          ]
         },
         "layout": {
          "annotationdefaults": {
           "arrowcolor": "#2a3f5f",
           "arrowhead": 0,
           "arrowwidth": 1
          },
          "autotypenumbers": "strict",
          "coloraxis": {
           "colorbar": {
            "outlinewidth": 0,
            "ticks": ""
           }
          },
          "colorscale": {
           "diverging": [
            [
             0,
             "#8e0152"
            ],
            [
             0.1,
             "#c51b7d"
            ],
            [
             0.2,
             "#de77ae"
            ],
            [
             0.3,
             "#f1b6da"
            ],
            [
             0.4,
             "#fde0ef"
            ],
            [
             0.5,
             "#f7f7f7"
            ],
            [
             0.6,
             "#e6f5d0"
            ],
            [
             0.7,
             "#b8e186"
            ],
            [
             0.8,
             "#7fbc41"
            ],
            [
             0.9,
             "#4d9221"
            ],
            [
             1,
             "#276419"
            ]
           ],
           "sequential": [
            [
             0,
             "#0d0887"
            ],
            [
             0.1111111111111111,
             "#46039f"
            ],
            [
             0.2222222222222222,
             "#7201a8"
            ],
            [
             0.3333333333333333,
             "#9c179e"
            ],
            [
             0.4444444444444444,
             "#bd3786"
            ],
            [
             0.5555555555555556,
             "#d8576b"
            ],
            [
             0.6666666666666666,
             "#ed7953"
            ],
            [
             0.7777777777777778,
             "#fb9f3a"
            ],
            [
             0.8888888888888888,
             "#fdca26"
            ],
            [
             1,
             "#f0f921"
            ]
           ],
           "sequentialminus": [
            [
             0,
             "#0d0887"
            ],
            [
             0.1111111111111111,
             "#46039f"
            ],
            [
             0.2222222222222222,
             "#7201a8"
            ],
            [
             0.3333333333333333,
             "#9c179e"
            ],
            [
             0.4444444444444444,
             "#bd3786"
            ],
            [
             0.5555555555555556,
             "#d8576b"
            ],
            [
             0.6666666666666666,
             "#ed7953"
            ],
            [
             0.7777777777777778,
             "#fb9f3a"
            ],
            [
             0.8888888888888888,
             "#fdca26"
            ],
            [
             1,
             "#f0f921"
            ]
           ]
          },
          "colorway": [
           "#636efa",
           "#EF553B",
           "#00cc96",
           "#ab63fa",
           "#FFA15A",
           "#19d3f3",
           "#FF6692",
           "#B6E880",
           "#FF97FF",
           "#FECB52"
          ],
          "font": {
           "color": "#2a3f5f"
          },
          "geo": {
           "bgcolor": "white",
           "lakecolor": "white",
           "landcolor": "#E5ECF6",
           "showlakes": true,
           "showland": true,
           "subunitcolor": "white"
          },
          "hoverlabel": {
           "align": "left"
          },
          "hovermode": "closest",
          "mapbox": {
           "style": "light"
          },
          "paper_bgcolor": "white",
          "plot_bgcolor": "#E5ECF6",
          "polar": {
           "angularaxis": {
            "gridcolor": "white",
            "linecolor": "white",
            "ticks": ""
           },
           "bgcolor": "#E5ECF6",
           "radialaxis": {
            "gridcolor": "white",
            "linecolor": "white",
            "ticks": ""
           }
          },
          "scene": {
           "xaxis": {
            "backgroundcolor": "#E5ECF6",
            "gridcolor": "white",
            "gridwidth": 2,
            "linecolor": "white",
            "showbackground": true,
            "ticks": "",
            "zerolinecolor": "white"
           },
           "yaxis": {
            "backgroundcolor": "#E5ECF6",
            "gridcolor": "white",
            "gridwidth": 2,
            "linecolor": "white",
            "showbackground": true,
            "ticks": "",
            "zerolinecolor": "white"
           },
           "zaxis": {
            "backgroundcolor": "#E5ECF6",
            "gridcolor": "white",
            "gridwidth": 2,
            "linecolor": "white",
            "showbackground": true,
            "ticks": "",
            "zerolinecolor": "white"
           }
          },
          "shapedefaults": {
           "line": {
            "color": "#2a3f5f"
           }
          },
          "ternary": {
           "aaxis": {
            "gridcolor": "white",
            "linecolor": "white",
            "ticks": ""
           },
           "baxis": {
            "gridcolor": "white",
            "linecolor": "white",
            "ticks": ""
           },
           "bgcolor": "#E5ECF6",
           "caxis": {
            "gridcolor": "white",
            "linecolor": "white",
            "ticks": ""
           }
          },
          "title": {
           "x": 0.05
          },
          "xaxis": {
           "automargin": true,
           "gridcolor": "white",
           "linecolor": "white",
           "ticks": "",
           "title": {
            "standoff": 15
           },
           "zerolinecolor": "white",
           "zerolinewidth": 2
          },
          "yaxis": {
           "automargin": true,
           "gridcolor": "white",
           "linecolor": "white",
           "ticks": "",
           "title": {
            "standoff": 15
           },
           "zerolinecolor": "white",
           "zerolinewidth": 2
          }
         }
        },
        "xaxis": {
         "anchor": "y",
         "categoryarray": [
          "Obra_0",
          "Obra_1",
          "Obra_2",
          "Obra_3",
          "Obra_4",
          "Obra_5",
          "Obra_6",
          "Obra_7",
          "Obra_8",
          "Obra_9",
          "Obra_10",
          "Obra_11",
          "Obra_12",
          "Obra_13",
          "Obra_14",
          "Obra_15",
          "Obra_16",
          "Obra_17",
          "Obra_18",
          "Obra_19",
          "Obra_20",
          "Obra_21",
          "Obra_22",
          "Obra_23",
          "Obra_24"
         ],
         "categoryorder": "array",
         "domain": [
          0,
          0.45
         ],
         "showgrid": false
        },
        "yaxis": {
         "anchor": "x",
         "domain": [
          0,
          1
         ],
         "showgrid": false
        }
       }
      }
     },
     "metadata": {},
     "output_type": "display_data"
    }
   ],
   "source": [
    "# ----- DESDE ACÁ EN ADELANTE, NO TOQUE EL CÓDIGO DE ESTÁ CELDA.\n",
    "\n",
    "# . Correr el optimizador.\n",
    "start = time.perf_counter()\n",
    "model, x = optimizacion_knapsack(O, c, e, p)\n",
    "end = time.perf_counter()\n",
    "\n",
    "# . Extarer resultados\n",
    "if lp.LpStatus[model.status] == 'Optimal':\n",
    "\n",
    "    obj_lp = round(lp.value(model.objective), 3)                        #   ▸ Función Objetivo\n",
    "    obras_selec_lp = [i for i in O if x[i].varValue == 1]               #   ▸ Obras seleccionadas\n",
    "    presupuesto_usado_lp = round(sum(c[i] for i in obras_selec_lp), 2)  #   ▸ Presupuesto total utilizado\n",
    "    \n",
    "    # Imprimir resultados\n",
    "    print(\"Objetos seleccionados:\")\n",
    "    for idx in obras_selec_lp:\n",
    "        w, v = c[idx], e[idx]\n",
    "        print(f\"  • Obj {idx:>2}: peso={w}, valor={v}\")\n",
    "\n",
    "    print(f\"FO (valor total):    {obj_lp}\")\n",
    "    print(f\"Presupuesto usado:   {presupuesto_usado_lp}/{p}\")\n",
    "\n",
    "    report(obras, obras_selec_lp, obj_lp, presupuesto_usado_lp, p)      #   ▸ Reportar\n",
    "\n",
    "    # . Almacenar resultados\n",
    "    resultados.append({\n",
    "        \"Método\"             : \"LP\",\n",
    "        \"Empleos generados\"  : obj_lp,\n",
    "        \"Obras seleccionadas\": len(obras_selec_lp),\n",
    "        \"Presupuesto usado\"  : presupuesto_usado_lp,\n",
    "        \"Tiempo (s)\"         : end - start\n",
    "    })\n",
    "\n",
    "else:\n",
    "    print(f\"ERROR: Algo quedo mal con el modelo de optimización: {lp.LpStatus[model.status]}\")"
   ]
  },
  {
   "cell_type": "markdown",
   "id": "ed6a4352",
   "metadata": {},
   "source": [
    "## Programación Dinámica"
   ]
  },
  {
   "cell_type": "code",
   "execution_count": null,
   "id": "816a1b17",
   "metadata": {},
   "outputs": [
    {
     "name": "stdout",
     "output_type": "stream",
     "text": [
      "KnapsackEnv(#_Objetos = 25, Capacidad = 25, #_Estados = 676)\n"
     ]
    }
   ],
   "source": [
    "# 4. TODO Mapee cada uno de los siguientes datos usados por el ambiente.\n",
    "\n",
    "weights  = list(c.values())  # pesos de los ítems: costos (millones de COP)\n",
    "values   = list(e.values())  # beneficios de los ítems: empleos (miles)\n",
    "capacity = p                 # capacidad total: presupuesto disponible\n",
    "\n",
    "# ----- DESDE ACÁ EN ADELANTE, NO TOQUE EL CÓDIGO DE ESTÁ CELDA.\n",
    "\n",
    "# . Crear el ambiente\n",
    "env = KnapsackEnv(weights, values, capacity)\n",
    "print(env)"
   ]
  },
  {
   "cell_type": "markdown",
   "id": "b138cd7c",
   "metadata": {},
   "source": [
    "### Policy Evaluation\n",
    "\n",
    "```text\n",
    "# Calcula Vπ para una política fija π\n",
    "# Entradas:\n",
    "#   S          : conjunto de estados\n",
    "#   π(s)       : política dada (acción para cada s)\n",
    "#   p(s',r|s,a): modelo de transición y recompensa\n",
    "#   γ          : factor de descuento (0 ≤ γ ≤ 1)\n",
    "#   θ          : umbral de convergencia\n",
    "# Salida:\n",
    "#   Vπ(s)      : valor esperado para cada estado bajo π\n",
    "# -----------------------------------------------------\n",
    "\n",
    "# Inicialización\n",
    "V(s) ← 0  para todo s ∈ S\n",
    "\n",
    "# Evaluación iterativa\n",
    "repetir\n",
    "    Δ ← 0\n",
    "    para cada estado s ∈ S:\n",
    "        v ← V(s)                                    # valor anterior\n",
    "        a ← π(s)                                    # acción dictada por la política\n",
    "        V(s) ← Σ_{s',r} p(s',r | s,a) · [ r + γ · V(s') ]\n",
    "        Δ ← max(Δ, |v − V(s)|)\n",
    "hasta que Δ < θ\n",
    "\n",
    "return V\n",
    "```"
   ]
  },
  {
   "cell_type": "code",
   "execution_count": null,
   "id": "2dbf494d",
   "metadata": {},
   "outputs": [],
   "source": [
    "# 5. TODO DEFINIR POLÍTICA: Escriba la siguiente política:\n",
    "# Para cada estado s = (i, capacidad restante) la acción: 'take' si está permitida; si no, 'skip'.\n",
    "#       * De ser necesario, explore el ambiente.\n",
    "\n",
    "propose_policy = {s: ('take' if 'take' in env.actions(s) else 'skip') for s in env.state_space()}\n",
    "\n",
    "# ----- DESDE ACÁ EN ADELANTE, NO TOQUE EL CÓDIGO DE ESTÁ CELDA.\n",
    "\n",
    "policy = propose_policy.copy()"
   ]
  },
  {
   "cell_type": "code",
   "execution_count": 118,
   "id": "81051a81",
   "metadata": {},
   "outputs": [
    {
     "name": "stdout",
     "output_type": "stream",
     "text": [
      "Objetos seleccionados:\n",
      "  • Obj  0: peso=5.0, valor=10.0\n",
      "  • Obj  1: peso=3.0, valor=5.0\n",
      "  • Obj  2: peso=9.0, valor=7.0\n",
      "  • Obj  3: peso=6.0, valor=5.0\n",
      "  • Obj  9: peso=2.0, valor=4.0\n",
      "FO (valor total):    31.0\n",
      "Presupuesto usado:   25.0/25\n"
     ]
    },
    {
     "data": {
      "application/vnd.plotly.v1+json": {
       "config": {
        "plotlyServerURL": "https://plot.ly"
       },
       "data": [
        {
         "customdata": {
          "bdata": "AAAAAAAAJEAAAAAAAAAgQAAAAAAAABBAAAAAAAAAHEAAAAAAAAAgQAAAAAAAACJAAAAAAAAAGEAAAAAAAAAAQAAAAAAAAABAAAAAAAAAIkAAAAAAAAAIQAAAAAAAAABAAAAAAAAAGEAAAAAAAAAAQAAAAAAAABxAAAAAAAAAAEAAAAAAAAAQQAAAAAAAABhAAAAAAAAAGEAAAAAAAAAAQA==",
          "dtype": "f8"
         },
         "hovertemplate": "<b>%{x}</b><br>Empleos: %{y}<br>Costo: %{customdata} millones",
         "marker": {
          "color": "lightgray"
         },
         "type": "bar",
         "x": [
          "Obra_4",
          "Obra_5",
          "Obra_6",
          "Obra_7",
          "Obra_8",
          "Obra_10",
          "Obra_11",
          "Obra_12",
          "Obra_13",
          "Obra_14",
          "Obra_15",
          "Obra_16",
          "Obra_17",
          "Obra_18",
          "Obra_19",
          "Obra_20",
          "Obra_21",
          "Obra_22",
          "Obra_23",
          "Obra_24"
         ],
         "xaxis": "x",
         "y": {
          "bdata": "AAAAAAAAJEAAAAAAAAAsQAAAAAAAACpAAAAAAAAACEAAAAAAAAAgQAAAAAAAACpAAAAAAAAAJkAAAAAAAAAkQAAAAAAAABhAAAAAAAAAAEAAAAAAAAAoQAAAAAAAABxAAAAAAAAAEEAAAAAAAAAIQAAAAAAAAChAAAAAAAAACEAAAAAAAAAqQAAAAAAAACRAAAAAAAAAHEAAAAAAAAAqQA==",
          "dtype": "f8"
         },
         "yaxis": "y"
        },
        {
         "customdata": {
          "bdata": "AAAAAAAAFEAAAAAAAAAIQAAAAAAAACJAAAAAAAAAGEAAAAAAAAAAQA==",
          "dtype": "f8"
         },
         "hovertemplate": "<b>%{x}</b><br>Empleos: %{y}<br>Costo: %{customdata} millones",
         "marker": {
          "color": "steelblue"
         },
         "type": "bar",
         "x": [
          "Obra_0",
          "Obra_1",
          "Obra_2",
          "Obra_3",
          "Obra_9"
         ],
         "xaxis": "x",
         "y": {
          "bdata": "AAAAAAAAJEAAAAAAAAAUQAAAAAAAABxAAAAAAAAAFEAAAAAAAAAQQA==",
          "dtype": "f8"
         },
         "yaxis": "y"
        },
        {
         "domain": {
          "x": [
           0.55,
           1
          ],
          "y": [
           0,
           1
          ]
         },
         "gauge": {
          "axis": {
           "range": [
            0,
            25
           ]
          }
         },
         "mode": "gauge+number",
         "number": {
          "font": {
           "size": 40
          },
          "suffix": " / 25"
         },
         "type": "indicator",
         "value": 25
        }
       ],
       "layout": {
        "annotations": [
         {
          "font": {
           "size": 16
          },
          "showarrow": false,
          "text": "Empleos generados<br><sup>FO: 31.0 | Obras: 5</sup>",
          "x": 0.225,
          "xanchor": "center",
          "xref": "paper",
          "y": 1,
          "yanchor": "bottom",
          "yref": "paper"
         }
        ],
        "barmode": "overlay",
        "paper_bgcolor": "white",
        "plot_bgcolor": "white",
        "showlegend": false,
        "template": {
         "data": {
          "bar": [
           {
            "error_x": {
             "color": "#2a3f5f"
            },
            "error_y": {
             "color": "#2a3f5f"
            },
            "marker": {
             "line": {
              "color": "#E5ECF6",
              "width": 0.5
             },
             "pattern": {
              "fillmode": "overlay",
              "size": 10,
              "solidity": 0.2
             }
            },
            "type": "bar"
           }
          ],
          "barpolar": [
           {
            "marker": {
             "line": {
              "color": "#E5ECF6",
              "width": 0.5
             },
             "pattern": {
              "fillmode": "overlay",
              "size": 10,
              "solidity": 0.2
             }
            },
            "type": "barpolar"
           }
          ],
          "carpet": [
           {
            "aaxis": {
             "endlinecolor": "#2a3f5f",
             "gridcolor": "white",
             "linecolor": "white",
             "minorgridcolor": "white",
             "startlinecolor": "#2a3f5f"
            },
            "baxis": {
             "endlinecolor": "#2a3f5f",
             "gridcolor": "white",
             "linecolor": "white",
             "minorgridcolor": "white",
             "startlinecolor": "#2a3f5f"
            },
            "type": "carpet"
           }
          ],
          "choropleth": [
           {
            "colorbar": {
             "outlinewidth": 0,
             "ticks": ""
            },
            "type": "choropleth"
           }
          ],
          "contour": [
           {
            "colorbar": {
             "outlinewidth": 0,
             "ticks": ""
            },
            "colorscale": [
             [
              0,
              "#0d0887"
             ],
             [
              0.1111111111111111,
              "#46039f"
             ],
             [
              0.2222222222222222,
              "#7201a8"
             ],
             [
              0.3333333333333333,
              "#9c179e"
             ],
             [
              0.4444444444444444,
              "#bd3786"
             ],
             [
              0.5555555555555556,
              "#d8576b"
             ],
             [
              0.6666666666666666,
              "#ed7953"
             ],
             [
              0.7777777777777778,
              "#fb9f3a"
             ],
             [
              0.8888888888888888,
              "#fdca26"
             ],
             [
              1,
              "#f0f921"
             ]
            ],
            "type": "contour"
           }
          ],
          "contourcarpet": [
           {
            "colorbar": {
             "outlinewidth": 0,
             "ticks": ""
            },
            "type": "contourcarpet"
           }
          ],
          "heatmap": [
           {
            "colorbar": {
             "outlinewidth": 0,
             "ticks": ""
            },
            "colorscale": [
             [
              0,
              "#0d0887"
             ],
             [
              0.1111111111111111,
              "#46039f"
             ],
             [
              0.2222222222222222,
              "#7201a8"
             ],
             [
              0.3333333333333333,
              "#9c179e"
             ],
             [
              0.4444444444444444,
              "#bd3786"
             ],
             [
              0.5555555555555556,
              "#d8576b"
             ],
             [
              0.6666666666666666,
              "#ed7953"
             ],
             [
              0.7777777777777778,
              "#fb9f3a"
             ],
             [
              0.8888888888888888,
              "#fdca26"
             ],
             [
              1,
              "#f0f921"
             ]
            ],
            "type": "heatmap"
           }
          ],
          "histogram": [
           {
            "marker": {
             "pattern": {
              "fillmode": "overlay",
              "size": 10,
              "solidity": 0.2
             }
            },
            "type": "histogram"
           }
          ],
          "histogram2d": [
           {
            "colorbar": {
             "outlinewidth": 0,
             "ticks": ""
            },
            "colorscale": [
             [
              0,
              "#0d0887"
             ],
             [
              0.1111111111111111,
              "#46039f"
             ],
             [
              0.2222222222222222,
              "#7201a8"
             ],
             [
              0.3333333333333333,
              "#9c179e"
             ],
             [
              0.4444444444444444,
              "#bd3786"
             ],
             [
              0.5555555555555556,
              "#d8576b"
             ],
             [
              0.6666666666666666,
              "#ed7953"
             ],
             [
              0.7777777777777778,
              "#fb9f3a"
             ],
             [
              0.8888888888888888,
              "#fdca26"
             ],
             [
              1,
              "#f0f921"
             ]
            ],
            "type": "histogram2d"
           }
          ],
          "histogram2dcontour": [
           {
            "colorbar": {
             "outlinewidth": 0,
             "ticks": ""
            },
            "colorscale": [
             [
              0,
              "#0d0887"
             ],
             [
              0.1111111111111111,
              "#46039f"
             ],
             [
              0.2222222222222222,
              "#7201a8"
             ],
             [
              0.3333333333333333,
              "#9c179e"
             ],
             [
              0.4444444444444444,
              "#bd3786"
             ],
             [
              0.5555555555555556,
              "#d8576b"
             ],
             [
              0.6666666666666666,
              "#ed7953"
             ],
             [
              0.7777777777777778,
              "#fb9f3a"
             ],
             [
              0.8888888888888888,
              "#fdca26"
             ],
             [
              1,
              "#f0f921"
             ]
            ],
            "type": "histogram2dcontour"
           }
          ],
          "mesh3d": [
           {
            "colorbar": {
             "outlinewidth": 0,
             "ticks": ""
            },
            "type": "mesh3d"
           }
          ],
          "parcoords": [
           {
            "line": {
             "colorbar": {
              "outlinewidth": 0,
              "ticks": ""
             }
            },
            "type": "parcoords"
           }
          ],
          "pie": [
           {
            "automargin": true,
            "type": "pie"
           }
          ],
          "scatter": [
           {
            "fillpattern": {
             "fillmode": "overlay",
             "size": 10,
             "solidity": 0.2
            },
            "type": "scatter"
           }
          ],
          "scatter3d": [
           {
            "line": {
             "colorbar": {
              "outlinewidth": 0,
              "ticks": ""
             }
            },
            "marker": {
             "colorbar": {
              "outlinewidth": 0,
              "ticks": ""
             }
            },
            "type": "scatter3d"
           }
          ],
          "scattercarpet": [
           {
            "marker": {
             "colorbar": {
              "outlinewidth": 0,
              "ticks": ""
             }
            },
            "type": "scattercarpet"
           }
          ],
          "scattergeo": [
           {
            "marker": {
             "colorbar": {
              "outlinewidth": 0,
              "ticks": ""
             }
            },
            "type": "scattergeo"
           }
          ],
          "scattergl": [
           {
            "marker": {
             "colorbar": {
              "outlinewidth": 0,
              "ticks": ""
             }
            },
            "type": "scattergl"
           }
          ],
          "scattermap": [
           {
            "marker": {
             "colorbar": {
              "outlinewidth": 0,
              "ticks": ""
             }
            },
            "type": "scattermap"
           }
          ],
          "scattermapbox": [
           {
            "marker": {
             "colorbar": {
              "outlinewidth": 0,
              "ticks": ""
             }
            },
            "type": "scattermapbox"
           }
          ],
          "scatterpolar": [
           {
            "marker": {
             "colorbar": {
              "outlinewidth": 0,
              "ticks": ""
             }
            },
            "type": "scatterpolar"
           }
          ],
          "scatterpolargl": [
           {
            "marker": {
             "colorbar": {
              "outlinewidth": 0,
              "ticks": ""
             }
            },
            "type": "scatterpolargl"
           }
          ],
          "scatterternary": [
           {
            "marker": {
             "colorbar": {
              "outlinewidth": 0,
              "ticks": ""
             }
            },
            "type": "scatterternary"
           }
          ],
          "surface": [
           {
            "colorbar": {
             "outlinewidth": 0,
             "ticks": ""
            },
            "colorscale": [
             [
              0,
              "#0d0887"
             ],
             [
              0.1111111111111111,
              "#46039f"
             ],
             [
              0.2222222222222222,
              "#7201a8"
             ],
             [
              0.3333333333333333,
              "#9c179e"
             ],
             [
              0.4444444444444444,
              "#bd3786"
             ],
             [
              0.5555555555555556,
              "#d8576b"
             ],
             [
              0.6666666666666666,
              "#ed7953"
             ],
             [
              0.7777777777777778,
              "#fb9f3a"
             ],
             [
              0.8888888888888888,
              "#fdca26"
             ],
             [
              1,
              "#f0f921"
             ]
            ],
            "type": "surface"
           }
          ],
          "table": [
           {
            "cells": {
             "fill": {
              "color": "#EBF0F8"
             },
             "line": {
              "color": "white"
             }
            },
            "header": {
             "fill": {
              "color": "#C8D4E3"
             },
             "line": {
              "color": "white"
             }
            },
            "type": "table"
           }
          ]
         },
         "layout": {
          "annotationdefaults": {
           "arrowcolor": "#2a3f5f",
           "arrowhead": 0,
           "arrowwidth": 1
          },
          "autotypenumbers": "strict",
          "coloraxis": {
           "colorbar": {
            "outlinewidth": 0,
            "ticks": ""
           }
          },
          "colorscale": {
           "diverging": [
            [
             0,
             "#8e0152"
            ],
            [
             0.1,
             "#c51b7d"
            ],
            [
             0.2,
             "#de77ae"
            ],
            [
             0.3,
             "#f1b6da"
            ],
            [
             0.4,
             "#fde0ef"
            ],
            [
             0.5,
             "#f7f7f7"
            ],
            [
             0.6,
             "#e6f5d0"
            ],
            [
             0.7,
             "#b8e186"
            ],
            [
             0.8,
             "#7fbc41"
            ],
            [
             0.9,
             "#4d9221"
            ],
            [
             1,
             "#276419"
            ]
           ],
           "sequential": [
            [
             0,
             "#0d0887"
            ],
            [
             0.1111111111111111,
             "#46039f"
            ],
            [
             0.2222222222222222,
             "#7201a8"
            ],
            [
             0.3333333333333333,
             "#9c179e"
            ],
            [
             0.4444444444444444,
             "#bd3786"
            ],
            [
             0.5555555555555556,
             "#d8576b"
            ],
            [
             0.6666666666666666,
             "#ed7953"
            ],
            [
             0.7777777777777778,
             "#fb9f3a"
            ],
            [
             0.8888888888888888,
             "#fdca26"
            ],
            [
             1,
             "#f0f921"
            ]
           ],
           "sequentialminus": [
            [
             0,
             "#0d0887"
            ],
            [
             0.1111111111111111,
             "#46039f"
            ],
            [
             0.2222222222222222,
             "#7201a8"
            ],
            [
             0.3333333333333333,
             "#9c179e"
            ],
            [
             0.4444444444444444,
             "#bd3786"
            ],
            [
             0.5555555555555556,
             "#d8576b"
            ],
            [
             0.6666666666666666,
             "#ed7953"
            ],
            [
             0.7777777777777778,
             "#fb9f3a"
            ],
            [
             0.8888888888888888,
             "#fdca26"
            ],
            [
             1,
             "#f0f921"
            ]
           ]
          },
          "colorway": [
           "#636efa",
           "#EF553B",
           "#00cc96",
           "#ab63fa",
           "#FFA15A",
           "#19d3f3",
           "#FF6692",
           "#B6E880",
           "#FF97FF",
           "#FECB52"
          ],
          "font": {
           "color": "#2a3f5f"
          },
          "geo": {
           "bgcolor": "white",
           "lakecolor": "white",
           "landcolor": "#E5ECF6",
           "showlakes": true,
           "showland": true,
           "subunitcolor": "white"
          },
          "hoverlabel": {
           "align": "left"
          },
          "hovermode": "closest",
          "mapbox": {
           "style": "light"
          },
          "paper_bgcolor": "white",
          "plot_bgcolor": "#E5ECF6",
          "polar": {
           "angularaxis": {
            "gridcolor": "white",
            "linecolor": "white",
            "ticks": ""
           },
           "bgcolor": "#E5ECF6",
           "radialaxis": {
            "gridcolor": "white",
            "linecolor": "white",
            "ticks": ""
           }
          },
          "scene": {
           "xaxis": {
            "backgroundcolor": "#E5ECF6",
            "gridcolor": "white",
            "gridwidth": 2,
            "linecolor": "white",
            "showbackground": true,
            "ticks": "",
            "zerolinecolor": "white"
           },
           "yaxis": {
            "backgroundcolor": "#E5ECF6",
            "gridcolor": "white",
            "gridwidth": 2,
            "linecolor": "white",
            "showbackground": true,
            "ticks": "",
            "zerolinecolor": "white"
           },
           "zaxis": {
            "backgroundcolor": "#E5ECF6",
            "gridcolor": "white",
            "gridwidth": 2,
            "linecolor": "white",
            "showbackground": true,
            "ticks": "",
            "zerolinecolor": "white"
           }
          },
          "shapedefaults": {
           "line": {
            "color": "#2a3f5f"
           }
          },
          "ternary": {
           "aaxis": {
            "gridcolor": "white",
            "linecolor": "white",
            "ticks": ""
           },
           "baxis": {
            "gridcolor": "white",
            "linecolor": "white",
            "ticks": ""
           },
           "bgcolor": "#E5ECF6",
           "caxis": {
            "gridcolor": "white",
            "linecolor": "white",
            "ticks": ""
           }
          },
          "title": {
           "x": 0.05
          },
          "xaxis": {
           "automargin": true,
           "gridcolor": "white",
           "linecolor": "white",
           "ticks": "",
           "title": {
            "standoff": 15
           },
           "zerolinecolor": "white",
           "zerolinewidth": 2
          },
          "yaxis": {
           "automargin": true,
           "gridcolor": "white",
           "linecolor": "white",
           "ticks": "",
           "title": {
            "standoff": 15
           },
           "zerolinecolor": "white",
           "zerolinewidth": 2
          }
         }
        },
        "xaxis": {
         "anchor": "y",
         "categoryarray": [
          "Obra_0",
          "Obra_1",
          "Obra_2",
          "Obra_3",
          "Obra_4",
          "Obra_5",
          "Obra_6",
          "Obra_7",
          "Obra_8",
          "Obra_9",
          "Obra_10",
          "Obra_11",
          "Obra_12",
          "Obra_13",
          "Obra_14",
          "Obra_15",
          "Obra_16",
          "Obra_17",
          "Obra_18",
          "Obra_19",
          "Obra_20",
          "Obra_21",
          "Obra_22",
          "Obra_23",
          "Obra_24"
         ],
         "categoryorder": "array",
         "domain": [
          0,
          0.45
         ],
         "showgrid": false
        },
        "yaxis": {
         "anchor": "x",
         "domain": [
          0,
          1
         ],
         "showgrid": false
        }
       }
      }
     },
     "metadata": {},
     "output_type": "display_data"
    }
   ],
   "source": [
    "# ----- DESDE ACÁ EN ADELANTE, NO TOQUE EL CÓDIGO DE ESTÁ CELDA.\n",
    "\n",
    "# . Correr\n",
    "t0 = time.perf_counter()\n",
    "V = policy_evaluation(env, propose_policy)\n",
    "elapsed = time.perf_counter() - t0\n",
    "\n",
    "# . Reportar\n",
    "valor_total, objetos_tomados, peso_total = env.report_from_policy(propose_policy)\n",
    "report(obras, objetos_tomados, valor_total, peso_total, p)\n",
    "\n",
    "# . Almacenar resultados\n",
    "resultados.append({\n",
    "    \"Método\"             : \"Policy evaluation\",\n",
    "    \"Empleos generados\"  : round(valor_total, 3),\n",
    "    \"Obras seleccionadas\": len(objetos_tomados),\n",
    "    \"Presupuesto usado\"  : round(peso_total, 2),\n",
    "    \"Tiempo (s)\"         : elapsed\n",
    "})"
   ]
  },
  {
   "cell_type": "markdown",
   "id": "810494f1",
   "metadata": {},
   "source": [
    "### Policy Iteration\n",
    "\n",
    "```text\n",
    "# Alterna evaluación y mejora hasta que la política se estabiliza\n",
    "# Entradas:\n",
    "#   S, A(s), p(s',r|s,a), γ, θ\n",
    "# Salidas:\n",
    "#   π*  : política óptima\n",
    "#   V*  : función de valor óptima\n",
    "# -------------------------------------------\n",
    "\n",
    "# 1. Inicialización\n",
    "π(s) ← acción cualquiera  para todo s ∈ S\n",
    "V(s) ← 0\n",
    "\n",
    "bucle:\n",
    "    # 2. Evaluar la política actual π  (igual que el bloque anterior)\n",
    "    repetir\n",
    "        Δ ← 0\n",
    "        para cada s ∈ S:\n",
    "            v ← V(s)\n",
    "            a ← π(s)\n",
    "            V(s) ← Σ_{s',r} p(s',r | s,a) · [ r + γ · V(s') ]\n",
    "            Δ ← max(Δ, |v − V(s)|)\n",
    "    hasta que Δ < θ\n",
    "\n",
    "    # 3. Mejorar la política\n",
    "    policy_stable ← true\n",
    "    para cada s ∈ S:\n",
    "        old ← π(s)\n",
    "        π(s) ← argmax_a Σ_{s',r} p(s',r | s,a) · [ r + γ · V(s') ]\n",
    "        si old ≠ π(s):\n",
    "            policy_stable ← false\n",
    "\n",
    "    si policy_stable:\n",
    "        break\n",
    "\n",
    "return π, V\n",
    "\n",
    "```"
   ]
  },
  {
   "cell_type": "code",
   "execution_count": 119,
   "id": "28d2b571",
   "metadata": {},
   "outputs": [
    {
     "name": "stdout",
     "output_type": "stream",
     "text": [
      "Objetos seleccionados:\n",
      "  • Obj  6: peso=4.0, valor=13.0\n",
      "  • Obj 11: peso=6.0, valor=11.0\n",
      "  • Obj 12: peso=2.0, valor=10.0\n",
      "  • Obj 13: peso=2.0, valor=6.0\n",
      "  • Obj 15: peso=3.0, valor=12.0\n",
      "  • Obj 16: peso=2.0, valor=7.0\n",
      "  • Obj 21: peso=4.0, valor=13.0\n",
      "  • Obj 24: peso=2.0, valor=13.0\n",
      "FO (valor total):    85.0\n",
      "Presupuesto usado:   25.0/25\n"
     ]
    },
    {
     "data": {
      "application/vnd.plotly.v1+json": {
       "config": {
        "plotlyServerURL": "https://plot.ly"
       },
       "data": [
        {
         "customdata": {
          "bdata": "AAAAAAAAFEAAAAAAAAAIQAAAAAAAACJAAAAAAAAAGEAAAAAAAAAkQAAAAAAAACBAAAAAAAAAHEAAAAAAAAAgQAAAAAAAAABAAAAAAAAAIkAAAAAAAAAiQAAAAAAAABhAAAAAAAAAAEAAAAAAAAAcQAAAAAAAAABAAAAAAAAAGEAAAAAAAAAYQA==",
          "dtype": "f8"
         },
         "hovertemplate": "<b>%{x}</b><br>Empleos: %{y}<br>Costo: %{customdata} millones",
         "marker": {
          "color": "lightgray"
         },
         "type": "bar",
         "x": [
          "Obra_0",
          "Obra_1",
          "Obra_2",
          "Obra_3",
          "Obra_4",
          "Obra_5",
          "Obra_7",
          "Obra_8",
          "Obra_9",
          "Obra_10",
          "Obra_14",
          "Obra_17",
          "Obra_18",
          "Obra_19",
          "Obra_20",
          "Obra_22",
          "Obra_23"
         ],
         "xaxis": "x",
         "y": {
          "bdata": "AAAAAAAAJEAAAAAAAAAUQAAAAAAAABxAAAAAAAAAFEAAAAAAAAAkQAAAAAAAACxAAAAAAAAACEAAAAAAAAAgQAAAAAAAABBAAAAAAAAAKkAAAAAAAAAAQAAAAAAAABBAAAAAAAAACEAAAAAAAAAoQAAAAAAAAAhAAAAAAAAAJEAAAAAAAAAcQA==",
          "dtype": "f8"
         },
         "yaxis": "y"
        },
        {
         "customdata": {
          "bdata": "AAAAAAAAEEAAAAAAAAAYQAAAAAAAAABAAAAAAAAAAEAAAAAAAAAIQAAAAAAAAABAAAAAAAAAEEAAAAAAAAAAQA==",
          "dtype": "f8"
         },
         "hovertemplate": "<b>%{x}</b><br>Empleos: %{y}<br>Costo: %{customdata} millones",
         "marker": {
          "color": "steelblue"
         },
         "type": "bar",
         "x": [
          "Obra_6",
          "Obra_11",
          "Obra_12",
          "Obra_13",
          "Obra_15",
          "Obra_16",
          "Obra_21",
          "Obra_24"
         ],
         "xaxis": "x",
         "y": {
          "bdata": "AAAAAAAAKkAAAAAAAAAmQAAAAAAAACRAAAAAAAAAGEAAAAAAAAAoQAAAAAAAABxAAAAAAAAAKkAAAAAAAAAqQA==",
          "dtype": "f8"
         },
         "yaxis": "y"
        },
        {
         "domain": {
          "x": [
           0.55,
           1
          ],
          "y": [
           0,
           1
          ]
         },
         "gauge": {
          "axis": {
           "range": [
            0,
            25
           ]
          }
         },
         "mode": "gauge+number",
         "number": {
          "font": {
           "size": 40
          },
          "suffix": " / 25"
         },
         "type": "indicator",
         "value": 25
        }
       ],
       "layout": {
        "annotations": [
         {
          "font": {
           "size": 16
          },
          "showarrow": false,
          "text": "Empleos generados<br><sup>FO: 85.0 | Obras: 8</sup>",
          "x": 0.225,
          "xanchor": "center",
          "xref": "paper",
          "y": 1,
          "yanchor": "bottom",
          "yref": "paper"
         }
        ],
        "barmode": "overlay",
        "paper_bgcolor": "white",
        "plot_bgcolor": "white",
        "showlegend": false,
        "template": {
         "data": {
          "bar": [
           {
            "error_x": {
             "color": "#2a3f5f"
            },
            "error_y": {
             "color": "#2a3f5f"
            },
            "marker": {
             "line": {
              "color": "#E5ECF6",
              "width": 0.5
             },
             "pattern": {
              "fillmode": "overlay",
              "size": 10,
              "solidity": 0.2
             }
            },
            "type": "bar"
           }
          ],
          "barpolar": [
           {
            "marker": {
             "line": {
              "color": "#E5ECF6",
              "width": 0.5
             },
             "pattern": {
              "fillmode": "overlay",
              "size": 10,
              "solidity": 0.2
             }
            },
            "type": "barpolar"
           }
          ],
          "carpet": [
           {
            "aaxis": {
             "endlinecolor": "#2a3f5f",
             "gridcolor": "white",
             "linecolor": "white",
             "minorgridcolor": "white",
             "startlinecolor": "#2a3f5f"
            },
            "baxis": {
             "endlinecolor": "#2a3f5f",
             "gridcolor": "white",
             "linecolor": "white",
             "minorgridcolor": "white",
             "startlinecolor": "#2a3f5f"
            },
            "type": "carpet"
           }
          ],
          "choropleth": [
           {
            "colorbar": {
             "outlinewidth": 0,
             "ticks": ""
            },
            "type": "choropleth"
           }
          ],
          "contour": [
           {
            "colorbar": {
             "outlinewidth": 0,
             "ticks": ""
            },
            "colorscale": [
             [
              0,
              "#0d0887"
             ],
             [
              0.1111111111111111,
              "#46039f"
             ],
             [
              0.2222222222222222,
              "#7201a8"
             ],
             [
              0.3333333333333333,
              "#9c179e"
             ],
             [
              0.4444444444444444,
              "#bd3786"
             ],
             [
              0.5555555555555556,
              "#d8576b"
             ],
             [
              0.6666666666666666,
              "#ed7953"
             ],
             [
              0.7777777777777778,
              "#fb9f3a"
             ],
             [
              0.8888888888888888,
              "#fdca26"
             ],
             [
              1,
              "#f0f921"
             ]
            ],
            "type": "contour"
           }
          ],
          "contourcarpet": [
           {
            "colorbar": {
             "outlinewidth": 0,
             "ticks": ""
            },
            "type": "contourcarpet"
           }
          ],
          "heatmap": [
           {
            "colorbar": {
             "outlinewidth": 0,
             "ticks": ""
            },
            "colorscale": [
             [
              0,
              "#0d0887"
             ],
             [
              0.1111111111111111,
              "#46039f"
             ],
             [
              0.2222222222222222,
              "#7201a8"
             ],
             [
              0.3333333333333333,
              "#9c179e"
             ],
             [
              0.4444444444444444,
              "#bd3786"
             ],
             [
              0.5555555555555556,
              "#d8576b"
             ],
             [
              0.6666666666666666,
              "#ed7953"
             ],
             [
              0.7777777777777778,
              "#fb9f3a"
             ],
             [
              0.8888888888888888,
              "#fdca26"
             ],
             [
              1,
              "#f0f921"
             ]
            ],
            "type": "heatmap"
           }
          ],
          "histogram": [
           {
            "marker": {
             "pattern": {
              "fillmode": "overlay",
              "size": 10,
              "solidity": 0.2
             }
            },
            "type": "histogram"
           }
          ],
          "histogram2d": [
           {
            "colorbar": {
             "outlinewidth": 0,
             "ticks": ""
            },
            "colorscale": [
             [
              0,
              "#0d0887"
             ],
             [
              0.1111111111111111,
              "#46039f"
             ],
             [
              0.2222222222222222,
              "#7201a8"
             ],
             [
              0.3333333333333333,
              "#9c179e"
             ],
             [
              0.4444444444444444,
              "#bd3786"
             ],
             [
              0.5555555555555556,
              "#d8576b"
             ],
             [
              0.6666666666666666,
              "#ed7953"
             ],
             [
              0.7777777777777778,
              "#fb9f3a"
             ],
             [
              0.8888888888888888,
              "#fdca26"
             ],
             [
              1,
              "#f0f921"
             ]
            ],
            "type": "histogram2d"
           }
          ],
          "histogram2dcontour": [
           {
            "colorbar": {
             "outlinewidth": 0,
             "ticks": ""
            },
            "colorscale": [
             [
              0,
              "#0d0887"
             ],
             [
              0.1111111111111111,
              "#46039f"
             ],
             [
              0.2222222222222222,
              "#7201a8"
             ],
             [
              0.3333333333333333,
              "#9c179e"
             ],
             [
              0.4444444444444444,
              "#bd3786"
             ],
             [
              0.5555555555555556,
              "#d8576b"
             ],
             [
              0.6666666666666666,
              "#ed7953"
             ],
             [
              0.7777777777777778,
              "#fb9f3a"
             ],
             [
              0.8888888888888888,
              "#fdca26"
             ],
             [
              1,
              "#f0f921"
             ]
            ],
            "type": "histogram2dcontour"
           }
          ],
          "mesh3d": [
           {
            "colorbar": {
             "outlinewidth": 0,
             "ticks": ""
            },
            "type": "mesh3d"
           }
          ],
          "parcoords": [
           {
            "line": {
             "colorbar": {
              "outlinewidth": 0,
              "ticks": ""
             }
            },
            "type": "parcoords"
           }
          ],
          "pie": [
           {
            "automargin": true,
            "type": "pie"
           }
          ],
          "scatter": [
           {
            "fillpattern": {
             "fillmode": "overlay",
             "size": 10,
             "solidity": 0.2
            },
            "type": "scatter"
           }
          ],
          "scatter3d": [
           {
            "line": {
             "colorbar": {
              "outlinewidth": 0,
              "ticks": ""
             }
            },
            "marker": {
             "colorbar": {
              "outlinewidth": 0,
              "ticks": ""
             }
            },
            "type": "scatter3d"
           }
          ],
          "scattercarpet": [
           {
            "marker": {
             "colorbar": {
              "outlinewidth": 0,
              "ticks": ""
             }
            },
            "type": "scattercarpet"
           }
          ],
          "scattergeo": [
           {
            "marker": {
             "colorbar": {
              "outlinewidth": 0,
              "ticks": ""
             }
            },
            "type": "scattergeo"
           }
          ],
          "scattergl": [
           {
            "marker": {
             "colorbar": {
              "outlinewidth": 0,
              "ticks": ""
             }
            },
            "type": "scattergl"
           }
          ],
          "scattermap": [
           {
            "marker": {
             "colorbar": {
              "outlinewidth": 0,
              "ticks": ""
             }
            },
            "type": "scattermap"
           }
          ],
          "scattermapbox": [
           {
            "marker": {
             "colorbar": {
              "outlinewidth": 0,
              "ticks": ""
             }
            },
            "type": "scattermapbox"
           }
          ],
          "scatterpolar": [
           {
            "marker": {
             "colorbar": {
              "outlinewidth": 0,
              "ticks": ""
             }
            },
            "type": "scatterpolar"
           }
          ],
          "scatterpolargl": [
           {
            "marker": {
             "colorbar": {
              "outlinewidth": 0,
              "ticks": ""
             }
            },
            "type": "scatterpolargl"
           }
          ],
          "scatterternary": [
           {
            "marker": {
             "colorbar": {
              "outlinewidth": 0,
              "ticks": ""
             }
            },
            "type": "scatterternary"
           }
          ],
          "surface": [
           {
            "colorbar": {
             "outlinewidth": 0,
             "ticks": ""
            },
            "colorscale": [
             [
              0,
              "#0d0887"
             ],
             [
              0.1111111111111111,
              "#46039f"
             ],
             [
              0.2222222222222222,
              "#7201a8"
             ],
             [
              0.3333333333333333,
              "#9c179e"
             ],
             [
              0.4444444444444444,
              "#bd3786"
             ],
             [
              0.5555555555555556,
              "#d8576b"
             ],
             [
              0.6666666666666666,
              "#ed7953"
             ],
             [
              0.7777777777777778,
              "#fb9f3a"
             ],
             [
              0.8888888888888888,
              "#fdca26"
             ],
             [
              1,
              "#f0f921"
             ]
            ],
            "type": "surface"
           }
          ],
          "table": [
           {
            "cells": {
             "fill": {
              "color": "#EBF0F8"
             },
             "line": {
              "color": "white"
             }
            },
            "header": {
             "fill": {
              "color": "#C8D4E3"
             },
             "line": {
              "color": "white"
             }
            },
            "type": "table"
           }
          ]
         },
         "layout": {
          "annotationdefaults": {
           "arrowcolor": "#2a3f5f",
           "arrowhead": 0,
           "arrowwidth": 1
          },
          "autotypenumbers": "strict",
          "coloraxis": {
           "colorbar": {
            "outlinewidth": 0,
            "ticks": ""
           }
          },
          "colorscale": {
           "diverging": [
            [
             0,
             "#8e0152"
            ],
            [
             0.1,
             "#c51b7d"
            ],
            [
             0.2,
             "#de77ae"
            ],
            [
             0.3,
             "#f1b6da"
            ],
            [
             0.4,
             "#fde0ef"
            ],
            [
             0.5,
             "#f7f7f7"
            ],
            [
             0.6,
             "#e6f5d0"
            ],
            [
             0.7,
             "#b8e186"
            ],
            [
             0.8,
             "#7fbc41"
            ],
            [
             0.9,
             "#4d9221"
            ],
            [
             1,
             "#276419"
            ]
           ],
           "sequential": [
            [
             0,
             "#0d0887"
            ],
            [
             0.1111111111111111,
             "#46039f"
            ],
            [
             0.2222222222222222,
             "#7201a8"
            ],
            [
             0.3333333333333333,
             "#9c179e"
            ],
            [
             0.4444444444444444,
             "#bd3786"
            ],
            [
             0.5555555555555556,
             "#d8576b"
            ],
            [
             0.6666666666666666,
             "#ed7953"
            ],
            [
             0.7777777777777778,
             "#fb9f3a"
            ],
            [
             0.8888888888888888,
             "#fdca26"
            ],
            [
             1,
             "#f0f921"
            ]
           ],
           "sequentialminus": [
            [
             0,
             "#0d0887"
            ],
            [
             0.1111111111111111,
             "#46039f"
            ],
            [
             0.2222222222222222,
             "#7201a8"
            ],
            [
             0.3333333333333333,
             "#9c179e"
            ],
            [
             0.4444444444444444,
             "#bd3786"
            ],
            [
             0.5555555555555556,
             "#d8576b"
            ],
            [
             0.6666666666666666,
             "#ed7953"
            ],
            [
             0.7777777777777778,
             "#fb9f3a"
            ],
            [
             0.8888888888888888,
             "#fdca26"
            ],
            [
             1,
             "#f0f921"
            ]
           ]
          },
          "colorway": [
           "#636efa",
           "#EF553B",
           "#00cc96",
           "#ab63fa",
           "#FFA15A",
           "#19d3f3",
           "#FF6692",
           "#B6E880",
           "#FF97FF",
           "#FECB52"
          ],
          "font": {
           "color": "#2a3f5f"
          },
          "geo": {
           "bgcolor": "white",
           "lakecolor": "white",
           "landcolor": "#E5ECF6",
           "showlakes": true,
           "showland": true,
           "subunitcolor": "white"
          },
          "hoverlabel": {
           "align": "left"
          },
          "hovermode": "closest",
          "mapbox": {
           "style": "light"
          },
          "paper_bgcolor": "white",
          "plot_bgcolor": "#E5ECF6",
          "polar": {
           "angularaxis": {
            "gridcolor": "white",
            "linecolor": "white",
            "ticks": ""
           },
           "bgcolor": "#E5ECF6",
           "radialaxis": {
            "gridcolor": "white",
            "linecolor": "white",
            "ticks": ""
           }
          },
          "scene": {
           "xaxis": {
            "backgroundcolor": "#E5ECF6",
            "gridcolor": "white",
            "gridwidth": 2,
            "linecolor": "white",
            "showbackground": true,
            "ticks": "",
            "zerolinecolor": "white"
           },
           "yaxis": {
            "backgroundcolor": "#E5ECF6",
            "gridcolor": "white",
            "gridwidth": 2,
            "linecolor": "white",
            "showbackground": true,
            "ticks": "",
            "zerolinecolor": "white"
           },
           "zaxis": {
            "backgroundcolor": "#E5ECF6",
            "gridcolor": "white",
            "gridwidth": 2,
            "linecolor": "white",
            "showbackground": true,
            "ticks": "",
            "zerolinecolor": "white"
           }
          },
          "shapedefaults": {
           "line": {
            "color": "#2a3f5f"
           }
          },
          "ternary": {
           "aaxis": {
            "gridcolor": "white",
            "linecolor": "white",
            "ticks": ""
           },
           "baxis": {
            "gridcolor": "white",
            "linecolor": "white",
            "ticks": ""
           },
           "bgcolor": "#E5ECF6",
           "caxis": {
            "gridcolor": "white",
            "linecolor": "white",
            "ticks": ""
           }
          },
          "title": {
           "x": 0.05
          },
          "xaxis": {
           "automargin": true,
           "gridcolor": "white",
           "linecolor": "white",
           "ticks": "",
           "title": {
            "standoff": 15
           },
           "zerolinecolor": "white",
           "zerolinewidth": 2
          },
          "yaxis": {
           "automargin": true,
           "gridcolor": "white",
           "linecolor": "white",
           "ticks": "",
           "title": {
            "standoff": 15
           },
           "zerolinecolor": "white",
           "zerolinewidth": 2
          }
         }
        },
        "xaxis": {
         "anchor": "y",
         "categoryarray": [
          "Obra_0",
          "Obra_1",
          "Obra_2",
          "Obra_3",
          "Obra_4",
          "Obra_5",
          "Obra_6",
          "Obra_7",
          "Obra_8",
          "Obra_9",
          "Obra_10",
          "Obra_11",
          "Obra_12",
          "Obra_13",
          "Obra_14",
          "Obra_15",
          "Obra_16",
          "Obra_17",
          "Obra_18",
          "Obra_19",
          "Obra_20",
          "Obra_21",
          "Obra_22",
          "Obra_23",
          "Obra_24"
         ],
         "categoryorder": "array",
         "domain": [
          0,
          0.45
         ],
         "showgrid": false
        },
        "yaxis": {
         "anchor": "x",
         "domain": [
          0,
          1
         ],
         "showgrid": false
        }
       }
      }
     },
     "metadata": {},
     "output_type": "display_data"
    }
   ],
   "source": [
    "# ----- DESDE ACÁ EN ADELANTE, NO TOQUE EL CÓDIGO DE ESTÁ CELDA.\n",
    "\n",
    "# . Correr\n",
    "t0 = time.perf_counter()\n",
    "star_policy, V_star = policy_iteration(env, policy)\n",
    "elapsed = time.perf_counter() - t0\n",
    "\n",
    "# . Reportar\n",
    "valor_total, objetos_tomados, peso_total = env.report_from_policy(star_policy)\n",
    "report(obras, objetos_tomados, valor_total, peso_total, p)\n",
    "\n",
    "# . Almacenar resultados\n",
    "resultados.append({\n",
    "    \"Método\"             : \"Policy iteration\",\n",
    "    \"Empleos generados\"  : round(valor_total, 3),\n",
    "    \"Obras seleccionadas\": len(objetos_tomados),\n",
    "    \"Presupuesto usado\"  : round(peso_total, 2),\n",
    "    \"Tiempo (s)\"         : elapsed\n",
    "})"
   ]
  },
  {
   "cell_type": "markdown",
   "id": "0d81eb0e",
   "metadata": {},
   "source": [
    "### Value Iteration"
   ]
  },
  {
   "cell_type": "markdown",
   "id": "705e30c1",
   "metadata": {},
   "source": [
    "```text\n",
    "# Aproxima V* directamente y luego deriva π*\n",
    "# Entradas:\n",
    "#   S, A(s), p(s',r|s,a), γ, θ\n",
    "# Salidas:\n",
    "#   π* : política óptima\n",
    "#   V* : función de valor óptima\n",
    "# -------------------------------------------\n",
    "\n",
    "# Fase 1: aproximar V*\n",
    "V(s) ← 0  para todo s ∈ S\n",
    "\n",
    "repetir\n",
    "    Δ ← 0\n",
    "    para cada s ∈ S:\n",
    "        v ← V(s)\n",
    "        V(s) ← max_a Σ_{s',r} p(s',r | s,a) · [ r + γ · V(s') ]\n",
    "        Δ ← max(Δ, |v − V(s)|)\n",
    "hasta que Δ < θ\n",
    "\n",
    "# Fase 2: derivar π* usando V*\n",
    "para cada s ∈ S:\n",
    "    π*(s) ← argmax_a Σ_{s',r} p(s',r | s,a) · [ r + γ · V(s') ]\n",
    "\n",
    "return π*, V\n",
    "```"
   ]
  },
  {
   "cell_type": "code",
   "execution_count": 120,
   "id": "0223d63e",
   "metadata": {},
   "outputs": [
    {
     "name": "stdout",
     "output_type": "stream",
     "text": [
      "Objetos seleccionados:\n",
      "  • Obj  6: peso=4.0, valor=13.0\n",
      "  • Obj 11: peso=6.0, valor=11.0\n",
      "  • Obj 12: peso=2.0, valor=10.0\n",
      "  • Obj 13: peso=2.0, valor=6.0\n",
      "  • Obj 15: peso=3.0, valor=12.0\n",
      "  • Obj 16: peso=2.0, valor=7.0\n",
      "  • Obj 21: peso=4.0, valor=13.0\n",
      "  • Obj 24: peso=2.0, valor=13.0\n",
      "FO (valor total):    85.0\n",
      "Presupuesto usado:   25.0/25\n"
     ]
    },
    {
     "data": {
      "application/vnd.plotly.v1+json": {
       "config": {
        "plotlyServerURL": "https://plot.ly"
       },
       "data": [
        {
         "customdata": {
          "bdata": "AAAAAAAAFEAAAAAAAAAIQAAAAAAAACJAAAAAAAAAGEAAAAAAAAAkQAAAAAAAACBAAAAAAAAAHEAAAAAAAAAgQAAAAAAAAABAAAAAAAAAIkAAAAAAAAAiQAAAAAAAABhAAAAAAAAAAEAAAAAAAAAcQAAAAAAAAABAAAAAAAAAGEAAAAAAAAAYQA==",
          "dtype": "f8"
         },
         "hovertemplate": "<b>%{x}</b><br>Empleos: %{y}<br>Costo: %{customdata} millones",
         "marker": {
          "color": "lightgray"
         },
         "type": "bar",
         "x": [
          "Obra_0",
          "Obra_1",
          "Obra_2",
          "Obra_3",
          "Obra_4",
          "Obra_5",
          "Obra_7",
          "Obra_8",
          "Obra_9",
          "Obra_10",
          "Obra_14",
          "Obra_17",
          "Obra_18",
          "Obra_19",
          "Obra_20",
          "Obra_22",
          "Obra_23"
         ],
         "xaxis": "x",
         "y": {
          "bdata": "AAAAAAAAJEAAAAAAAAAUQAAAAAAAABxAAAAAAAAAFEAAAAAAAAAkQAAAAAAAACxAAAAAAAAACEAAAAAAAAAgQAAAAAAAABBAAAAAAAAAKkAAAAAAAAAAQAAAAAAAABBAAAAAAAAACEAAAAAAAAAoQAAAAAAAAAhAAAAAAAAAJEAAAAAAAAAcQA==",
          "dtype": "f8"
         },
         "yaxis": "y"
        },
        {
         "customdata": {
          "bdata": "AAAAAAAAEEAAAAAAAAAYQAAAAAAAAABAAAAAAAAAAEAAAAAAAAAIQAAAAAAAAABAAAAAAAAAEEAAAAAAAAAAQA==",
          "dtype": "f8"
         },
         "hovertemplate": "<b>%{x}</b><br>Empleos: %{y}<br>Costo: %{customdata} millones",
         "marker": {
          "color": "steelblue"
         },
         "type": "bar",
         "x": [
          "Obra_6",
          "Obra_11",
          "Obra_12",
          "Obra_13",
          "Obra_15",
          "Obra_16",
          "Obra_21",
          "Obra_24"
         ],
         "xaxis": "x",
         "y": {
          "bdata": "AAAAAAAAKkAAAAAAAAAmQAAAAAAAACRAAAAAAAAAGEAAAAAAAAAoQAAAAAAAABxAAAAAAAAAKkAAAAAAAAAqQA==",
          "dtype": "f8"
         },
         "yaxis": "y"
        },
        {
         "domain": {
          "x": [
           0.55,
           1
          ],
          "y": [
           0,
           1
          ]
         },
         "gauge": {
          "axis": {
           "range": [
            0,
            25
           ]
          }
         },
         "mode": "gauge+number",
         "number": {
          "font": {
           "size": 40
          },
          "suffix": " / 25"
         },
         "type": "indicator",
         "value": 25
        }
       ],
       "layout": {
        "annotations": [
         {
          "font": {
           "size": 16
          },
          "showarrow": false,
          "text": "Empleos generados<br><sup>FO: 85.0 | Obras: 8</sup>",
          "x": 0.225,
          "xanchor": "center",
          "xref": "paper",
          "y": 1,
          "yanchor": "bottom",
          "yref": "paper"
         }
        ],
        "barmode": "overlay",
        "paper_bgcolor": "white",
        "plot_bgcolor": "white",
        "showlegend": false,
        "template": {
         "data": {
          "bar": [
           {
            "error_x": {
             "color": "#2a3f5f"
            },
            "error_y": {
             "color": "#2a3f5f"
            },
            "marker": {
             "line": {
              "color": "#E5ECF6",
              "width": 0.5
             },
             "pattern": {
              "fillmode": "overlay",
              "size": 10,
              "solidity": 0.2
             }
            },
            "type": "bar"
           }
          ],
          "barpolar": [
           {
            "marker": {
             "line": {
              "color": "#E5ECF6",
              "width": 0.5
             },
             "pattern": {
              "fillmode": "overlay",
              "size": 10,
              "solidity": 0.2
             }
            },
            "type": "barpolar"
           }
          ],
          "carpet": [
           {
            "aaxis": {
             "endlinecolor": "#2a3f5f",
             "gridcolor": "white",
             "linecolor": "white",
             "minorgridcolor": "white",
             "startlinecolor": "#2a3f5f"
            },
            "baxis": {
             "endlinecolor": "#2a3f5f",
             "gridcolor": "white",
             "linecolor": "white",
             "minorgridcolor": "white",
             "startlinecolor": "#2a3f5f"
            },
            "type": "carpet"
           }
          ],
          "choropleth": [
           {
            "colorbar": {
             "outlinewidth": 0,
             "ticks": ""
            },
            "type": "choropleth"
           }
          ],
          "contour": [
           {
            "colorbar": {
             "outlinewidth": 0,
             "ticks": ""
            },
            "colorscale": [
             [
              0,
              "#0d0887"
             ],
             [
              0.1111111111111111,
              "#46039f"
             ],
             [
              0.2222222222222222,
              "#7201a8"
             ],
             [
              0.3333333333333333,
              "#9c179e"
             ],
             [
              0.4444444444444444,
              "#bd3786"
             ],
             [
              0.5555555555555556,
              "#d8576b"
             ],
             [
              0.6666666666666666,
              "#ed7953"
             ],
             [
              0.7777777777777778,
              "#fb9f3a"
             ],
             [
              0.8888888888888888,
              "#fdca26"
             ],
             [
              1,
              "#f0f921"
             ]
            ],
            "type": "contour"
           }
          ],
          "contourcarpet": [
           {
            "colorbar": {
             "outlinewidth": 0,
             "ticks": ""
            },
            "type": "contourcarpet"
           }
          ],
          "heatmap": [
           {
            "colorbar": {
             "outlinewidth": 0,
             "ticks": ""
            },
            "colorscale": [
             [
              0,
              "#0d0887"
             ],
             [
              0.1111111111111111,
              "#46039f"
             ],
             [
              0.2222222222222222,
              "#7201a8"
             ],
             [
              0.3333333333333333,
              "#9c179e"
             ],
             [
              0.4444444444444444,
              "#bd3786"
             ],
             [
              0.5555555555555556,
              "#d8576b"
             ],
             [
              0.6666666666666666,
              "#ed7953"
             ],
             [
              0.7777777777777778,
              "#fb9f3a"
             ],
             [
              0.8888888888888888,
              "#fdca26"
             ],
             [
              1,
              "#f0f921"
             ]
            ],
            "type": "heatmap"
           }
          ],
          "histogram": [
           {
            "marker": {
             "pattern": {
              "fillmode": "overlay",
              "size": 10,
              "solidity": 0.2
             }
            },
            "type": "histogram"
           }
          ],
          "histogram2d": [
           {
            "colorbar": {
             "outlinewidth": 0,
             "ticks": ""
            },
            "colorscale": [
             [
              0,
              "#0d0887"
             ],
             [
              0.1111111111111111,
              "#46039f"
             ],
             [
              0.2222222222222222,
              "#7201a8"
             ],
             [
              0.3333333333333333,
              "#9c179e"
             ],
             [
              0.4444444444444444,
              "#bd3786"
             ],
             [
              0.5555555555555556,
              "#d8576b"
             ],
             [
              0.6666666666666666,
              "#ed7953"
             ],
             [
              0.7777777777777778,
              "#fb9f3a"
             ],
             [
              0.8888888888888888,
              "#fdca26"
             ],
             [
              1,
              "#f0f921"
             ]
            ],
            "type": "histogram2d"
           }
          ],
          "histogram2dcontour": [
           {
            "colorbar": {
             "outlinewidth": 0,
             "ticks": ""
            },
            "colorscale": [
             [
              0,
              "#0d0887"
             ],
             [
              0.1111111111111111,
              "#46039f"
             ],
             [
              0.2222222222222222,
              "#7201a8"
             ],
             [
              0.3333333333333333,
              "#9c179e"
             ],
             [
              0.4444444444444444,
              "#bd3786"
             ],
             [
              0.5555555555555556,
              "#d8576b"
             ],
             [
              0.6666666666666666,
              "#ed7953"
             ],
             [
              0.7777777777777778,
              "#fb9f3a"
             ],
             [
              0.8888888888888888,
              "#fdca26"
             ],
             [
              1,
              "#f0f921"
             ]
            ],
            "type": "histogram2dcontour"
           }
          ],
          "mesh3d": [
           {
            "colorbar": {
             "outlinewidth": 0,
             "ticks": ""
            },
            "type": "mesh3d"
           }
          ],
          "parcoords": [
           {
            "line": {
             "colorbar": {
              "outlinewidth": 0,
              "ticks": ""
             }
            },
            "type": "parcoords"
           }
          ],
          "pie": [
           {
            "automargin": true,
            "type": "pie"
           }
          ],
          "scatter": [
           {
            "fillpattern": {
             "fillmode": "overlay",
             "size": 10,
             "solidity": 0.2
            },
            "type": "scatter"
           }
          ],
          "scatter3d": [
           {
            "line": {
             "colorbar": {
              "outlinewidth": 0,
              "ticks": ""
             }
            },
            "marker": {
             "colorbar": {
              "outlinewidth": 0,
              "ticks": ""
             }
            },
            "type": "scatter3d"
           }
          ],
          "scattercarpet": [
           {
            "marker": {
             "colorbar": {
              "outlinewidth": 0,
              "ticks": ""
             }
            },
            "type": "scattercarpet"
           }
          ],
          "scattergeo": [
           {
            "marker": {
             "colorbar": {
              "outlinewidth": 0,
              "ticks": ""
             }
            },
            "type": "scattergeo"
           }
          ],
          "scattergl": [
           {
            "marker": {
             "colorbar": {
              "outlinewidth": 0,
              "ticks": ""
             }
            },
            "type": "scattergl"
           }
          ],
          "scattermap": [
           {
            "marker": {
             "colorbar": {
              "outlinewidth": 0,
              "ticks": ""
             }
            },
            "type": "scattermap"
           }
          ],
          "scattermapbox": [
           {
            "marker": {
             "colorbar": {
              "outlinewidth": 0,
              "ticks": ""
             }
            },
            "type": "scattermapbox"
           }
          ],
          "scatterpolar": [
           {
            "marker": {
             "colorbar": {
              "outlinewidth": 0,
              "ticks": ""
             }
            },
            "type": "scatterpolar"
           }
          ],
          "scatterpolargl": [
           {
            "marker": {
             "colorbar": {
              "outlinewidth": 0,
              "ticks": ""
             }
            },
            "type": "scatterpolargl"
           }
          ],
          "scatterternary": [
           {
            "marker": {
             "colorbar": {
              "outlinewidth": 0,
              "ticks": ""
             }
            },
            "type": "scatterternary"
           }
          ],
          "surface": [
           {
            "colorbar": {
             "outlinewidth": 0,
             "ticks": ""
            },
            "colorscale": [
             [
              0,
              "#0d0887"
             ],
             [
              0.1111111111111111,
              "#46039f"
             ],
             [
              0.2222222222222222,
              "#7201a8"
             ],
             [
              0.3333333333333333,
              "#9c179e"
             ],
             [
              0.4444444444444444,
              "#bd3786"
             ],
             [
              0.5555555555555556,
              "#d8576b"
             ],
             [
              0.6666666666666666,
              "#ed7953"
             ],
             [
              0.7777777777777778,
              "#fb9f3a"
             ],
             [
              0.8888888888888888,
              "#fdca26"
             ],
             [
              1,
              "#f0f921"
             ]
            ],
            "type": "surface"
           }
          ],
          "table": [
           {
            "cells": {
             "fill": {
              "color": "#EBF0F8"
             },
             "line": {
              "color": "white"
             }
            },
            "header": {
             "fill": {
              "color": "#C8D4E3"
             },
             "line": {
              "color": "white"
             }
            },
            "type": "table"
           }
          ]
         },
         "layout": {
          "annotationdefaults": {
           "arrowcolor": "#2a3f5f",
           "arrowhead": 0,
           "arrowwidth": 1
          },
          "autotypenumbers": "strict",
          "coloraxis": {
           "colorbar": {
            "outlinewidth": 0,
            "ticks": ""
           }
          },
          "colorscale": {
           "diverging": [
            [
             0,
             "#8e0152"
            ],
            [
             0.1,
             "#c51b7d"
            ],
            [
             0.2,
             "#de77ae"
            ],
            [
             0.3,
             "#f1b6da"
            ],
            [
             0.4,
             "#fde0ef"
            ],
            [
             0.5,
             "#f7f7f7"
            ],
            [
             0.6,
             "#e6f5d0"
            ],
            [
             0.7,
             "#b8e186"
            ],
            [
             0.8,
             "#7fbc41"
            ],
            [
             0.9,
             "#4d9221"
            ],
            [
             1,
             "#276419"
            ]
           ],
           "sequential": [
            [
             0,
             "#0d0887"
            ],
            [
             0.1111111111111111,
             "#46039f"
            ],
            [
             0.2222222222222222,
             "#7201a8"
            ],
            [
             0.3333333333333333,
             "#9c179e"
            ],
            [
             0.4444444444444444,
             "#bd3786"
            ],
            [
             0.5555555555555556,
             "#d8576b"
            ],
            [
             0.6666666666666666,
             "#ed7953"
            ],
            [
             0.7777777777777778,
             "#fb9f3a"
            ],
            [
             0.8888888888888888,
             "#fdca26"
            ],
            [
             1,
             "#f0f921"
            ]
           ],
           "sequentialminus": [
            [
             0,
             "#0d0887"
            ],
            [
             0.1111111111111111,
             "#46039f"
            ],
            [
             0.2222222222222222,
             "#7201a8"
            ],
            [
             0.3333333333333333,
             "#9c179e"
            ],
            [
             0.4444444444444444,
             "#bd3786"
            ],
            [
             0.5555555555555556,
             "#d8576b"
            ],
            [
             0.6666666666666666,
             "#ed7953"
            ],
            [
             0.7777777777777778,
             "#fb9f3a"
            ],
            [
             0.8888888888888888,
             "#fdca26"
            ],
            [
             1,
             "#f0f921"
            ]
           ]
          },
          "colorway": [
           "#636efa",
           "#EF553B",
           "#00cc96",
           "#ab63fa",
           "#FFA15A",
           "#19d3f3",
           "#FF6692",
           "#B6E880",
           "#FF97FF",
           "#FECB52"
          ],
          "font": {
           "color": "#2a3f5f"
          },
          "geo": {
           "bgcolor": "white",
           "lakecolor": "white",
           "landcolor": "#E5ECF6",
           "showlakes": true,
           "showland": true,
           "subunitcolor": "white"
          },
          "hoverlabel": {
           "align": "left"
          },
          "hovermode": "closest",
          "mapbox": {
           "style": "light"
          },
          "paper_bgcolor": "white",
          "plot_bgcolor": "#E5ECF6",
          "polar": {
           "angularaxis": {
            "gridcolor": "white",
            "linecolor": "white",
            "ticks": ""
           },
           "bgcolor": "#E5ECF6",
           "radialaxis": {
            "gridcolor": "white",
            "linecolor": "white",
            "ticks": ""
           }
          },
          "scene": {
           "xaxis": {
            "backgroundcolor": "#E5ECF6",
            "gridcolor": "white",
            "gridwidth": 2,
            "linecolor": "white",
            "showbackground": true,
            "ticks": "",
            "zerolinecolor": "white"
           },
           "yaxis": {
            "backgroundcolor": "#E5ECF6",
            "gridcolor": "white",
            "gridwidth": 2,
            "linecolor": "white",
            "showbackground": true,
            "ticks": "",
            "zerolinecolor": "white"
           },
           "zaxis": {
            "backgroundcolor": "#E5ECF6",
            "gridcolor": "white",
            "gridwidth": 2,
            "linecolor": "white",
            "showbackground": true,
            "ticks": "",
            "zerolinecolor": "white"
           }
          },
          "shapedefaults": {
           "line": {
            "color": "#2a3f5f"
           }
          },
          "ternary": {
           "aaxis": {
            "gridcolor": "white",
            "linecolor": "white",
            "ticks": ""
           },
           "baxis": {
            "gridcolor": "white",
            "linecolor": "white",
            "ticks": ""
           },
           "bgcolor": "#E5ECF6",
           "caxis": {
            "gridcolor": "white",
            "linecolor": "white",
            "ticks": ""
           }
          },
          "title": {
           "x": 0.05
          },
          "xaxis": {
           "automargin": true,
           "gridcolor": "white",
           "linecolor": "white",
           "ticks": "",
           "title": {
            "standoff": 15
           },
           "zerolinecolor": "white",
           "zerolinewidth": 2
          },
          "yaxis": {
           "automargin": true,
           "gridcolor": "white",
           "linecolor": "white",
           "ticks": "",
           "title": {
            "standoff": 15
           },
           "zerolinecolor": "white",
           "zerolinewidth": 2
          }
         }
        },
        "xaxis": {
         "anchor": "y",
         "categoryarray": [
          "Obra_0",
          "Obra_1",
          "Obra_2",
          "Obra_3",
          "Obra_4",
          "Obra_5",
          "Obra_6",
          "Obra_7",
          "Obra_8",
          "Obra_9",
          "Obra_10",
          "Obra_11",
          "Obra_12",
          "Obra_13",
          "Obra_14",
          "Obra_15",
          "Obra_16",
          "Obra_17",
          "Obra_18",
          "Obra_19",
          "Obra_20",
          "Obra_21",
          "Obra_22",
          "Obra_23",
          "Obra_24"
         ],
         "categoryorder": "array",
         "domain": [
          0,
          0.45
         ],
         "showgrid": false
        },
        "yaxis": {
         "anchor": "x",
         "domain": [
          0,
          1
         ],
         "showgrid": false
        }
       }
      }
     },
     "metadata": {},
     "output_type": "display_data"
    }
   ],
   "source": [
    "# ----- DESDE ACÁ EN ADELANTE, NO TOQUE EL CÓDIGO DE ESTÁ CELDA.\n",
    "\n",
    "# . Correr\n",
    "t0 = time.perf_counter()\n",
    "opt_policy, V_opt = value_iteration(env)\n",
    "elapsed = time.perf_counter() - t0\n",
    "\n",
    "# . Reportar\n",
    "valor_total, objetos_tomados, peso_total = env.report_from_policy(opt_policy)\n",
    "report(obras, objetos_tomados, valor_total, peso_total, p)\n",
    "\n",
    "# . Almacenar resultados\n",
    "resultados.append({\n",
    "    \"Método\"             : \"Value iteration\",\n",
    "    \"Empleos generados\"  : round(valor_total, 3),\n",
    "    \"Obras seleccionadas\": len(objetos_tomados),\n",
    "    \"Presupuesto usado\"  : round(peso_total, 2),\n",
    "    \"Tiempo (s)\"         : elapsed\n",
    "})"
   ]
  },
  {
   "cell_type": "markdown",
   "id": "5f06ba10",
   "metadata": {},
   "source": [
    "## Heurísticas"
   ]
  },
  {
   "cell_type": "markdown",
   "id": "6cb7400a",
   "metadata": {},
   "source": [
    "#### Greedy\n",
    "\n",
    "```text\n",
    "# ENTRADAS -------------------------------------------------\n",
    "#   C               : conjunto de todos los candidatos.\n",
    "#   es_factible(s,c): True si añadir c a la solución parcial s sin violar las #                       restricciones del problema.\n",
    "#   criterio(c)     : puntuación de prioridad (cuanto mayor, mejor).\n",
    "#   objetivo(s)     : función que evalúa la solución final s.\n",
    "#\n",
    "# SALIDAS  -----------------------------------------------\n",
    "#   sol             : subconjunto final de candidatos elegidos.\n",
    "#   valor_objetivo  : objetivo(sol).\n",
    "# --------------------------------------------------------\n",
    "\n",
    "# 1. Inicializar solución vacía\n",
    "sol ← ∅\n",
    "\n",
    "# 2. Ordenar candidatos por prioridad (descendente)\n",
    "C_ordenado ← ordenar( C ,   por = criterio ,   modo = 'desc' )\n",
    "\n",
    "# 3. Recorrer la lista ordenada e ir añadiendo si es factible\n",
    "para cada candidato c en C_ordenado:\n",
    "    si es_factible( sol , c ):\n",
    "        sol ← sol ∪ { c }\n",
    "\n",
    "# 4. Calcular el valor de la solución\n",
    "valor_objetivo ← objetivo( sol )\n",
    "\n",
    "# 5. Devolver solución y su valor\n",
    "return sol , valor_objetivo\n",
    "\n",
    "```\n"
   ]
  },
  {
   "cell_type": "code",
   "execution_count": null,
   "id": "0d03993e",
   "metadata": {},
   "outputs": [],
   "source": [
    "# 6. TODO Complete la función.\n",
    "\n",
    "def greedy_knapsack(O, c, e, p, criterio):\n",
    "\n",
    "    # Inicializar\n",
    "    presupuesto_actual = 0.0\n",
    "    obras_selec_greedy = []\n",
    "\n",
    "    # Ordenar según criterio\n",
    "    obras_ordenadas = sorted(O, key=lambda i: criterio[i], reverse=True)\n",
    "\n",
    "    # Añadir si es factible\n",
    "    for i in obras_ordenadas:\n",
    "        if presupuesto_actual + c[i] <= p:\n",
    "            obras_selec_greedy.append(i)\n",
    "            presupuesto_actual += c[i]\n",
    "\n",
    "    # Resultados\n",
    "    obj_greedy = round(sum(e[i] for i in obras_selec_greedy), 2)\n",
    "    presupuesto_usado_greedy = round(presupuesto_actual, 2)\n",
    "\n",
    "    # ----- DESDE ACÁ EN ADELANTE, NO TOQUE EL CÓDIGO DE ESTÁ CELDA.\n",
    "\n",
    "    # Devolver\n",
    "    return obj_greedy, obras_selec_greedy, presupuesto_usado_greedy\n"
   ]
  },
  {
   "cell_type": "code",
   "execution_count": 122,
   "id": "02446173",
   "metadata": {},
   "outputs": [
    {
     "name": "stdout",
     "output_type": "stream",
     "text": [
      "Objetos seleccionados:\n",
      "  • Obj  5: peso=8.0, valor=14.0\n",
      "  • Obj  6: peso=4.0, valor=13.0\n",
      "  • Obj 10: peso=9.0, valor=13.0\n",
      "  • Obj 21: peso=4.0, valor=13.0\n",
      "FO (valor total):    53.0\n",
      "Presupuesto usado:   25.0/25\n"
     ]
    },
    {
     "data": {
      "application/vnd.plotly.v1+json": {
       "config": {
        "plotlyServerURL": "https://plot.ly"
       },
       "data": [
        {
         "customdata": {
          "bdata": "AAAAAAAAFEAAAAAAAAAIQAAAAAAAACJAAAAAAAAAGEAAAAAAAAAkQAAAAAAAABxAAAAAAAAAIEAAAAAAAAAAQAAAAAAAABhAAAAAAAAAAEAAAAAAAAAAQAAAAAAAACJAAAAAAAAACEAAAAAAAAAAQAAAAAAAABhAAAAAAAAAAEAAAAAAAAAcQAAAAAAAAABAAAAAAAAAGEAAAAAAAAAYQAAAAAAAAABA",
          "dtype": "f8"
         },
         "hovertemplate": "<b>%{x}</b><br>Empleos: %{y}<br>Costo: %{customdata} millones",
         "marker": {
          "color": "lightgray"
         },
         "type": "bar",
         "x": [
          "Obra_0",
          "Obra_1",
          "Obra_2",
          "Obra_3",
          "Obra_4",
          "Obra_7",
          "Obra_8",
          "Obra_9",
          "Obra_11",
          "Obra_12",
          "Obra_13",
          "Obra_14",
          "Obra_15",
          "Obra_16",
          "Obra_17",
          "Obra_18",
          "Obra_19",
          "Obra_20",
          "Obra_22",
          "Obra_23",
          "Obra_24"
         ],
         "xaxis": "x",
         "y": {
          "bdata": "AAAAAAAAJEAAAAAAAAAUQAAAAAAAABxAAAAAAAAAFEAAAAAAAAAkQAAAAAAAAAhAAAAAAAAAIEAAAAAAAAAQQAAAAAAAACZAAAAAAAAAJEAAAAAAAAAYQAAAAAAAAABAAAAAAAAAKEAAAAAAAAAcQAAAAAAAABBAAAAAAAAACEAAAAAAAAAoQAAAAAAAAAhAAAAAAAAAJEAAAAAAAAAcQAAAAAAAACpA",
          "dtype": "f8"
         },
         "yaxis": "y"
        },
        {
         "customdata": {
          "bdata": "AAAAAAAAIEAAAAAAAAAQQAAAAAAAACJAAAAAAAAAEEA=",
          "dtype": "f8"
         },
         "hovertemplate": "<b>%{x}</b><br>Empleos: %{y}<br>Costo: %{customdata} millones",
         "marker": {
          "color": "steelblue"
         },
         "type": "bar",
         "x": [
          "Obra_5",
          "Obra_6",
          "Obra_10",
          "Obra_21"
         ],
         "xaxis": "x",
         "y": {
          "bdata": "AAAAAAAALEAAAAAAAAAqQAAAAAAAACpAAAAAAAAAKkA=",
          "dtype": "f8"
         },
         "yaxis": "y"
        },
        {
         "domain": {
          "x": [
           0.55,
           1
          ],
          "y": [
           0,
           1
          ]
         },
         "gauge": {
          "axis": {
           "range": [
            0,
            25
           ]
          }
         },
         "mode": "gauge+number",
         "number": {
          "font": {
           "size": 40
          },
          "suffix": " / 25"
         },
         "type": "indicator",
         "value": 25
        }
       ],
       "layout": {
        "annotations": [
         {
          "font": {
           "size": 16
          },
          "showarrow": false,
          "text": "Empleos generados<br><sup>FO: 53.0 | Obras: 4</sup>",
          "x": 0.225,
          "xanchor": "center",
          "xref": "paper",
          "y": 1,
          "yanchor": "bottom",
          "yref": "paper"
         }
        ],
        "barmode": "overlay",
        "paper_bgcolor": "white",
        "plot_bgcolor": "white",
        "showlegend": false,
        "template": {
         "data": {
          "bar": [
           {
            "error_x": {
             "color": "#2a3f5f"
            },
            "error_y": {
             "color": "#2a3f5f"
            },
            "marker": {
             "line": {
              "color": "#E5ECF6",
              "width": 0.5
             },
             "pattern": {
              "fillmode": "overlay",
              "size": 10,
              "solidity": 0.2
             }
            },
            "type": "bar"
           }
          ],
          "barpolar": [
           {
            "marker": {
             "line": {
              "color": "#E5ECF6",
              "width": 0.5
             },
             "pattern": {
              "fillmode": "overlay",
              "size": 10,
              "solidity": 0.2
             }
            },
            "type": "barpolar"
           }
          ],
          "carpet": [
           {
            "aaxis": {
             "endlinecolor": "#2a3f5f",
             "gridcolor": "white",
             "linecolor": "white",
             "minorgridcolor": "white",
             "startlinecolor": "#2a3f5f"
            },
            "baxis": {
             "endlinecolor": "#2a3f5f",
             "gridcolor": "white",
             "linecolor": "white",
             "minorgridcolor": "white",
             "startlinecolor": "#2a3f5f"
            },
            "type": "carpet"
           }
          ],
          "choropleth": [
           {
            "colorbar": {
             "outlinewidth": 0,
             "ticks": ""
            },
            "type": "choropleth"
           }
          ],
          "contour": [
           {
            "colorbar": {
             "outlinewidth": 0,
             "ticks": ""
            },
            "colorscale": [
             [
              0,
              "#0d0887"
             ],
             [
              0.1111111111111111,
              "#46039f"
             ],
             [
              0.2222222222222222,
              "#7201a8"
             ],
             [
              0.3333333333333333,
              "#9c179e"
             ],
             [
              0.4444444444444444,
              "#bd3786"
             ],
             [
              0.5555555555555556,
              "#d8576b"
             ],
             [
              0.6666666666666666,
              "#ed7953"
             ],
             [
              0.7777777777777778,
              "#fb9f3a"
             ],
             [
              0.8888888888888888,
              "#fdca26"
             ],
             [
              1,
              "#f0f921"
             ]
            ],
            "type": "contour"
           }
          ],
          "contourcarpet": [
           {
            "colorbar": {
             "outlinewidth": 0,
             "ticks": ""
            },
            "type": "contourcarpet"
           }
          ],
          "heatmap": [
           {
            "colorbar": {
             "outlinewidth": 0,
             "ticks": ""
            },
            "colorscale": [
             [
              0,
              "#0d0887"
             ],
             [
              0.1111111111111111,
              "#46039f"
             ],
             [
              0.2222222222222222,
              "#7201a8"
             ],
             [
              0.3333333333333333,
              "#9c179e"
             ],
             [
              0.4444444444444444,
              "#bd3786"
             ],
             [
              0.5555555555555556,
              "#d8576b"
             ],
             [
              0.6666666666666666,
              "#ed7953"
             ],
             [
              0.7777777777777778,
              "#fb9f3a"
             ],
             [
              0.8888888888888888,
              "#fdca26"
             ],
             [
              1,
              "#f0f921"
             ]
            ],
            "type": "heatmap"
           }
          ],
          "histogram": [
           {
            "marker": {
             "pattern": {
              "fillmode": "overlay",
              "size": 10,
              "solidity": 0.2
             }
            },
            "type": "histogram"
           }
          ],
          "histogram2d": [
           {
            "colorbar": {
             "outlinewidth": 0,
             "ticks": ""
            },
            "colorscale": [
             [
              0,
              "#0d0887"
             ],
             [
              0.1111111111111111,
              "#46039f"
             ],
             [
              0.2222222222222222,
              "#7201a8"
             ],
             [
              0.3333333333333333,
              "#9c179e"
             ],
             [
              0.4444444444444444,
              "#bd3786"
             ],
             [
              0.5555555555555556,
              "#d8576b"
             ],
             [
              0.6666666666666666,
              "#ed7953"
             ],
             [
              0.7777777777777778,
              "#fb9f3a"
             ],
             [
              0.8888888888888888,
              "#fdca26"
             ],
             [
              1,
              "#f0f921"
             ]
            ],
            "type": "histogram2d"
           }
          ],
          "histogram2dcontour": [
           {
            "colorbar": {
             "outlinewidth": 0,
             "ticks": ""
            },
            "colorscale": [
             [
              0,
              "#0d0887"
             ],
             [
              0.1111111111111111,
              "#46039f"
             ],
             [
              0.2222222222222222,
              "#7201a8"
             ],
             [
              0.3333333333333333,
              "#9c179e"
             ],
             [
              0.4444444444444444,
              "#bd3786"
             ],
             [
              0.5555555555555556,
              "#d8576b"
             ],
             [
              0.6666666666666666,
              "#ed7953"
             ],
             [
              0.7777777777777778,
              "#fb9f3a"
             ],
             [
              0.8888888888888888,
              "#fdca26"
             ],
             [
              1,
              "#f0f921"
             ]
            ],
            "type": "histogram2dcontour"
           }
          ],
          "mesh3d": [
           {
            "colorbar": {
             "outlinewidth": 0,
             "ticks": ""
            },
            "type": "mesh3d"
           }
          ],
          "parcoords": [
           {
            "line": {
             "colorbar": {
              "outlinewidth": 0,
              "ticks": ""
             }
            },
            "type": "parcoords"
           }
          ],
          "pie": [
           {
            "automargin": true,
            "type": "pie"
           }
          ],
          "scatter": [
           {
            "fillpattern": {
             "fillmode": "overlay",
             "size": 10,
             "solidity": 0.2
            },
            "type": "scatter"
           }
          ],
          "scatter3d": [
           {
            "line": {
             "colorbar": {
              "outlinewidth": 0,
              "ticks": ""
             }
            },
            "marker": {
             "colorbar": {
              "outlinewidth": 0,
              "ticks": ""
             }
            },
            "type": "scatter3d"
           }
          ],
          "scattercarpet": [
           {
            "marker": {
             "colorbar": {
              "outlinewidth": 0,
              "ticks": ""
             }
            },
            "type": "scattercarpet"
           }
          ],
          "scattergeo": [
           {
            "marker": {
             "colorbar": {
              "outlinewidth": 0,
              "ticks": ""
             }
            },
            "type": "scattergeo"
           }
          ],
          "scattergl": [
           {
            "marker": {
             "colorbar": {
              "outlinewidth": 0,
              "ticks": ""
             }
            },
            "type": "scattergl"
           }
          ],
          "scattermap": [
           {
            "marker": {
             "colorbar": {
              "outlinewidth": 0,
              "ticks": ""
             }
            },
            "type": "scattermap"
           }
          ],
          "scattermapbox": [
           {
            "marker": {
             "colorbar": {
              "outlinewidth": 0,
              "ticks": ""
             }
            },
            "type": "scattermapbox"
           }
          ],
          "scatterpolar": [
           {
            "marker": {
             "colorbar": {
              "outlinewidth": 0,
              "ticks": ""
             }
            },
            "type": "scatterpolar"
           }
          ],
          "scatterpolargl": [
           {
            "marker": {
             "colorbar": {
              "outlinewidth": 0,
              "ticks": ""
             }
            },
            "type": "scatterpolargl"
           }
          ],
          "scatterternary": [
           {
            "marker": {
             "colorbar": {
              "outlinewidth": 0,
              "ticks": ""
             }
            },
            "type": "scatterternary"
           }
          ],
          "surface": [
           {
            "colorbar": {
             "outlinewidth": 0,
             "ticks": ""
            },
            "colorscale": [
             [
              0,
              "#0d0887"
             ],
             [
              0.1111111111111111,
              "#46039f"
             ],
             [
              0.2222222222222222,
              "#7201a8"
             ],
             [
              0.3333333333333333,
              "#9c179e"
             ],
             [
              0.4444444444444444,
              "#bd3786"
             ],
             [
              0.5555555555555556,
              "#d8576b"
             ],
             [
              0.6666666666666666,
              "#ed7953"
             ],
             [
              0.7777777777777778,
              "#fb9f3a"
             ],
             [
              0.8888888888888888,
              "#fdca26"
             ],
             [
              1,
              "#f0f921"
             ]
            ],
            "type": "surface"
           }
          ],
          "table": [
           {
            "cells": {
             "fill": {
              "color": "#EBF0F8"
             },
             "line": {
              "color": "white"
             }
            },
            "header": {
             "fill": {
              "color": "#C8D4E3"
             },
             "line": {
              "color": "white"
             }
            },
            "type": "table"
           }
          ]
         },
         "layout": {
          "annotationdefaults": {
           "arrowcolor": "#2a3f5f",
           "arrowhead": 0,
           "arrowwidth": 1
          },
          "autotypenumbers": "strict",
          "coloraxis": {
           "colorbar": {
            "outlinewidth": 0,
            "ticks": ""
           }
          },
          "colorscale": {
           "diverging": [
            [
             0,
             "#8e0152"
            ],
            [
             0.1,
             "#c51b7d"
            ],
            [
             0.2,
             "#de77ae"
            ],
            [
             0.3,
             "#f1b6da"
            ],
            [
             0.4,
             "#fde0ef"
            ],
            [
             0.5,
             "#f7f7f7"
            ],
            [
             0.6,
             "#e6f5d0"
            ],
            [
             0.7,
             "#b8e186"
            ],
            [
             0.8,
             "#7fbc41"
            ],
            [
             0.9,
             "#4d9221"
            ],
            [
             1,
             "#276419"
            ]
           ],
           "sequential": [
            [
             0,
             "#0d0887"
            ],
            [
             0.1111111111111111,
             "#46039f"
            ],
            [
             0.2222222222222222,
             "#7201a8"
            ],
            [
             0.3333333333333333,
             "#9c179e"
            ],
            [
             0.4444444444444444,
             "#bd3786"
            ],
            [
             0.5555555555555556,
             "#d8576b"
            ],
            [
             0.6666666666666666,
             "#ed7953"
            ],
            [
             0.7777777777777778,
             "#fb9f3a"
            ],
            [
             0.8888888888888888,
             "#fdca26"
            ],
            [
             1,
             "#f0f921"
            ]
           ],
           "sequentialminus": [
            [
             0,
             "#0d0887"
            ],
            [
             0.1111111111111111,
             "#46039f"
            ],
            [
             0.2222222222222222,
             "#7201a8"
            ],
            [
             0.3333333333333333,
             "#9c179e"
            ],
            [
             0.4444444444444444,
             "#bd3786"
            ],
            [
             0.5555555555555556,
             "#d8576b"
            ],
            [
             0.6666666666666666,
             "#ed7953"
            ],
            [
             0.7777777777777778,
             "#fb9f3a"
            ],
            [
             0.8888888888888888,
             "#fdca26"
            ],
            [
             1,
             "#f0f921"
            ]
           ]
          },
          "colorway": [
           "#636efa",
           "#EF553B",
           "#00cc96",
           "#ab63fa",
           "#FFA15A",
           "#19d3f3",
           "#FF6692",
           "#B6E880",
           "#FF97FF",
           "#FECB52"
          ],
          "font": {
           "color": "#2a3f5f"
          },
          "geo": {
           "bgcolor": "white",
           "lakecolor": "white",
           "landcolor": "#E5ECF6",
           "showlakes": true,
           "showland": true,
           "subunitcolor": "white"
          },
          "hoverlabel": {
           "align": "left"
          },
          "hovermode": "closest",
          "mapbox": {
           "style": "light"
          },
          "paper_bgcolor": "white",
          "plot_bgcolor": "#E5ECF6",
          "polar": {
           "angularaxis": {
            "gridcolor": "white",
            "linecolor": "white",
            "ticks": ""
           },
           "bgcolor": "#E5ECF6",
           "radialaxis": {
            "gridcolor": "white",
            "linecolor": "white",
            "ticks": ""
           }
          },
          "scene": {
           "xaxis": {
            "backgroundcolor": "#E5ECF6",
            "gridcolor": "white",
            "gridwidth": 2,
            "linecolor": "white",
            "showbackground": true,
            "ticks": "",
            "zerolinecolor": "white"
           },
           "yaxis": {
            "backgroundcolor": "#E5ECF6",
            "gridcolor": "white",
            "gridwidth": 2,
            "linecolor": "white",
            "showbackground": true,
            "ticks": "",
            "zerolinecolor": "white"
           },
           "zaxis": {
            "backgroundcolor": "#E5ECF6",
            "gridcolor": "white",
            "gridwidth": 2,
            "linecolor": "white",
            "showbackground": true,
            "ticks": "",
            "zerolinecolor": "white"
           }
          },
          "shapedefaults": {
           "line": {
            "color": "#2a3f5f"
           }
          },
          "ternary": {
           "aaxis": {
            "gridcolor": "white",
            "linecolor": "white",
            "ticks": ""
           },
           "baxis": {
            "gridcolor": "white",
            "linecolor": "white",
            "ticks": ""
           },
           "bgcolor": "#E5ECF6",
           "caxis": {
            "gridcolor": "white",
            "linecolor": "white",
            "ticks": ""
           }
          },
          "title": {
           "x": 0.05
          },
          "xaxis": {
           "automargin": true,
           "gridcolor": "white",
           "linecolor": "white",
           "ticks": "",
           "title": {
            "standoff": 15
           },
           "zerolinecolor": "white",
           "zerolinewidth": 2
          },
          "yaxis": {
           "automargin": true,
           "gridcolor": "white",
           "linecolor": "white",
           "ticks": "",
           "title": {
            "standoff": 15
           },
           "zerolinecolor": "white",
           "zerolinewidth": 2
          }
         }
        },
        "xaxis": {
         "anchor": "y",
         "categoryarray": [
          "Obra_0",
          "Obra_1",
          "Obra_2",
          "Obra_3",
          "Obra_4",
          "Obra_5",
          "Obra_6",
          "Obra_7",
          "Obra_8",
          "Obra_9",
          "Obra_10",
          "Obra_11",
          "Obra_12",
          "Obra_13",
          "Obra_14",
          "Obra_15",
          "Obra_16",
          "Obra_17",
          "Obra_18",
          "Obra_19",
          "Obra_20",
          "Obra_21",
          "Obra_22",
          "Obra_23",
          "Obra_24"
         ],
         "categoryorder": "array",
         "domain": [
          0,
          0.45
         ],
         "showgrid": false
        },
        "yaxis": {
         "anchor": "x",
         "domain": [
          0,
          1
         ],
         "showgrid": false
        }
       }
      }
     },
     "metadata": {},
     "output_type": "display_data"
    }
   ],
   "source": [
    "# 7. TODO Defina el criterio deseado (como diccionario).\n",
    "criterio = e\n",
    "\n",
    "# ----- DESDE ACÁ EN ADELANTE, NO TOQUE EL CÓDIGO DE ESTÁ CELDA.\n",
    "\n",
    "# . Correr\n",
    "start = time.perf_counter()\n",
    "obj_greedy, obras_selec_greedy, presupuesto_usado_greedy = greedy_knapsack(O, c, e, p, criterio)\n",
    "end = time.perf_counter()\n",
    "\n",
    "# . Reportar\n",
    "print(\"Objetos seleccionados:\")\n",
    "for idx in obras_selec_greedy:\n",
    "    w, v = c[idx], e[idx]\n",
    "    print(f\"  • Obj {idx:>2}: peso={w}, valor={v}\")\n",
    "\n",
    "print(f\"FO (valor total):    {obj_greedy}\")\n",
    "print(f\"Presupuesto usado:   {presupuesto_usado_greedy}/{p}\")\n",
    "\n",
    "report(obras, obras_selec_greedy, obj_greedy, presupuesto_usado_greedy, p)      #   ▸ Reportar\n",
    "\n",
    "\n",
    "# . Almacenar resultados\n",
    "resultados.append({\n",
    "    \"Método\"             : \"Greedy (e)\",\n",
    "    \"Empleos generados\"  : obj_greedy,\n",
    "    \"Obras seleccionadas\": len(obras_selec_greedy),\n",
    "    \"Presupuesto usado\"  : presupuesto_usado_greedy,\n",
    "    \"Tiempo (s)\"         : end - start\n",
    "})\n"
   ]
  },
  {
   "cell_type": "code",
   "execution_count": 123,
   "id": "82f4291f",
   "metadata": {},
   "outputs": [
    {
     "name": "stdout",
     "output_type": "stream",
     "text": [
      "Objetos seleccionados:\n",
      "  • Obj 24: peso=2.0, valor=13.0\n",
      "  • Obj 12: peso=2.0, valor=10.0\n",
      "  • Obj 15: peso=3.0, valor=12.0\n",
      "  • Obj 16: peso=2.0, valor=7.0\n",
      "  • Obj  6: peso=4.0, valor=13.0\n",
      "  • Obj 21: peso=4.0, valor=13.0\n",
      "  • Obj 13: peso=2.0, valor=6.0\n",
      "  • Obj  0: peso=5.0, valor=10.0\n",
      "FO (valor total):    84.0\n",
      "Presupuesto usado:   24.0/25\n"
     ]
    },
    {
     "data": {
      "application/vnd.plotly.v1+json": {
       "config": {
        "plotlyServerURL": "https://plot.ly"
       },
       "data": [
        {
         "customdata": {
          "bdata": "AAAAAAAACEAAAAAAAAAiQAAAAAAAABhAAAAAAAAAJEAAAAAAAAAgQAAAAAAAABxAAAAAAAAAIEAAAAAAAAAAQAAAAAAAACJAAAAAAAAAGEAAAAAAAAAiQAAAAAAAABhAAAAAAAAAAEAAAAAAAAAcQAAAAAAAAABAAAAAAAAAGEAAAAAAAAAYQA==",
          "dtype": "f8"
         },
         "hovertemplate": "<b>%{x}</b><br>Empleos: %{y}<br>Costo: %{customdata} millones",
         "marker": {
          "color": "lightgray"
         },
         "type": "bar",
         "x": [
          "Obra_1",
          "Obra_2",
          "Obra_3",
          "Obra_4",
          "Obra_5",
          "Obra_7",
          "Obra_8",
          "Obra_9",
          "Obra_10",
          "Obra_11",
          "Obra_14",
          "Obra_17",
          "Obra_18",
          "Obra_19",
          "Obra_20",
          "Obra_22",
          "Obra_23"
         ],
         "xaxis": "x",
         "y": {
          "bdata": "AAAAAAAAFEAAAAAAAAAcQAAAAAAAABRAAAAAAAAAJEAAAAAAAAAsQAAAAAAAAAhAAAAAAAAAIEAAAAAAAAAQQAAAAAAAACpAAAAAAAAAJkAAAAAAAAAAQAAAAAAAABBAAAAAAAAACEAAAAAAAAAoQAAAAAAAAAhAAAAAAAAAJEAAAAAAAAAcQA==",
          "dtype": "f8"
         },
         "yaxis": "y"
        },
        {
         "customdata": {
          "bdata": "AAAAAAAAFEAAAAAAAAAQQAAAAAAAAABAAAAAAAAAAEAAAAAAAAAIQAAAAAAAAABAAAAAAAAAEEAAAAAAAAAAQA==",
          "dtype": "f8"
         },
         "hovertemplate": "<b>%{x}</b><br>Empleos: %{y}<br>Costo: %{customdata} millones",
         "marker": {
          "color": "steelblue"
         },
         "type": "bar",
         "x": [
          "Obra_0",
          "Obra_6",
          "Obra_12",
          "Obra_13",
          "Obra_15",
          "Obra_16",
          "Obra_21",
          "Obra_24"
         ],
         "xaxis": "x",
         "y": {
          "bdata": "AAAAAAAAJEAAAAAAAAAqQAAAAAAAACRAAAAAAAAAGEAAAAAAAAAoQAAAAAAAABxAAAAAAAAAKkAAAAAAAAAqQA==",
          "dtype": "f8"
         },
         "yaxis": "y"
        },
        {
         "domain": {
          "x": [
           0.55,
           1
          ],
          "y": [
           0,
           1
          ]
         },
         "gauge": {
          "axis": {
           "range": [
            0,
            25
           ]
          }
         },
         "mode": "gauge+number",
         "number": {
          "font": {
           "size": 40
          },
          "suffix": " / 25"
         },
         "type": "indicator",
         "value": 24
        }
       ],
       "layout": {
        "annotations": [
         {
          "font": {
           "size": 16
          },
          "showarrow": false,
          "text": "Empleos generados<br><sup>FO: 84.0 | Obras: 8</sup>",
          "x": 0.225,
          "xanchor": "center",
          "xref": "paper",
          "y": 1,
          "yanchor": "bottom",
          "yref": "paper"
         }
        ],
        "barmode": "overlay",
        "paper_bgcolor": "white",
        "plot_bgcolor": "white",
        "showlegend": false,
        "template": {
         "data": {
          "bar": [
           {
            "error_x": {
             "color": "#2a3f5f"
            },
            "error_y": {
             "color": "#2a3f5f"
            },
            "marker": {
             "line": {
              "color": "#E5ECF6",
              "width": 0.5
             },
             "pattern": {
              "fillmode": "overlay",
              "size": 10,
              "solidity": 0.2
             }
            },
            "type": "bar"
           }
          ],
          "barpolar": [
           {
            "marker": {
             "line": {
              "color": "#E5ECF6",
              "width": 0.5
             },
             "pattern": {
              "fillmode": "overlay",
              "size": 10,
              "solidity": 0.2
             }
            },
            "type": "barpolar"
           }
          ],
          "carpet": [
           {
            "aaxis": {
             "endlinecolor": "#2a3f5f",
             "gridcolor": "white",
             "linecolor": "white",
             "minorgridcolor": "white",
             "startlinecolor": "#2a3f5f"
            },
            "baxis": {
             "endlinecolor": "#2a3f5f",
             "gridcolor": "white",
             "linecolor": "white",
             "minorgridcolor": "white",
             "startlinecolor": "#2a3f5f"
            },
            "type": "carpet"
           }
          ],
          "choropleth": [
           {
            "colorbar": {
             "outlinewidth": 0,
             "ticks": ""
            },
            "type": "choropleth"
           }
          ],
          "contour": [
           {
            "colorbar": {
             "outlinewidth": 0,
             "ticks": ""
            },
            "colorscale": [
             [
              0,
              "#0d0887"
             ],
             [
              0.1111111111111111,
              "#46039f"
             ],
             [
              0.2222222222222222,
              "#7201a8"
             ],
             [
              0.3333333333333333,
              "#9c179e"
             ],
             [
              0.4444444444444444,
              "#bd3786"
             ],
             [
              0.5555555555555556,
              "#d8576b"
             ],
             [
              0.6666666666666666,
              "#ed7953"
             ],
             [
              0.7777777777777778,
              "#fb9f3a"
             ],
             [
              0.8888888888888888,
              "#fdca26"
             ],
             [
              1,
              "#f0f921"
             ]
            ],
            "type": "contour"
           }
          ],
          "contourcarpet": [
           {
            "colorbar": {
             "outlinewidth": 0,
             "ticks": ""
            },
            "type": "contourcarpet"
           }
          ],
          "heatmap": [
           {
            "colorbar": {
             "outlinewidth": 0,
             "ticks": ""
            },
            "colorscale": [
             [
              0,
              "#0d0887"
             ],
             [
              0.1111111111111111,
              "#46039f"
             ],
             [
              0.2222222222222222,
              "#7201a8"
             ],
             [
              0.3333333333333333,
              "#9c179e"
             ],
             [
              0.4444444444444444,
              "#bd3786"
             ],
             [
              0.5555555555555556,
              "#d8576b"
             ],
             [
              0.6666666666666666,
              "#ed7953"
             ],
             [
              0.7777777777777778,
              "#fb9f3a"
             ],
             [
              0.8888888888888888,
              "#fdca26"
             ],
             [
              1,
              "#f0f921"
             ]
            ],
            "type": "heatmap"
           }
          ],
          "histogram": [
           {
            "marker": {
             "pattern": {
              "fillmode": "overlay",
              "size": 10,
              "solidity": 0.2
             }
            },
            "type": "histogram"
           }
          ],
          "histogram2d": [
           {
            "colorbar": {
             "outlinewidth": 0,
             "ticks": ""
            },
            "colorscale": [
             [
              0,
              "#0d0887"
             ],
             [
              0.1111111111111111,
              "#46039f"
             ],
             [
              0.2222222222222222,
              "#7201a8"
             ],
             [
              0.3333333333333333,
              "#9c179e"
             ],
             [
              0.4444444444444444,
              "#bd3786"
             ],
             [
              0.5555555555555556,
              "#d8576b"
             ],
             [
              0.6666666666666666,
              "#ed7953"
             ],
             [
              0.7777777777777778,
              "#fb9f3a"
             ],
             [
              0.8888888888888888,
              "#fdca26"
             ],
             [
              1,
              "#f0f921"
             ]
            ],
            "type": "histogram2d"
           }
          ],
          "histogram2dcontour": [
           {
            "colorbar": {
             "outlinewidth": 0,
             "ticks": ""
            },
            "colorscale": [
             [
              0,
              "#0d0887"
             ],
             [
              0.1111111111111111,
              "#46039f"
             ],
             [
              0.2222222222222222,
              "#7201a8"
             ],
             [
              0.3333333333333333,
              "#9c179e"
             ],
             [
              0.4444444444444444,
              "#bd3786"
             ],
             [
              0.5555555555555556,
              "#d8576b"
             ],
             [
              0.6666666666666666,
              "#ed7953"
             ],
             [
              0.7777777777777778,
              "#fb9f3a"
             ],
             [
              0.8888888888888888,
              "#fdca26"
             ],
             [
              1,
              "#f0f921"
             ]
            ],
            "type": "histogram2dcontour"
           }
          ],
          "mesh3d": [
           {
            "colorbar": {
             "outlinewidth": 0,
             "ticks": ""
            },
            "type": "mesh3d"
           }
          ],
          "parcoords": [
           {
            "line": {
             "colorbar": {
              "outlinewidth": 0,
              "ticks": ""
             }
            },
            "type": "parcoords"
           }
          ],
          "pie": [
           {
            "automargin": true,
            "type": "pie"
           }
          ],
          "scatter": [
           {
            "fillpattern": {
             "fillmode": "overlay",
             "size": 10,
             "solidity": 0.2
            },
            "type": "scatter"
           }
          ],
          "scatter3d": [
           {
            "line": {
             "colorbar": {
              "outlinewidth": 0,
              "ticks": ""
             }
            },
            "marker": {
             "colorbar": {
              "outlinewidth": 0,
              "ticks": ""
             }
            },
            "type": "scatter3d"
           }
          ],
          "scattercarpet": [
           {
            "marker": {
             "colorbar": {
              "outlinewidth": 0,
              "ticks": ""
             }
            },
            "type": "scattercarpet"
           }
          ],
          "scattergeo": [
           {
            "marker": {
             "colorbar": {
              "outlinewidth": 0,
              "ticks": ""
             }
            },
            "type": "scattergeo"
           }
          ],
          "scattergl": [
           {
            "marker": {
             "colorbar": {
              "outlinewidth": 0,
              "ticks": ""
             }
            },
            "type": "scattergl"
           }
          ],
          "scattermap": [
           {
            "marker": {
             "colorbar": {
              "outlinewidth": 0,
              "ticks": ""
             }
            },
            "type": "scattermap"
           }
          ],
          "scattermapbox": [
           {
            "marker": {
             "colorbar": {
              "outlinewidth": 0,
              "ticks": ""
             }
            },
            "type": "scattermapbox"
           }
          ],
          "scatterpolar": [
           {
            "marker": {
             "colorbar": {
              "outlinewidth": 0,
              "ticks": ""
             }
            },
            "type": "scatterpolar"
           }
          ],
          "scatterpolargl": [
           {
            "marker": {
             "colorbar": {
              "outlinewidth": 0,
              "ticks": ""
             }
            },
            "type": "scatterpolargl"
           }
          ],
          "scatterternary": [
           {
            "marker": {
             "colorbar": {
              "outlinewidth": 0,
              "ticks": ""
             }
            },
            "type": "scatterternary"
           }
          ],
          "surface": [
           {
            "colorbar": {
             "outlinewidth": 0,
             "ticks": ""
            },
            "colorscale": [
             [
              0,
              "#0d0887"
             ],
             [
              0.1111111111111111,
              "#46039f"
             ],
             [
              0.2222222222222222,
              "#7201a8"
             ],
             [
              0.3333333333333333,
              "#9c179e"
             ],
             [
              0.4444444444444444,
              "#bd3786"
             ],
             [
              0.5555555555555556,
              "#d8576b"
             ],
             [
              0.6666666666666666,
              "#ed7953"
             ],
             [
              0.7777777777777778,
              "#fb9f3a"
             ],
             [
              0.8888888888888888,
              "#fdca26"
             ],
             [
              1,
              "#f0f921"
             ]
            ],
            "type": "surface"
           }
          ],
          "table": [
           {
            "cells": {
             "fill": {
              "color": "#EBF0F8"
             },
             "line": {
              "color": "white"
             }
            },
            "header": {
             "fill": {
              "color": "#C8D4E3"
             },
             "line": {
              "color": "white"
             }
            },
            "type": "table"
           }
          ]
         },
         "layout": {
          "annotationdefaults": {
           "arrowcolor": "#2a3f5f",
           "arrowhead": 0,
           "arrowwidth": 1
          },
          "autotypenumbers": "strict",
          "coloraxis": {
           "colorbar": {
            "outlinewidth": 0,
            "ticks": ""
           }
          },
          "colorscale": {
           "diverging": [
            [
             0,
             "#8e0152"
            ],
            [
             0.1,
             "#c51b7d"
            ],
            [
             0.2,
             "#de77ae"
            ],
            [
             0.3,
             "#f1b6da"
            ],
            [
             0.4,
             "#fde0ef"
            ],
            [
             0.5,
             "#f7f7f7"
            ],
            [
             0.6,
             "#e6f5d0"
            ],
            [
             0.7,
             "#b8e186"
            ],
            [
             0.8,
             "#7fbc41"
            ],
            [
             0.9,
             "#4d9221"
            ],
            [
             1,
             "#276419"
            ]
           ],
           "sequential": [
            [
             0,
             "#0d0887"
            ],
            [
             0.1111111111111111,
             "#46039f"
            ],
            [
             0.2222222222222222,
             "#7201a8"
            ],
            [
             0.3333333333333333,
             "#9c179e"
            ],
            [
             0.4444444444444444,
             "#bd3786"
            ],
            [
             0.5555555555555556,
             "#d8576b"
            ],
            [
             0.6666666666666666,
             "#ed7953"
            ],
            [
             0.7777777777777778,
             "#fb9f3a"
            ],
            [
             0.8888888888888888,
             "#fdca26"
            ],
            [
             1,
             "#f0f921"
            ]
           ],
           "sequentialminus": [
            [
             0,
             "#0d0887"
            ],
            [
             0.1111111111111111,
             "#46039f"
            ],
            [
             0.2222222222222222,
             "#7201a8"
            ],
            [
             0.3333333333333333,
             "#9c179e"
            ],
            [
             0.4444444444444444,
             "#bd3786"
            ],
            [
             0.5555555555555556,
             "#d8576b"
            ],
            [
             0.6666666666666666,
             "#ed7953"
            ],
            [
             0.7777777777777778,
             "#fb9f3a"
            ],
            [
             0.8888888888888888,
             "#fdca26"
            ],
            [
             1,
             "#f0f921"
            ]
           ]
          },
          "colorway": [
           "#636efa",
           "#EF553B",
           "#00cc96",
           "#ab63fa",
           "#FFA15A",
           "#19d3f3",
           "#FF6692",
           "#B6E880",
           "#FF97FF",
           "#FECB52"
          ],
          "font": {
           "color": "#2a3f5f"
          },
          "geo": {
           "bgcolor": "white",
           "lakecolor": "white",
           "landcolor": "#E5ECF6",
           "showlakes": true,
           "showland": true,
           "subunitcolor": "white"
          },
          "hoverlabel": {
           "align": "left"
          },
          "hovermode": "closest",
          "mapbox": {
           "style": "light"
          },
          "paper_bgcolor": "white",
          "plot_bgcolor": "#E5ECF6",
          "polar": {
           "angularaxis": {
            "gridcolor": "white",
            "linecolor": "white",
            "ticks": ""
           },
           "bgcolor": "#E5ECF6",
           "radialaxis": {
            "gridcolor": "white",
            "linecolor": "white",
            "ticks": ""
           }
          },
          "scene": {
           "xaxis": {
            "backgroundcolor": "#E5ECF6",
            "gridcolor": "white",
            "gridwidth": 2,
            "linecolor": "white",
            "showbackground": true,
            "ticks": "",
            "zerolinecolor": "white"
           },
           "yaxis": {
            "backgroundcolor": "#E5ECF6",
            "gridcolor": "white",
            "gridwidth": 2,
            "linecolor": "white",
            "showbackground": true,
            "ticks": "",
            "zerolinecolor": "white"
           },
           "zaxis": {
            "backgroundcolor": "#E5ECF6",
            "gridcolor": "white",
            "gridwidth": 2,
            "linecolor": "white",
            "showbackground": true,
            "ticks": "",
            "zerolinecolor": "white"
           }
          },
          "shapedefaults": {
           "line": {
            "color": "#2a3f5f"
           }
          },
          "ternary": {
           "aaxis": {
            "gridcolor": "white",
            "linecolor": "white",
            "ticks": ""
           },
           "baxis": {
            "gridcolor": "white",
            "linecolor": "white",
            "ticks": ""
           },
           "bgcolor": "#E5ECF6",
           "caxis": {
            "gridcolor": "white",
            "linecolor": "white",
            "ticks": ""
           }
          },
          "title": {
           "x": 0.05
          },
          "xaxis": {
           "automargin": true,
           "gridcolor": "white",
           "linecolor": "white",
           "ticks": "",
           "title": {
            "standoff": 15
           },
           "zerolinecolor": "white",
           "zerolinewidth": 2
          },
          "yaxis": {
           "automargin": true,
           "gridcolor": "white",
           "linecolor": "white",
           "ticks": "",
           "title": {
            "standoff": 15
           },
           "zerolinecolor": "white",
           "zerolinewidth": 2
          }
         }
        },
        "xaxis": {
         "anchor": "y",
         "categoryarray": [
          "Obra_0",
          "Obra_1",
          "Obra_2",
          "Obra_3",
          "Obra_4",
          "Obra_5",
          "Obra_6",
          "Obra_7",
          "Obra_8",
          "Obra_9",
          "Obra_10",
          "Obra_11",
          "Obra_12",
          "Obra_13",
          "Obra_14",
          "Obra_15",
          "Obra_16",
          "Obra_17",
          "Obra_18",
          "Obra_19",
          "Obra_20",
          "Obra_21",
          "Obra_22",
          "Obra_23",
          "Obra_24"
         ],
         "categoryorder": "array",
         "domain": [
          0,
          0.45
         ],
         "showgrid": false
        },
        "yaxis": {
         "anchor": "x",
         "domain": [
          0,
          1
         ],
         "showgrid": false
        }
       }
      }
     },
     "metadata": {},
     "output_type": "display_data"
    }
   ],
   "source": [
    "# 8. TODO Defina un nuevo criterio (como diccionario)\n",
    "criterio = {i: e[i] / c[i] for i in O}\n",
    "\n",
    "# ----- DESDE ACÁ EN ADELANTE, NO TOQUE EL CÓDIGO DE ESTÁ CELDA.\n",
    "\n",
    "# . Correr\n",
    "start = time.perf_counter()\n",
    "obj_greedy, obras_selec_greedy, presupuesto_usado_greedy = greedy_knapsack(O, c, e, p, criterio)\n",
    "end = time.perf_counter()\n",
    "\n",
    "# . Reportar\n",
    "print(\"Objetos seleccionados:\")\n",
    "for idx in obras_selec_greedy:\n",
    "    w, v = c[idx], e[idx]\n",
    "    print(f\"  • Obj {idx:>2}: peso={w}, valor={v}\")\n",
    "\n",
    "print(f\"FO (valor total):    {obj_greedy}\")\n",
    "print(f\"Presupuesto usado:   {presupuesto_usado_greedy}/{p}\")\n",
    "\n",
    "report(obras, obras_selec_greedy, obj_greedy, presupuesto_usado_greedy, p)      #   ▸ Reportar\n",
    "\n",
    "\n",
    "# . Almacenar resultados\n",
    "resultados.append({\n",
    "    \"Método\"             : \"Greedy (e/c)\",\n",
    "    \"Empleos generados\"  : obj_greedy,\n",
    "    \"Obras seleccionadas\": len(obras_selec_greedy),\n",
    "    \"Presupuesto usado\"  : presupuesto_usado_greedy,\n",
    "    \"Tiempo (s)\"         : end - start\n",
    "})\n"
   ]
  },
  {
   "cell_type": "markdown",
   "id": "10ce085a",
   "metadata": {},
   "source": [
    "### Random\n",
    "\n",
    "```text\n",
    "# ENTRADAS -------------------------------------------------\n",
    "#   C               : conjunto de todos los candidatos\n",
    "#   es_factible(s,c): True si añadir c a la solución parcial s\n",
    "#                     mantiene todas las restricciones\n",
    "#   objetivo(s)     : función que puntúa la solución completa s\n",
    "#\n",
    "# SALIDAS  -----------------------------------------------\n",
    "#   sol             : subconjunto final de candidatos elegidos\n",
    "#   valor_objetivo  : objetivo(sol)\n",
    "# --------------------------------------------------------\n",
    "\n",
    "# 1. Inicializar solución vacía\n",
    "sol ← ∅\n",
    "\n",
    "# 2. Crear un orden aleatorio de candidatos\n",
    "C_rand ← permutación_aleatoria( C )   # sin reemplazo\n",
    "\n",
    "# 3. Recorrer la lista aleatoria e ir añadiendo si es factible\n",
    "para cada candidato c en C_rand:\n",
    "    si es_factible( sol , c ):\n",
    "        sol ← sol ∪ { c }\n",
    "\n",
    "# 4. Calcular el valor de la solución final\n",
    "valor_objetivo ← objetivo( sol )\n",
    "\n",
    "# 5. Devolver solución y su valor\n",
    "return sol , valor_objetivo\n",
    "\n",
    "```\n"
   ]
  },
  {
   "cell_type": "code",
   "execution_count": null,
   "id": "dc3282c9",
   "metadata": {},
   "outputs": [],
   "source": [
    "# 9. TODO Complete la función.\n",
    "def random_knapsack(O, c, e, p):\n",
    "\n",
    "    # Inicialización\n",
    "    presupuesto_actual = 0.0\n",
    "    obras_selec_rand = []\n",
    "\n",
    "    # Aleatorizar\n",
    "    obras_random = random.sample(O, len(O))\n",
    "\n",
    "    #  # Añadir si es factible\n",
    "    for i in obras_random:\n",
    "        if presupuesto_actual + c[i] <= p:\n",
    "            obras_selec_rand.append(i)\n",
    "            presupuesto_actual += c[i]\n",
    "\n",
    "    # Resultados\n",
    "    obj_rand = round(sum(e[i] for i in obras_selec_rand), 2)\n",
    "    presupuesto_usado_rand = round(presupuesto_actual, 2)\n",
    "\n",
    "    # Devolver\n",
    "    return obj_rand, obras_selec_rand, presupuesto_usado_rand\n"
   ]
  },
  {
   "cell_type": "code",
   "execution_count": 125,
   "id": "ac06efbf",
   "metadata": {},
   "outputs": [
    {
     "name": "stdout",
     "output_type": "stream",
     "text": [
      "Objetos seleccionados:\n",
      "  • Obj 12: peso=2.0, valor=10.0\n",
      "  • Obj 22: peso=6.0, valor=10.0\n",
      "  • Obj  4: peso=10.0, valor=10.0\n",
      "  • Obj  7: peso=7.0, valor=3.0\n",
      "FO (valor total):    33.0\n",
      "Presupuesto usado:   25.0/25\n"
     ]
    },
    {
     "data": {
      "application/vnd.plotly.v1+json": {
       "config": {
        "plotlyServerURL": "https://plot.ly"
       },
       "data": [
        {
         "customdata": {
          "bdata": "AAAAAAAAFEAAAAAAAAAIQAAAAAAAACJAAAAAAAAAGEAAAAAAAAAgQAAAAAAAABBAAAAAAAAAIEAAAAAAAAAAQAAAAAAAACJAAAAAAAAAGEAAAAAAAAAAQAAAAAAAACJAAAAAAAAACEAAAAAAAAAAQAAAAAAAABhAAAAAAAAAAEAAAAAAAAAcQAAAAAAAAABAAAAAAAAAEEAAAAAAAAAYQAAAAAAAAABA",
          "dtype": "f8"
         },
         "hovertemplate": "<b>%{x}</b><br>Empleos: %{y}<br>Costo: %{customdata} millones",
         "marker": {
          "color": "lightgray"
         },
         "type": "bar",
         "x": [
          "Obra_0",
          "Obra_1",
          "Obra_2",
          "Obra_3",
          "Obra_5",
          "Obra_6",
          "Obra_8",
          "Obra_9",
          "Obra_10",
          "Obra_11",
          "Obra_13",
          "Obra_14",
          "Obra_15",
          "Obra_16",
          "Obra_17",
          "Obra_18",
          "Obra_19",
          "Obra_20",
          "Obra_21",
          "Obra_23",
          "Obra_24"
         ],
         "xaxis": "x",
         "y": {
          "bdata": "AAAAAAAAJEAAAAAAAAAUQAAAAAAAABxAAAAAAAAAFEAAAAAAAAAsQAAAAAAAACpAAAAAAAAAIEAAAAAAAAAQQAAAAAAAACpAAAAAAAAAJkAAAAAAAAAYQAAAAAAAAABAAAAAAAAAKEAAAAAAAAAcQAAAAAAAABBAAAAAAAAACEAAAAAAAAAoQAAAAAAAAAhAAAAAAAAAKkAAAAAAAAAcQAAAAAAAACpA",
          "dtype": "f8"
         },
         "yaxis": "y"
        },
        {
         "customdata": {
          "bdata": "AAAAAAAAJEAAAAAAAAAcQAAAAAAAAABAAAAAAAAAGEA=",
          "dtype": "f8"
         },
         "hovertemplate": "<b>%{x}</b><br>Empleos: %{y}<br>Costo: %{customdata} millones",
         "marker": {
          "color": "steelblue"
         },
         "type": "bar",
         "x": [
          "Obra_4",
          "Obra_7",
          "Obra_12",
          "Obra_22"
         ],
         "xaxis": "x",
         "y": {
          "bdata": "AAAAAAAAJEAAAAAAAAAIQAAAAAAAACRAAAAAAAAAJEA=",
          "dtype": "f8"
         },
         "yaxis": "y"
        },
        {
         "domain": {
          "x": [
           0.55,
           1
          ],
          "y": [
           0,
           1
          ]
         },
         "gauge": {
          "axis": {
           "range": [
            0,
            25
           ]
          }
         },
         "mode": "gauge+number",
         "number": {
          "font": {
           "size": 40
          },
          "suffix": " / 25"
         },
         "type": "indicator",
         "value": 25
        }
       ],
       "layout": {
        "annotations": [
         {
          "font": {
           "size": 16
          },
          "showarrow": false,
          "text": "Empleos generados<br><sup>FO: 33.0 | Obras: 4</sup>",
          "x": 0.225,
          "xanchor": "center",
          "xref": "paper",
          "y": 1,
          "yanchor": "bottom",
          "yref": "paper"
         }
        ],
        "barmode": "overlay",
        "paper_bgcolor": "white",
        "plot_bgcolor": "white",
        "showlegend": false,
        "template": {
         "data": {
          "bar": [
           {
            "error_x": {
             "color": "#2a3f5f"
            },
            "error_y": {
             "color": "#2a3f5f"
            },
            "marker": {
             "line": {
              "color": "#E5ECF6",
              "width": 0.5
             },
             "pattern": {
              "fillmode": "overlay",
              "size": 10,
              "solidity": 0.2
             }
            },
            "type": "bar"
           }
          ],
          "barpolar": [
           {
            "marker": {
             "line": {
              "color": "#E5ECF6",
              "width": 0.5
             },
             "pattern": {
              "fillmode": "overlay",
              "size": 10,
              "solidity": 0.2
             }
            },
            "type": "barpolar"
           }
          ],
          "carpet": [
           {
            "aaxis": {
             "endlinecolor": "#2a3f5f",
             "gridcolor": "white",
             "linecolor": "white",
             "minorgridcolor": "white",
             "startlinecolor": "#2a3f5f"
            },
            "baxis": {
             "endlinecolor": "#2a3f5f",
             "gridcolor": "white",
             "linecolor": "white",
             "minorgridcolor": "white",
             "startlinecolor": "#2a3f5f"
            },
            "type": "carpet"
           }
          ],
          "choropleth": [
           {
            "colorbar": {
             "outlinewidth": 0,
             "ticks": ""
            },
            "type": "choropleth"
           }
          ],
          "contour": [
           {
            "colorbar": {
             "outlinewidth": 0,
             "ticks": ""
            },
            "colorscale": [
             [
              0,
              "#0d0887"
             ],
             [
              0.1111111111111111,
              "#46039f"
             ],
             [
              0.2222222222222222,
              "#7201a8"
             ],
             [
              0.3333333333333333,
              "#9c179e"
             ],
             [
              0.4444444444444444,
              "#bd3786"
             ],
             [
              0.5555555555555556,
              "#d8576b"
             ],
             [
              0.6666666666666666,
              "#ed7953"
             ],
             [
              0.7777777777777778,
              "#fb9f3a"
             ],
             [
              0.8888888888888888,
              "#fdca26"
             ],
             [
              1,
              "#f0f921"
             ]
            ],
            "type": "contour"
           }
          ],
          "contourcarpet": [
           {
            "colorbar": {
             "outlinewidth": 0,
             "ticks": ""
            },
            "type": "contourcarpet"
           }
          ],
          "heatmap": [
           {
            "colorbar": {
             "outlinewidth": 0,
             "ticks": ""
            },
            "colorscale": [
             [
              0,
              "#0d0887"
             ],
             [
              0.1111111111111111,
              "#46039f"
             ],
             [
              0.2222222222222222,
              "#7201a8"
             ],
             [
              0.3333333333333333,
              "#9c179e"
             ],
             [
              0.4444444444444444,
              "#bd3786"
             ],
             [
              0.5555555555555556,
              "#d8576b"
             ],
             [
              0.6666666666666666,
              "#ed7953"
             ],
             [
              0.7777777777777778,
              "#fb9f3a"
             ],
             [
              0.8888888888888888,
              "#fdca26"
             ],
             [
              1,
              "#f0f921"
             ]
            ],
            "type": "heatmap"
           }
          ],
          "histogram": [
           {
            "marker": {
             "pattern": {
              "fillmode": "overlay",
              "size": 10,
              "solidity": 0.2
             }
            },
            "type": "histogram"
           }
          ],
          "histogram2d": [
           {
            "colorbar": {
             "outlinewidth": 0,
             "ticks": ""
            },
            "colorscale": [
             [
              0,
              "#0d0887"
             ],
             [
              0.1111111111111111,
              "#46039f"
             ],
             [
              0.2222222222222222,
              "#7201a8"
             ],
             [
              0.3333333333333333,
              "#9c179e"
             ],
             [
              0.4444444444444444,
              "#bd3786"
             ],
             [
              0.5555555555555556,
              "#d8576b"
             ],
             [
              0.6666666666666666,
              "#ed7953"
             ],
             [
              0.7777777777777778,
              "#fb9f3a"
             ],
             [
              0.8888888888888888,
              "#fdca26"
             ],
             [
              1,
              "#f0f921"
             ]
            ],
            "type": "histogram2d"
           }
          ],
          "histogram2dcontour": [
           {
            "colorbar": {
             "outlinewidth": 0,
             "ticks": ""
            },
            "colorscale": [
             [
              0,
              "#0d0887"
             ],
             [
              0.1111111111111111,
              "#46039f"
             ],
             [
              0.2222222222222222,
              "#7201a8"
             ],
             [
              0.3333333333333333,
              "#9c179e"
             ],
             [
              0.4444444444444444,
              "#bd3786"
             ],
             [
              0.5555555555555556,
              "#d8576b"
             ],
             [
              0.6666666666666666,
              "#ed7953"
             ],
             [
              0.7777777777777778,
              "#fb9f3a"
             ],
             [
              0.8888888888888888,
              "#fdca26"
             ],
             [
              1,
              "#f0f921"
             ]
            ],
            "type": "histogram2dcontour"
           }
          ],
          "mesh3d": [
           {
            "colorbar": {
             "outlinewidth": 0,
             "ticks": ""
            },
            "type": "mesh3d"
           }
          ],
          "parcoords": [
           {
            "line": {
             "colorbar": {
              "outlinewidth": 0,
              "ticks": ""
             }
            },
            "type": "parcoords"
           }
          ],
          "pie": [
           {
            "automargin": true,
            "type": "pie"
           }
          ],
          "scatter": [
           {
            "fillpattern": {
             "fillmode": "overlay",
             "size": 10,
             "solidity": 0.2
            },
            "type": "scatter"
           }
          ],
          "scatter3d": [
           {
            "line": {
             "colorbar": {
              "outlinewidth": 0,
              "ticks": ""
             }
            },
            "marker": {
             "colorbar": {
              "outlinewidth": 0,
              "ticks": ""
             }
            },
            "type": "scatter3d"
           }
          ],
          "scattercarpet": [
           {
            "marker": {
             "colorbar": {
              "outlinewidth": 0,
              "ticks": ""
             }
            },
            "type": "scattercarpet"
           }
          ],
          "scattergeo": [
           {
            "marker": {
             "colorbar": {
              "outlinewidth": 0,
              "ticks": ""
             }
            },
            "type": "scattergeo"
           }
          ],
          "scattergl": [
           {
            "marker": {
             "colorbar": {
              "outlinewidth": 0,
              "ticks": ""
             }
            },
            "type": "scattergl"
           }
          ],
          "scattermap": [
           {
            "marker": {
             "colorbar": {
              "outlinewidth": 0,
              "ticks": ""
             }
            },
            "type": "scattermap"
           }
          ],
          "scattermapbox": [
           {
            "marker": {
             "colorbar": {
              "outlinewidth": 0,
              "ticks": ""
             }
            },
            "type": "scattermapbox"
           }
          ],
          "scatterpolar": [
           {
            "marker": {
             "colorbar": {
              "outlinewidth": 0,
              "ticks": ""
             }
            },
            "type": "scatterpolar"
           }
          ],
          "scatterpolargl": [
           {
            "marker": {
             "colorbar": {
              "outlinewidth": 0,
              "ticks": ""
             }
            },
            "type": "scatterpolargl"
           }
          ],
          "scatterternary": [
           {
            "marker": {
             "colorbar": {
              "outlinewidth": 0,
              "ticks": ""
             }
            },
            "type": "scatterternary"
           }
          ],
          "surface": [
           {
            "colorbar": {
             "outlinewidth": 0,
             "ticks": ""
            },
            "colorscale": [
             [
              0,
              "#0d0887"
             ],
             [
              0.1111111111111111,
              "#46039f"
             ],
             [
              0.2222222222222222,
              "#7201a8"
             ],
             [
              0.3333333333333333,
              "#9c179e"
             ],
             [
              0.4444444444444444,
              "#bd3786"
             ],
             [
              0.5555555555555556,
              "#d8576b"
             ],
             [
              0.6666666666666666,
              "#ed7953"
             ],
             [
              0.7777777777777778,
              "#fb9f3a"
             ],
             [
              0.8888888888888888,
              "#fdca26"
             ],
             [
              1,
              "#f0f921"
             ]
            ],
            "type": "surface"
           }
          ],
          "table": [
           {
            "cells": {
             "fill": {
              "color": "#EBF0F8"
             },
             "line": {
              "color": "white"
             }
            },
            "header": {
             "fill": {
              "color": "#C8D4E3"
             },
             "line": {
              "color": "white"
             }
            },
            "type": "table"
           }
          ]
         },
         "layout": {
          "annotationdefaults": {
           "arrowcolor": "#2a3f5f",
           "arrowhead": 0,
           "arrowwidth": 1
          },
          "autotypenumbers": "strict",
          "coloraxis": {
           "colorbar": {
            "outlinewidth": 0,
            "ticks": ""
           }
          },
          "colorscale": {
           "diverging": [
            [
             0,
             "#8e0152"
            ],
            [
             0.1,
             "#c51b7d"
            ],
            [
             0.2,
             "#de77ae"
            ],
            [
             0.3,
             "#f1b6da"
            ],
            [
             0.4,
             "#fde0ef"
            ],
            [
             0.5,
             "#f7f7f7"
            ],
            [
             0.6,
             "#e6f5d0"
            ],
            [
             0.7,
             "#b8e186"
            ],
            [
             0.8,
             "#7fbc41"
            ],
            [
             0.9,
             "#4d9221"
            ],
            [
             1,
             "#276419"
            ]
           ],
           "sequential": [
            [
             0,
             "#0d0887"
            ],
            [
             0.1111111111111111,
             "#46039f"
            ],
            [
             0.2222222222222222,
             "#7201a8"
            ],
            [
             0.3333333333333333,
             "#9c179e"
            ],
            [
             0.4444444444444444,
             "#bd3786"
            ],
            [
             0.5555555555555556,
             "#d8576b"
            ],
            [
             0.6666666666666666,
             "#ed7953"
            ],
            [
             0.7777777777777778,
             "#fb9f3a"
            ],
            [
             0.8888888888888888,
             "#fdca26"
            ],
            [
             1,
             "#f0f921"
            ]
           ],
           "sequentialminus": [
            [
             0,
             "#0d0887"
            ],
            [
             0.1111111111111111,
             "#46039f"
            ],
            [
             0.2222222222222222,
             "#7201a8"
            ],
            [
             0.3333333333333333,
             "#9c179e"
            ],
            [
             0.4444444444444444,
             "#bd3786"
            ],
            [
             0.5555555555555556,
             "#d8576b"
            ],
            [
             0.6666666666666666,
             "#ed7953"
            ],
            [
             0.7777777777777778,
             "#fb9f3a"
            ],
            [
             0.8888888888888888,
             "#fdca26"
            ],
            [
             1,
             "#f0f921"
            ]
           ]
          },
          "colorway": [
           "#636efa",
           "#EF553B",
           "#00cc96",
           "#ab63fa",
           "#FFA15A",
           "#19d3f3",
           "#FF6692",
           "#B6E880",
           "#FF97FF",
           "#FECB52"
          ],
          "font": {
           "color": "#2a3f5f"
          },
          "geo": {
           "bgcolor": "white",
           "lakecolor": "white",
           "landcolor": "#E5ECF6",
           "showlakes": true,
           "showland": true,
           "subunitcolor": "white"
          },
          "hoverlabel": {
           "align": "left"
          },
          "hovermode": "closest",
          "mapbox": {
           "style": "light"
          },
          "paper_bgcolor": "white",
          "plot_bgcolor": "#E5ECF6",
          "polar": {
           "angularaxis": {
            "gridcolor": "white",
            "linecolor": "white",
            "ticks": ""
           },
           "bgcolor": "#E5ECF6",
           "radialaxis": {
            "gridcolor": "white",
            "linecolor": "white",
            "ticks": ""
           }
          },
          "scene": {
           "xaxis": {
            "backgroundcolor": "#E5ECF6",
            "gridcolor": "white",
            "gridwidth": 2,
            "linecolor": "white",
            "showbackground": true,
            "ticks": "",
            "zerolinecolor": "white"
           },
           "yaxis": {
            "backgroundcolor": "#E5ECF6",
            "gridcolor": "white",
            "gridwidth": 2,
            "linecolor": "white",
            "showbackground": true,
            "ticks": "",
            "zerolinecolor": "white"
           },
           "zaxis": {
            "backgroundcolor": "#E5ECF6",
            "gridcolor": "white",
            "gridwidth": 2,
            "linecolor": "white",
            "showbackground": true,
            "ticks": "",
            "zerolinecolor": "white"
           }
          },
          "shapedefaults": {
           "line": {
            "color": "#2a3f5f"
           }
          },
          "ternary": {
           "aaxis": {
            "gridcolor": "white",
            "linecolor": "white",
            "ticks": ""
           },
           "baxis": {
            "gridcolor": "white",
            "linecolor": "white",
            "ticks": ""
           },
           "bgcolor": "#E5ECF6",
           "caxis": {
            "gridcolor": "white",
            "linecolor": "white",
            "ticks": ""
           }
          },
          "title": {
           "x": 0.05
          },
          "xaxis": {
           "automargin": true,
           "gridcolor": "white",
           "linecolor": "white",
           "ticks": "",
           "title": {
            "standoff": 15
           },
           "zerolinecolor": "white",
           "zerolinewidth": 2
          },
          "yaxis": {
           "automargin": true,
           "gridcolor": "white",
           "linecolor": "white",
           "ticks": "",
           "title": {
            "standoff": 15
           },
           "zerolinecolor": "white",
           "zerolinewidth": 2
          }
         }
        },
        "xaxis": {
         "anchor": "y",
         "categoryarray": [
          "Obra_0",
          "Obra_1",
          "Obra_2",
          "Obra_3",
          "Obra_4",
          "Obra_5",
          "Obra_6",
          "Obra_7",
          "Obra_8",
          "Obra_9",
          "Obra_10",
          "Obra_11",
          "Obra_12",
          "Obra_13",
          "Obra_14",
          "Obra_15",
          "Obra_16",
          "Obra_17",
          "Obra_18",
          "Obra_19",
          "Obra_20",
          "Obra_21",
          "Obra_22",
          "Obra_23",
          "Obra_24"
         ],
         "categoryorder": "array",
         "domain": [
          0,
          0.45
         ],
         "showgrid": false
        },
        "yaxis": {
         "anchor": "x",
         "domain": [
          0,
          1
         ],
         "showgrid": false
        }
       }
      }
     },
     "metadata": {},
     "output_type": "display_data"
    }
   ],
   "source": [
    "# ----- DESDE ACÁ EN ADELANTE, NO TOQUE EL CÓDIGO DE ESTÁ CELDA.\n",
    "\n",
    "# . Correr\n",
    "start = time.perf_counter()\n",
    "obj_rand, obras_selec_rand, presupuesto_usado_rand = random_knapsack(O, c, e, p)\n",
    "end = time.perf_counter()\n",
    "\n",
    "# . Reportar\n",
    "print(\"Objetos seleccionados:\")\n",
    "for idx in obras_selec_rand:\n",
    "    w, v = c[idx], e[idx]\n",
    "    print(f\"  • Obj {idx:>2}: peso={w}, valor={v}\")\n",
    "\n",
    "print(f\"FO (valor total):    {obj_rand}\")\n",
    "print(f\"Presupuesto usado:   {presupuesto_usado_rand}/{p}\")\n",
    "\n",
    "report(obras, obras_selec_rand, obj_rand, presupuesto_usado_rand, p)      #   ▸ Reportar\n",
    "\n",
    "# . Almacenar resultados\n",
    "resultados.append({\n",
    "    \"Método\"             : f\"Random\",\n",
    "    \"Empleos generados\"  : obj_rand,\n",
    "    \"Obras seleccionadas\": len(obras_selec_rand),\n",
    "    \"Presupuesto usado\"  : presupuesto_usado_rand,\n",
    "    \"Tiempo (s)\"         : end - start\n",
    "})\n"
   ]
  },
  {
   "cell_type": "markdown",
   "id": "b10c1a0a",
   "metadata": {},
   "source": [
    "#### Swaps\n",
    "\n",
    "```text\n",
    "# ENTRADAS -------------------------------------------------\n",
    "#   C           : conjunto total de candidatos\n",
    "#   costo(i)    : costo asociado al candidato i\n",
    "#   valor(i)    : beneficio (empleos, utilidad, etc.) del candidato i\n",
    "#   C_max       : presupuesto máximo permitido\n",
    "#   sol_inicial : conjunto factible de partida\n",
    "#   n_intentos  : cuántos swaps probar antes de detenerse\n",
    "#\n",
    "# SALIDAS  -----------------------------------------------\n",
    "#   mejor_sol   : mejor conjunto encontrado\n",
    "#   mejor_valor : suma de valor(i) en mejor_sol\n",
    "#   costo_final : suma de costo(i) en mejor_sol\n",
    "# --------------------------------------------------------\n",
    "\n",
    "# 1. Inicializar con la solución de partida\n",
    "mejor_sol   ← sol_inicial\n",
    "mejor_valor ← Σ_{i∈mejor_sol}  valor(i)\n",
    "\n",
    "# 2. Repetir n_intentos veces\n",
    "para t = 1 … n_intentos:\n",
    "\n",
    "    # 2a. Elegir aleatoriamente un elemento dentro y otro fuera\n",
    "    i ← elemento_aleatorio(  mejor_sol                 )\n",
    "    j ← elemento_aleatorio(  C  \\  mejor_sol           )\n",
    "\n",
    "    # 2b. Construir la solución de prueba: quitar i y añadir j\n",
    "    nueva_sol   ← ( mejor_sol  \\  { i } )  ∪  { j }\n",
    "    nuevo_costo ← Σ_{k∈nueva_sol}  costo(k)\n",
    "\n",
    "    # 2c. Verificar factibilidad de presupuesto\n",
    "    si nuevo_costo ≤ C_max entonces:\n",
    "\n",
    "        nuevo_valor ← Σ_{k∈nueva_sol}  valor(k)\n",
    "\n",
    "        # 2d. Aceptar solo si mejora el valor\n",
    "        si nuevo_valor > mejor_valor entonces:\n",
    "            mejor_sol   ← nueva_sol\n",
    "            mejor_valor ← nuevo_valor\n",
    "            # (opcional) reiniciar contador de intentos si se desea\n",
    "            # n_intentos ← n_intentos   # mantener, si no se reinicia\n",
    "\n",
    "# 3. Calcular costo final para reportar\n",
    "costo_final ← Σ_{i∈mejor_sol}  costo(i)\n",
    "\n",
    "# 4. Devolver mejor solución encontrada\n",
    "return mejor_sol , mejor_valor , costo_final\n",
    "```\n"
   ]
  },
  {
   "cell_type": "code",
   "execution_count": 126,
   "id": "1dea07f8",
   "metadata": {},
   "outputs": [],
   "source": [
    "# ----- DESDE ACÁ EN ADELANTE, NO TOQUE EL CÓDIGO DE ESTÁ CELDA.\n",
    "\n",
    "def swaps_knapsack(O, c, e, p, sol_inicial, n=100, report=False):\n",
    "\n",
    "    # Inicializar\n",
    "    mejor_sol = sol_inicial.copy()\n",
    "    mejor_obj = sum(e[i] for i in mejor_sol)\n",
    "\n",
    "    # 'n' Swaps\n",
    "    for inter in range(1, n + 1):\n",
    "\n",
    "        # ▸ Seleccionar una obra para quitar\n",
    "        i = random.choice(mejor_sol)\n",
    "\n",
    "        # ▸ Seleccionar una obra que no esté en la solución\n",
    "        candidatos = list(set(O) - set(mejor_sol))\n",
    "        j = random.choice(candidatos)\n",
    "\n",
    "        # ▸ Proponer nueva solución: swap i → j\n",
    "        nueva_sol = mejor_sol.copy()\n",
    "        nueva_sol.remove(i)\n",
    "        nueva_sol.append(j)\n",
    "\n",
    "        # ▸ Calcular el costo total de la nueva solución\n",
    "        costo = sum(c[k] for k in nueva_sol)\n",
    "\n",
    "        # ▸ Verificar si respeta el presupuesto\n",
    "        if costo <= p:\n",
    "\n",
    "            # ▸ Calcular empleos generados por la nueva solución\n",
    "            obj = sum(e[k] for k in nueva_sol)\n",
    "\n",
    "            # ▸ Aceptar mejora si aumenta empleos\n",
    "            if obj > mejor_obj:\n",
    "                if report:\n",
    "                    print(f'[Intento {inter}] Mejora aleatoria:')\n",
    "                    print(f'  - Swap: {i} ➜ {j} (e: {e[i]} ➜ {e[j]}, c: {c[i]} ➜ {c[j]})')\n",
    "                    print(f'  - Objetivo nuevo: {round(obj, 2)}')\n",
    "                    print(f'  - Presupuesto: {round(costo, 2)}/{p}\\n')\n",
    "\n",
    "                mejor_sol, mejor_obj = nueva_sol, obj\n",
    "\n",
    "    # Resultados\n",
    "    presupuesto_usado = sum(c[i] for i in mejor_sol)\n",
    "\n",
    "    # Devolver\n",
    "    return mejor_obj, mejor_sol, presupuesto_usado"
   ]
  },
  {
   "cell_type": "code",
   "execution_count": 127,
   "id": "87a88cbb",
   "metadata": {},
   "outputs": [
    {
     "name": "stdout",
     "output_type": "stream",
     "text": [
      "Objetos seleccionados:\n",
      "  • Obj 21: peso=4.0, valor=13.0\n",
      "  • Obj 15: peso=3.0, valor=12.0\n",
      "  • Obj  6: peso=4.0, valor=13.0\n",
      "  • Obj 24: peso=2.0, valor=13.0\n",
      "  • Obj 12: peso=2.0, valor=10.0\n",
      "  • Obj  5: peso=8.0, valor=14.0\n",
      "FO (valor total):    75.0\n",
      "Presupuesto usado:   23.0/25\n"
     ]
    },
    {
     "data": {
      "application/vnd.plotly.v1+json": {
       "config": {
        "plotlyServerURL": "https://plot.ly"
       },
       "data": [
        {
         "customdata": {
          "bdata": "AAAAAAAAFEAAAAAAAAAIQAAAAAAAACJAAAAAAAAAGEAAAAAAAAAkQAAAAAAAABxAAAAAAAAAIEAAAAAAAAAAQAAAAAAAACJAAAAAAAAAGEAAAAAAAAAAQAAAAAAAACJAAAAAAAAAAEAAAAAAAAAYQAAAAAAAAABAAAAAAAAAHEAAAAAAAAAAQAAAAAAAABhAAAAAAAAAGEA=",
          "dtype": "f8"
         },
         "hovertemplate": "<b>%{x}</b><br>Empleos: %{y}<br>Costo: %{customdata} millones",
         "marker": {
          "color": "lightgray"
         },
         "type": "bar",
         "x": [
          "Obra_0",
          "Obra_1",
          "Obra_2",
          "Obra_3",
          "Obra_4",
          "Obra_7",
          "Obra_8",
          "Obra_9",
          "Obra_10",
          "Obra_11",
          "Obra_13",
          "Obra_14",
          "Obra_16",
          "Obra_17",
          "Obra_18",
          "Obra_19",
          "Obra_20",
          "Obra_22",
          "Obra_23"
         ],
         "xaxis": "x",
         "y": {
          "bdata": "AAAAAAAAJEAAAAAAAAAUQAAAAAAAABxAAAAAAAAAFEAAAAAAAAAkQAAAAAAAAAhAAAAAAAAAIEAAAAAAAAAQQAAAAAAAACpAAAAAAAAAJkAAAAAAAAAYQAAAAAAAAABAAAAAAAAAHEAAAAAAAAAQQAAAAAAAAAhAAAAAAAAAKEAAAAAAAAAIQAAAAAAAACRAAAAAAAAAHEA=",
          "dtype": "f8"
         },
         "yaxis": "y"
        },
        {
         "customdata": {
          "bdata": "AAAAAAAAIEAAAAAAAAAQQAAAAAAAAABAAAAAAAAACEAAAAAAAAAQQAAAAAAAAABA",
          "dtype": "f8"
         },
         "hovertemplate": "<b>%{x}</b><br>Empleos: %{y}<br>Costo: %{customdata} millones",
         "marker": {
          "color": "steelblue"
         },
         "type": "bar",
         "x": [
          "Obra_5",
          "Obra_6",
          "Obra_12",
          "Obra_15",
          "Obra_21",
          "Obra_24"
         ],
         "xaxis": "x",
         "y": {
          "bdata": "AAAAAAAALEAAAAAAAAAqQAAAAAAAACRAAAAAAAAAKEAAAAAAAAAqQAAAAAAAACpA",
          "dtype": "f8"
         },
         "yaxis": "y"
        },
        {
         "domain": {
          "x": [
           0.55,
           1
          ],
          "y": [
           0,
           1
          ]
         },
         "gauge": {
          "axis": {
           "range": [
            0,
            25
           ]
          }
         },
         "mode": "gauge+number",
         "number": {
          "font": {
           "size": 40
          },
          "suffix": " / 25"
         },
         "type": "indicator",
         "value": 23
        }
       ],
       "layout": {
        "annotations": [
         {
          "font": {
           "size": 16
          },
          "showarrow": false,
          "text": "Empleos generados<br><sup>FO: 75.0 | Obras: 6</sup>",
          "x": 0.225,
          "xanchor": "center",
          "xref": "paper",
          "y": 1,
          "yanchor": "bottom",
          "yref": "paper"
         }
        ],
        "barmode": "overlay",
        "paper_bgcolor": "white",
        "plot_bgcolor": "white",
        "showlegend": false,
        "template": {
         "data": {
          "bar": [
           {
            "error_x": {
             "color": "#2a3f5f"
            },
            "error_y": {
             "color": "#2a3f5f"
            },
            "marker": {
             "line": {
              "color": "#E5ECF6",
              "width": 0.5
             },
             "pattern": {
              "fillmode": "overlay",
              "size": 10,
              "solidity": 0.2
             }
            },
            "type": "bar"
           }
          ],
          "barpolar": [
           {
            "marker": {
             "line": {
              "color": "#E5ECF6",
              "width": 0.5
             },
             "pattern": {
              "fillmode": "overlay",
              "size": 10,
              "solidity": 0.2
             }
            },
            "type": "barpolar"
           }
          ],
          "carpet": [
           {
            "aaxis": {
             "endlinecolor": "#2a3f5f",
             "gridcolor": "white",
             "linecolor": "white",
             "minorgridcolor": "white",
             "startlinecolor": "#2a3f5f"
            },
            "baxis": {
             "endlinecolor": "#2a3f5f",
             "gridcolor": "white",
             "linecolor": "white",
             "minorgridcolor": "white",
             "startlinecolor": "#2a3f5f"
            },
            "type": "carpet"
           }
          ],
          "choropleth": [
           {
            "colorbar": {
             "outlinewidth": 0,
             "ticks": ""
            },
            "type": "choropleth"
           }
          ],
          "contour": [
           {
            "colorbar": {
             "outlinewidth": 0,
             "ticks": ""
            },
            "colorscale": [
             [
              0,
              "#0d0887"
             ],
             [
              0.1111111111111111,
              "#46039f"
             ],
             [
              0.2222222222222222,
              "#7201a8"
             ],
             [
              0.3333333333333333,
              "#9c179e"
             ],
             [
              0.4444444444444444,
              "#bd3786"
             ],
             [
              0.5555555555555556,
              "#d8576b"
             ],
             [
              0.6666666666666666,
              "#ed7953"
             ],
             [
              0.7777777777777778,
              "#fb9f3a"
             ],
             [
              0.8888888888888888,
              "#fdca26"
             ],
             [
              1,
              "#f0f921"
             ]
            ],
            "type": "contour"
           }
          ],
          "contourcarpet": [
           {
            "colorbar": {
             "outlinewidth": 0,
             "ticks": ""
            },
            "type": "contourcarpet"
           }
          ],
          "heatmap": [
           {
            "colorbar": {
             "outlinewidth": 0,
             "ticks": ""
            },
            "colorscale": [
             [
              0,
              "#0d0887"
             ],
             [
              0.1111111111111111,
              "#46039f"
             ],
             [
              0.2222222222222222,
              "#7201a8"
             ],
             [
              0.3333333333333333,
              "#9c179e"
             ],
             [
              0.4444444444444444,
              "#bd3786"
             ],
             [
              0.5555555555555556,
              "#d8576b"
             ],
             [
              0.6666666666666666,
              "#ed7953"
             ],
             [
              0.7777777777777778,
              "#fb9f3a"
             ],
             [
              0.8888888888888888,
              "#fdca26"
             ],
             [
              1,
              "#f0f921"
             ]
            ],
            "type": "heatmap"
           }
          ],
          "histogram": [
           {
            "marker": {
             "pattern": {
              "fillmode": "overlay",
              "size": 10,
              "solidity": 0.2
             }
            },
            "type": "histogram"
           }
          ],
          "histogram2d": [
           {
            "colorbar": {
             "outlinewidth": 0,
             "ticks": ""
            },
            "colorscale": [
             [
              0,
              "#0d0887"
             ],
             [
              0.1111111111111111,
              "#46039f"
             ],
             [
              0.2222222222222222,
              "#7201a8"
             ],
             [
              0.3333333333333333,
              "#9c179e"
             ],
             [
              0.4444444444444444,
              "#bd3786"
             ],
             [
              0.5555555555555556,
              "#d8576b"
             ],
             [
              0.6666666666666666,
              "#ed7953"
             ],
             [
              0.7777777777777778,
              "#fb9f3a"
             ],
             [
              0.8888888888888888,
              "#fdca26"
             ],
             [
              1,
              "#f0f921"
             ]
            ],
            "type": "histogram2d"
           }
          ],
          "histogram2dcontour": [
           {
            "colorbar": {
             "outlinewidth": 0,
             "ticks": ""
            },
            "colorscale": [
             [
              0,
              "#0d0887"
             ],
             [
              0.1111111111111111,
              "#46039f"
             ],
             [
              0.2222222222222222,
              "#7201a8"
             ],
             [
              0.3333333333333333,
              "#9c179e"
             ],
             [
              0.4444444444444444,
              "#bd3786"
             ],
             [
              0.5555555555555556,
              "#d8576b"
             ],
             [
              0.6666666666666666,
              "#ed7953"
             ],
             [
              0.7777777777777778,
              "#fb9f3a"
             ],
             [
              0.8888888888888888,
              "#fdca26"
             ],
             [
              1,
              "#f0f921"
             ]
            ],
            "type": "histogram2dcontour"
           }
          ],
          "mesh3d": [
           {
            "colorbar": {
             "outlinewidth": 0,
             "ticks": ""
            },
            "type": "mesh3d"
           }
          ],
          "parcoords": [
           {
            "line": {
             "colorbar": {
              "outlinewidth": 0,
              "ticks": ""
             }
            },
            "type": "parcoords"
           }
          ],
          "pie": [
           {
            "automargin": true,
            "type": "pie"
           }
          ],
          "scatter": [
           {
            "fillpattern": {
             "fillmode": "overlay",
             "size": 10,
             "solidity": 0.2
            },
            "type": "scatter"
           }
          ],
          "scatter3d": [
           {
            "line": {
             "colorbar": {
              "outlinewidth": 0,
              "ticks": ""
             }
            },
            "marker": {
             "colorbar": {
              "outlinewidth": 0,
              "ticks": ""
             }
            },
            "type": "scatter3d"
           }
          ],
          "scattercarpet": [
           {
            "marker": {
             "colorbar": {
              "outlinewidth": 0,
              "ticks": ""
             }
            },
            "type": "scattercarpet"
           }
          ],
          "scattergeo": [
           {
            "marker": {
             "colorbar": {
              "outlinewidth": 0,
              "ticks": ""
             }
            },
            "type": "scattergeo"
           }
          ],
          "scattergl": [
           {
            "marker": {
             "colorbar": {
              "outlinewidth": 0,
              "ticks": ""
             }
            },
            "type": "scattergl"
           }
          ],
          "scattermap": [
           {
            "marker": {
             "colorbar": {
              "outlinewidth": 0,
              "ticks": ""
             }
            },
            "type": "scattermap"
           }
          ],
          "scattermapbox": [
           {
            "marker": {
             "colorbar": {
              "outlinewidth": 0,
              "ticks": ""
             }
            },
            "type": "scattermapbox"
           }
          ],
          "scatterpolar": [
           {
            "marker": {
             "colorbar": {
              "outlinewidth": 0,
              "ticks": ""
             }
            },
            "type": "scatterpolar"
           }
          ],
          "scatterpolargl": [
           {
            "marker": {
             "colorbar": {
              "outlinewidth": 0,
              "ticks": ""
             }
            },
            "type": "scatterpolargl"
           }
          ],
          "scatterternary": [
           {
            "marker": {
             "colorbar": {
              "outlinewidth": 0,
              "ticks": ""
             }
            },
            "type": "scatterternary"
           }
          ],
          "surface": [
           {
            "colorbar": {
             "outlinewidth": 0,
             "ticks": ""
            },
            "colorscale": [
             [
              0,
              "#0d0887"
             ],
             [
              0.1111111111111111,
              "#46039f"
             ],
             [
              0.2222222222222222,
              "#7201a8"
             ],
             [
              0.3333333333333333,
              "#9c179e"
             ],
             [
              0.4444444444444444,
              "#bd3786"
             ],
             [
              0.5555555555555556,
              "#d8576b"
             ],
             [
              0.6666666666666666,
              "#ed7953"
             ],
             [
              0.7777777777777778,
              "#fb9f3a"
             ],
             [
              0.8888888888888888,
              "#fdca26"
             ],
             [
              1,
              "#f0f921"
             ]
            ],
            "type": "surface"
           }
          ],
          "table": [
           {
            "cells": {
             "fill": {
              "color": "#EBF0F8"
             },
             "line": {
              "color": "white"
             }
            },
            "header": {
             "fill": {
              "color": "#C8D4E3"
             },
             "line": {
              "color": "white"
             }
            },
            "type": "table"
           }
          ]
         },
         "layout": {
          "annotationdefaults": {
           "arrowcolor": "#2a3f5f",
           "arrowhead": 0,
           "arrowwidth": 1
          },
          "autotypenumbers": "strict",
          "coloraxis": {
           "colorbar": {
            "outlinewidth": 0,
            "ticks": ""
           }
          },
          "colorscale": {
           "diverging": [
            [
             0,
             "#8e0152"
            ],
            [
             0.1,
             "#c51b7d"
            ],
            [
             0.2,
             "#de77ae"
            ],
            [
             0.3,
             "#f1b6da"
            ],
            [
             0.4,
             "#fde0ef"
            ],
            [
             0.5,
             "#f7f7f7"
            ],
            [
             0.6,
             "#e6f5d0"
            ],
            [
             0.7,
             "#b8e186"
            ],
            [
             0.8,
             "#7fbc41"
            ],
            [
             0.9,
             "#4d9221"
            ],
            [
             1,
             "#276419"
            ]
           ],
           "sequential": [
            [
             0,
             "#0d0887"
            ],
            [
             0.1111111111111111,
             "#46039f"
            ],
            [
             0.2222222222222222,
             "#7201a8"
            ],
            [
             0.3333333333333333,
             "#9c179e"
            ],
            [
             0.4444444444444444,
             "#bd3786"
            ],
            [
             0.5555555555555556,
             "#d8576b"
            ],
            [
             0.6666666666666666,
             "#ed7953"
            ],
            [
             0.7777777777777778,
             "#fb9f3a"
            ],
            [
             0.8888888888888888,
             "#fdca26"
            ],
            [
             1,
             "#f0f921"
            ]
           ],
           "sequentialminus": [
            [
             0,
             "#0d0887"
            ],
            [
             0.1111111111111111,
             "#46039f"
            ],
            [
             0.2222222222222222,
             "#7201a8"
            ],
            [
             0.3333333333333333,
             "#9c179e"
            ],
            [
             0.4444444444444444,
             "#bd3786"
            ],
            [
             0.5555555555555556,
             "#d8576b"
            ],
            [
             0.6666666666666666,
             "#ed7953"
            ],
            [
             0.7777777777777778,
             "#fb9f3a"
            ],
            [
             0.8888888888888888,
             "#fdca26"
            ],
            [
             1,
             "#f0f921"
            ]
           ]
          },
          "colorway": [
           "#636efa",
           "#EF553B",
           "#00cc96",
           "#ab63fa",
           "#FFA15A",
           "#19d3f3",
           "#FF6692",
           "#B6E880",
           "#FF97FF",
           "#FECB52"
          ],
          "font": {
           "color": "#2a3f5f"
          },
          "geo": {
           "bgcolor": "white",
           "lakecolor": "white",
           "landcolor": "#E5ECF6",
           "showlakes": true,
           "showland": true,
           "subunitcolor": "white"
          },
          "hoverlabel": {
           "align": "left"
          },
          "hovermode": "closest",
          "mapbox": {
           "style": "light"
          },
          "paper_bgcolor": "white",
          "plot_bgcolor": "#E5ECF6",
          "polar": {
           "angularaxis": {
            "gridcolor": "white",
            "linecolor": "white",
            "ticks": ""
           },
           "bgcolor": "#E5ECF6",
           "radialaxis": {
            "gridcolor": "white",
            "linecolor": "white",
            "ticks": ""
           }
          },
          "scene": {
           "xaxis": {
            "backgroundcolor": "#E5ECF6",
            "gridcolor": "white",
            "gridwidth": 2,
            "linecolor": "white",
            "showbackground": true,
            "ticks": "",
            "zerolinecolor": "white"
           },
           "yaxis": {
            "backgroundcolor": "#E5ECF6",
            "gridcolor": "white",
            "gridwidth": 2,
            "linecolor": "white",
            "showbackground": true,
            "ticks": "",
            "zerolinecolor": "white"
           },
           "zaxis": {
            "backgroundcolor": "#E5ECF6",
            "gridcolor": "white",
            "gridwidth": 2,
            "linecolor": "white",
            "showbackground": true,
            "ticks": "",
            "zerolinecolor": "white"
           }
          },
          "shapedefaults": {
           "line": {
            "color": "#2a3f5f"
           }
          },
          "ternary": {
           "aaxis": {
            "gridcolor": "white",
            "linecolor": "white",
            "ticks": ""
           },
           "baxis": {
            "gridcolor": "white",
            "linecolor": "white",
            "ticks": ""
           },
           "bgcolor": "#E5ECF6",
           "caxis": {
            "gridcolor": "white",
            "linecolor": "white",
            "ticks": ""
           }
          },
          "title": {
           "x": 0.05
          },
          "xaxis": {
           "automargin": true,
           "gridcolor": "white",
           "linecolor": "white",
           "ticks": "",
           "title": {
            "standoff": 15
           },
           "zerolinecolor": "white",
           "zerolinewidth": 2
          },
          "yaxis": {
           "automargin": true,
           "gridcolor": "white",
           "linecolor": "white",
           "ticks": "",
           "title": {
            "standoff": 15
           },
           "zerolinecolor": "white",
           "zerolinewidth": 2
          }
         }
        },
        "xaxis": {
         "anchor": "y",
         "categoryarray": [
          "Obra_0",
          "Obra_1",
          "Obra_2",
          "Obra_3",
          "Obra_4",
          "Obra_5",
          "Obra_6",
          "Obra_7",
          "Obra_8",
          "Obra_9",
          "Obra_10",
          "Obra_11",
          "Obra_12",
          "Obra_13",
          "Obra_14",
          "Obra_15",
          "Obra_16",
          "Obra_17",
          "Obra_18",
          "Obra_19",
          "Obra_20",
          "Obra_21",
          "Obra_22",
          "Obra_23",
          "Obra_24"
         ],
         "categoryorder": "array",
         "domain": [
          0,
          0.45
         ],
         "showgrid": false
        },
        "yaxis": {
         "anchor": "x",
         "domain": [
          0,
          1
         ],
         "showgrid": false
        }
       }
      }
     },
     "metadata": {},
     "output_type": "display_data"
    }
   ],
   "source": [
    "# 10. TODO Defina cuantos intercambios desea hacer.\n",
    "NUM_SWAPS = 10_000\n",
    "\n",
    "# ----- DESDE ACÁ EN ADELANTE, NO TOQUE EL CÓDIGO DE ESTÁ CELDA.\n",
    "\n",
    "# Definir solución inicial\n",
    "obj_rand, obras_selec_rand, presupuesto_usado_rand = random_knapsack(O, c, e, p)\n",
    "sol_inicial = obras_selec_rand\n",
    "\n",
    "# . Correr\n",
    "start = time.perf_counter()\n",
    "obj_rand_swaps, obras_selec_rand_swaps, presupuesto_usado_rand_swaps = swaps_knapsack(O, c, e, p, sol_inicial, n = NUM_SWAPS, report=False)\n",
    "end = time.perf_counter()\n",
    "\n",
    "# . Reportar\n",
    "print(\"Objetos seleccionados:\")\n",
    "for idx in obras_selec_rand_swaps:\n",
    "    w, v = c[idx], e[idx]\n",
    "    print(f\"  • Obj {idx:>2}: peso={w}, valor={v}\")\n",
    "\n",
    "print(f\"FO (valor total):    {obj_rand_swaps}\")\n",
    "print(f\"Presupuesto usado:   {presupuesto_usado_rand_swaps}/{p}\")\n",
    "\n",
    "report(obras, obras_selec_rand_swaps, obj_rand_swaps, presupuesto_usado_rand_swaps, p)      #   ▸ Reportar\n",
    "\n",
    "# . Almacenar resultados\n",
    "resultados.append({\n",
    "    \"Método\"             : \"Random + Swaps\",\n",
    "    \"Empleos generados\"  : obj_rand_swaps,\n",
    "    \"Obras seleccionadas\": len(obras_selec_rand_swaps),\n",
    "    \"Presupuesto usado\"  : presupuesto_usado_rand_swaps,\n",
    "    \"Tiempo (s)\"         : end - start\n",
    "})"
   ]
  },
  {
   "cell_type": "markdown",
   "id": "6bfd2bff",
   "metadata": {},
   "source": [
    "## Resultados"
   ]
  },
  {
   "cell_type": "code",
   "execution_count": 128,
   "id": "b832ad4a",
   "metadata": {},
   "outputs": [
    {
     "data": {
      "text/html": [
       "<div>\n",
       "<style scoped>\n",
       "    .dataframe tbody tr th:only-of-type {\n",
       "        vertical-align: middle;\n",
       "    }\n",
       "\n",
       "    .dataframe tbody tr th {\n",
       "        vertical-align: top;\n",
       "    }\n",
       "\n",
       "    .dataframe thead th {\n",
       "        text-align: right;\n",
       "    }\n",
       "</style>\n",
       "<table border=\"1\" class=\"dataframe\">\n",
       "  <thead>\n",
       "    <tr style=\"text-align: right;\">\n",
       "      <th></th>\n",
       "      <th>Empleos generados</th>\n",
       "      <th>Obras seleccionadas</th>\n",
       "      <th>Presupuesto usado</th>\n",
       "      <th>Tiempo (s)</th>\n",
       "    </tr>\n",
       "    <tr>\n",
       "      <th>Método</th>\n",
       "      <th></th>\n",
       "      <th></th>\n",
       "      <th></th>\n",
       "      <th></th>\n",
       "    </tr>\n",
       "  </thead>\n",
       "  <tbody>\n",
       "    <tr>\n",
       "      <th>LP</th>\n",
       "      <td>85.0</td>\n",
       "      <td>8</td>\n",
       "      <td>25.0</td>\n",
       "      <td>0.034195</td>\n",
       "    </tr>\n",
       "    <tr>\n",
       "      <th>Policy iteration</th>\n",
       "      <td>85.0</td>\n",
       "      <td>8</td>\n",
       "      <td>25.0</td>\n",
       "      <td>0.032581</td>\n",
       "    </tr>\n",
       "    <tr>\n",
       "      <th>Value iteration</th>\n",
       "      <td>85.0</td>\n",
       "      <td>8</td>\n",
       "      <td>25.0</td>\n",
       "      <td>0.013487</td>\n",
       "    </tr>\n",
       "    <tr>\n",
       "      <th>Greedy (e/c)</th>\n",
       "      <td>84.0</td>\n",
       "      <td>8</td>\n",
       "      <td>24.0</td>\n",
       "      <td>0.000034</td>\n",
       "    </tr>\n",
       "    <tr>\n",
       "      <th>Random + Swaps</th>\n",
       "      <td>75.0</td>\n",
       "      <td>6</td>\n",
       "      <td>23.0</td>\n",
       "      <td>0.014993</td>\n",
       "    </tr>\n",
       "    <tr>\n",
       "      <th>Greedy (e)</th>\n",
       "      <td>53.0</td>\n",
       "      <td>4</td>\n",
       "      <td>25.0</td>\n",
       "      <td>0.000043</td>\n",
       "    </tr>\n",
       "    <tr>\n",
       "      <th>Random</th>\n",
       "      <td>33.0</td>\n",
       "      <td>4</td>\n",
       "      <td>25.0</td>\n",
       "      <td>0.000063</td>\n",
       "    </tr>\n",
       "    <tr>\n",
       "      <th>Policy evaluation</th>\n",
       "      <td>31.0</td>\n",
       "      <td>5</td>\n",
       "      <td>25.0</td>\n",
       "      <td>0.002200</td>\n",
       "    </tr>\n",
       "  </tbody>\n",
       "</table>\n",
       "</div>"
      ],
      "text/plain": [
       "                   Empleos generados  Obras seleccionadas  Presupuesto usado  \\\n",
       "Método                                                                         \n",
       "LP                              85.0                    8               25.0   \n",
       "Policy iteration                85.0                    8               25.0   \n",
       "Value iteration                 85.0                    8               25.0   \n",
       "Greedy (e/c)                    84.0                    8               24.0   \n",
       "Random + Swaps                  75.0                    6               23.0   \n",
       "Greedy (e)                      53.0                    4               25.0   \n",
       "Random                          33.0                    4               25.0   \n",
       "Policy evaluation               31.0                    5               25.0   \n",
       "\n",
       "                   Tiempo (s)  \n",
       "Método                         \n",
       "LP                   0.034195  \n",
       "Policy iteration     0.032581  \n",
       "Value iteration      0.013487  \n",
       "Greedy (e/c)         0.000034  \n",
       "Random + Swaps       0.014993  \n",
       "Greedy (e)           0.000043  \n",
       "Random               0.000063  \n",
       "Policy evaluation    0.002200  "
      ]
     },
     "execution_count": 128,
     "metadata": {},
     "output_type": "execute_result"
    }
   ],
   "source": [
    "# ----- DESDE ACÁ EN ADELANTE, NO TOQUE EL CÓDIGO DE ESTÁ CELDA.\n",
    "\n",
    "import pandas as pd\n",
    "\n",
    "# -- Crear DataFrame desde la lista de resultados --\n",
    "df_resultados = pd.DataFrame(resultados)\n",
    "\n",
    "# -- Establecer 'Método' como índice --\n",
    "df_resultados.set_index(\"Método\", inplace=True)\n",
    "\n",
    "# -- Ordenar por empleos generados (de mayor a menor) --\n",
    "df_resultados.sort_values(\"Empleos generados\", ascending=False, inplace=True)\n",
    "\n",
    "# -- Visualizar resultados ordenados --\n",
    "df_resultados"
   ]
  },
  {
   "cell_type": "code",
   "execution_count": 129,
   "id": "bfff1c66",
   "metadata": {},
   "outputs": [
    {
     "data": {
      "text/html": [
       "<div>\n",
       "<style scoped>\n",
       "    .dataframe tbody tr th:only-of-type {\n",
       "        vertical-align: middle;\n",
       "    }\n",
       "\n",
       "    .dataframe tbody tr th {\n",
       "        vertical-align: top;\n",
       "    }\n",
       "\n",
       "    .dataframe thead th {\n",
       "        text-align: right;\n",
       "    }\n",
       "</style>\n",
       "<table border=\"1\" class=\"dataframe\">\n",
       "  <thead>\n",
       "    <tr style=\"text-align: right;\">\n",
       "      <th></th>\n",
       "      <th>Empleos generados GAP (%)</th>\n",
       "      <th>Obras seleccionadas GAP (%)</th>\n",
       "      <th>Presupuesto usado GAP (%)</th>\n",
       "      <th>Tiempo (s) (x veces LP)</th>\n",
       "    </tr>\n",
       "    <tr>\n",
       "      <th>Método</th>\n",
       "      <th></th>\n",
       "      <th></th>\n",
       "      <th></th>\n",
       "      <th></th>\n",
       "    </tr>\n",
       "  </thead>\n",
       "  <tbody>\n",
       "    <tr>\n",
       "      <th>LP</th>\n",
       "      <td>0.000</td>\n",
       "      <td>0.0</td>\n",
       "      <td>0.0</td>\n",
       "      <td>1.0000</td>\n",
       "    </tr>\n",
       "    <tr>\n",
       "      <th>Policy iteration</th>\n",
       "      <td>0.000</td>\n",
       "      <td>0.0</td>\n",
       "      <td>0.0</td>\n",
       "      <td>0.9528</td>\n",
       "    </tr>\n",
       "    <tr>\n",
       "      <th>Value iteration</th>\n",
       "      <td>0.000</td>\n",
       "      <td>0.0</td>\n",
       "      <td>0.0</td>\n",
       "      <td>0.3944</td>\n",
       "    </tr>\n",
       "    <tr>\n",
       "      <th>Greedy (e/c)</th>\n",
       "      <td>-1.176</td>\n",
       "      <td>0.0</td>\n",
       "      <td>-4.0</td>\n",
       "      <td>0.0010</td>\n",
       "    </tr>\n",
       "    <tr>\n",
       "      <th>Random + Swaps</th>\n",
       "      <td>-11.765</td>\n",
       "      <td>-25.0</td>\n",
       "      <td>-8.0</td>\n",
       "      <td>0.4385</td>\n",
       "    </tr>\n",
       "    <tr>\n",
       "      <th>Greedy (e)</th>\n",
       "      <td>-37.647</td>\n",
       "      <td>-50.0</td>\n",
       "      <td>0.0</td>\n",
       "      <td>0.0013</td>\n",
       "    </tr>\n",
       "    <tr>\n",
       "      <th>Random</th>\n",
       "      <td>-61.176</td>\n",
       "      <td>-50.0</td>\n",
       "      <td>0.0</td>\n",
       "      <td>0.0018</td>\n",
       "    </tr>\n",
       "    <tr>\n",
       "      <th>Policy evaluation</th>\n",
       "      <td>-63.529</td>\n",
       "      <td>-37.5</td>\n",
       "      <td>0.0</td>\n",
       "      <td>0.0643</td>\n",
       "    </tr>\n",
       "  </tbody>\n",
       "</table>\n",
       "</div>"
      ],
      "text/plain": [
       "                   Empleos generados GAP (%)  Obras seleccionadas GAP (%)  \\\n",
       "Método                                                                      \n",
       "LP                                     0.000                          0.0   \n",
       "Policy iteration                       0.000                          0.0   \n",
       "Value iteration                        0.000                          0.0   \n",
       "Greedy (e/c)                          -1.176                          0.0   \n",
       "Random + Swaps                       -11.765                        -25.0   \n",
       "Greedy (e)                           -37.647                        -50.0   \n",
       "Random                               -61.176                        -50.0   \n",
       "Policy evaluation                    -63.529                        -37.5   \n",
       "\n",
       "                   Presupuesto usado GAP (%)  Tiempo (s) (x veces LP)  \n",
       "Método                                                                 \n",
       "LP                                       0.0                   1.0000  \n",
       "Policy iteration                         0.0                   0.9528  \n",
       "Value iteration                          0.0                   0.3944  \n",
       "Greedy (e/c)                            -4.0                   0.0010  \n",
       "Random + Swaps                          -8.0                   0.4385  \n",
       "Greedy (e)                               0.0                   0.0013  \n",
       "Random                                   0.0                   0.0018  \n",
       "Policy evaluation                        0.0                   0.0643  "
      ]
     },
     "execution_count": 129,
     "metadata": {},
     "output_type": "execute_result"
    }
   ],
   "source": [
    "# -- Tomar la solución base de referencia (LP) --\n",
    "base_lp = df_resultados.loc[\"LP\"]\n",
    "\n",
    "# -- Calcular el GAP porcentual relativo al método LP (excepto para Tiempo) --\n",
    "gap_df = ((df_resultados - base_lp) / base_lp) * 100\n",
    "\n",
    "# -- Reemplazar la columna de tiempo con \"x veces LP\" en lugar de porcentaje --\n",
    "tiempo_ratio = (df_resultados[\"Tiempo (s)\"] / base_lp[\"Tiempo (s)\"]).round(4)\n",
    "\n",
    "# -- Redondear GAPs a 3 decimales --\n",
    "gap_df = gap_df.round(3)\n",
    "\n",
    "# -- Renombrar columnas GAP --\n",
    "gap_df.columns = [col + \" GAP (%)\" for col in gap_df.columns]\n",
    "\n",
    "# -- Reemplazar columna de tiempo con \"x veces LP\" --\n",
    "gap_df[\"Tiempo (s) (x veces LP)\"] = tiempo_ratio\n",
    "\n",
    "# -- Eliminar columna anterior de GAP de tiempo --\n",
    "gap_df = gap_df.drop(columns=[\"Tiempo (s) GAP (%)\"])\n",
    "\n",
    "# -- Mostrar tabla --\n",
    "gap_df"
   ]
  },
  {
   "cell_type": "markdown",
   "id": "587fe4f2",
   "metadata": {},
   "source": [
    "#### Aux"
   ]
  },
  {
   "cell_type": "code",
   "execution_count": 130,
   "id": "483faf2f",
   "metadata": {},
   "outputs": [],
   "source": [
    "import matplotlib.pyplot as plt\n",
    "\n",
    "def plot_barras_con_etiquetas(df):\n",
    "\n",
    "    # Definir métricas y colores\n",
    "    metricas = [\n",
    "        \"Empleos generados\",\n",
    "        \"Obras seleccionadas\",\n",
    "        \"Presupuesto usado\"\n",
    "    ]\n",
    "    titulos = [\n",
    "        \"Empleos generados (miles)\",\n",
    "        \"Obras seleccionadas\",\n",
    "        \"Presupuesto usado (M)\"\n",
    "    ]\n",
    "    colores = [\"#4caf50\", \"#2196f3\", \"#ff9800\"]  # verde, azul, naranja\n",
    "    metodos = df.index\n",
    "\n",
    "    # Crear subplots\n",
    "    fig, axs = plt.subplots(1, 3, figsize=(20, 6))\n",
    "\n",
    "    for ax, col_name, titulo, color in zip(axs, metricas, titulos, colores):\n",
    "        valores = df[col_name]\n",
    "        bars = ax.bar(metodos, valores, color=color)\n",
    "\n",
    "        # Quitar etiquetas del eje X\n",
    "        ax.set_xticks([])\n",
    "\n",
    "        # Añadir texto dentro de cada barra\n",
    "        for bar, metodo in zip(bars, metodos):\n",
    "            altura = bar.get_height()\n",
    "            ax.text(\n",
    "                bar.get_x() + bar.get_width() / 2,\n",
    "                altura / 2,               # centrado vertical\n",
    "                metodo,\n",
    "                ha=\"center\", va=\"center\",\n",
    "                rotation=90,\n",
    "                color=\"white\", fontsize=12, fontweight=\"bold\"\n",
    "            )\n",
    "\n",
    "        ax.set_title(titulo, fontsize=11)\n",
    "        ax.set_ylabel(col_name)\n",
    "\n",
    "    plt.tight_layout()\n",
    "    plt.show()\n"
   ]
  },
  {
   "cell_type": "code",
   "execution_count": 131,
   "id": "c03d1c89",
   "metadata": {},
   "outputs": [],
   "source": [
    "import matplotlib.pyplot as plt\n",
    "import numpy as np\n",
    "\n",
    "def plot_eficiencia(df):\n",
    "    \"\"\"\n",
    "    Genera un gráfico de dispersión:\n",
    "    Eje X = Tiempo de ejecución (escala log)\n",
    "    Eje Y = Empleos generados\n",
    "\n",
    "    Cada punto representa un método, con color distinto.\n",
    "    \n",
    "    Parámetros:\n",
    "    -----------\n",
    "    df : pandas.DataFrame\n",
    "        Debe contener columnas:\n",
    "        - 'Tiempo (s)'\n",
    "        - 'Empleos generados'\n",
    "        El índice debe contener los nombres de los métodos.\n",
    "    \"\"\"\n",
    "    metodos = df.index\n",
    "\n",
    "    fig, ax = plt.subplots(figsize=(12, 6))\n",
    "\n",
    "    # Colores por método\n",
    "    cmap = plt.colormaps.get_cmap(\"tab10\")   # evitar warning deprecation\n",
    "    col_indices = np.arange(len(df)) % 10\n",
    "    colors = cmap(col_indices)\n",
    "\n",
    "    # Scatter\n",
    "    ax.scatter(\n",
    "        df[\"Tiempo (s)\"],\n",
    "        df[\"Empleos generados\"],\n",
    "        s=120,\n",
    "        c=colors,\n",
    "        edgecolors=\"k\",\n",
    "        alpha=0.9\n",
    "    )\n",
    "\n",
    "    # Configuración de ejes\n",
    "    ax.set_xscale(\"log\")\n",
    "    ax.set_xlabel(\"Tiempo de ejecución (s)  [escala log]\")\n",
    "    ax.set_ylabel(\"Empleos generados (miles)\")\n",
    "    ax.set_title(\"Eficiencia: Empleos vs Tiempo\")\n",
    "\n",
    "    # Leyenda (un color por método)\n",
    "    handles = [\n",
    "        plt.Line2D([0], [0], marker=\"o\", color=\"w\",\n",
    "                   markerfacecolor=cmap(i % 10), markeredgecolor=\"k\",\n",
    "                   markersize=8)\n",
    "        for i in col_indices\n",
    "    ]\n",
    "    ax.legend(handles, metodos, loc=\"upper left\",\n",
    "              bbox_to_anchor=(1.02, 1), frameon=False)\n",
    "\n",
    "    plt.tight_layout()\n",
    "    plt.show()\n"
   ]
  },
  {
   "cell_type": "code",
   "execution_count": 132,
   "id": "4f0b1c06",
   "metadata": {},
   "outputs": [],
   "source": [
    "import matplotlib.pyplot as plt\n",
    "\n",
    "def plot_gaps(gap_df):\n",
    "    metricas = [\n",
    "        \"Empleos generados GAP (%)\",\n",
    "        \"Obras seleccionadas GAP (%)\",\n",
    "        \"Presupuesto usado GAP (%)\"\n",
    "    ]\n",
    "    titulos = [\n",
    "        \"GAP en empleos (%)\",\n",
    "        \"GAP en nº de obras (%)\",\n",
    "        \"GAP en presupuesto (%)\"\n",
    "    ]\n",
    "    colores = [\"#4caf50\", \"#2196f3\", \"#ff9800\"]\n",
    "    metodos = gap_df.index\n",
    "\n",
    "    fig, axs = plt.subplots(1, 3, figsize=(18, 5))\n",
    "\n",
    "    for ax, col_name, titulo, color in zip(axs, metricas, titulos, colores):\n",
    "        valores = gap_df[col_name]\n",
    "        bars = ax.bar(metodos, valores, color=color, edgecolor=\"none\")\n",
    "        ax.axhline(0, color=\"black\", linewidth=0.8)\n",
    "        ax.set_title(titulo, fontsize=12)\n",
    "        ax.set_ylabel(\"Porcentaje\")\n",
    "        ax.tick_params(axis=\"x\", rotation=45)\n",
    "\n",
    "        # Ajustar límites con margen\n",
    "        margen = max(abs(valores)) * 0.2\n",
    "        ax.set_ylim(valores.min() - margen, valores.max() + margen)\n",
    "\n",
    "        for bar, valor in zip(bars, valores):\n",
    "            offset = 1 if valor >= 0 else -1\n",
    "            va = \"bottom\" if valor >= 0 else \"top\"\n",
    "            ax.text(\n",
    "                bar.get_x() + bar.get_width() / 2,\n",
    "                valor + offset,\n",
    "                f\"{valor:.1f}%\",\n",
    "                ha=\"center\", va=va, fontsize=8\n",
    "            )\n",
    "\n",
    "    plt.tight_layout()\n",
    "    plt.show()\n"
   ]
  },
  {
   "cell_type": "code",
   "execution_count": 133,
   "id": "aaac5d30",
   "metadata": {},
   "outputs": [],
   "source": [
    "import matplotlib.pyplot as plt\n",
    "\n",
    "def plot_tiempo_relativo(gap_df):\n",
    "    \"\"\"\n",
    "    Gráfico de barras horizontales de tiempo relativo respecto a LP,\n",
    "    resaltando LP en gris y ajustando límites para que no se salgan las etiquetas.\n",
    "    \"\"\"\n",
    "\n",
    "    # Ordenar por tiempo relativo (el más lento arriba)\n",
    "    #gap_sorted = gap_df.sort_values(\"Tiempo (s) (x veces LP)\", ascending=False)\n",
    "    gap_sorted = gap_df\n",
    "\n",
    "    # Colores: gris para LP, azul para los demás\n",
    "    colores = [\"#888888\" if metodo == \"LP\" else \"#2196f3\" for metodo in gap_sorted.index]\n",
    "\n",
    "    # Calcular límite superior del eje X con margen\n",
    "    max_val = gap_sorted[\"Tiempo (s) (x veces LP)\"].max()\n",
    "    limite_x = max_val * 1.2\n",
    "\n",
    "    fig, ax = plt.subplots(figsize=(10, 4))\n",
    "    bars = ax.barh(\n",
    "        gap_sorted.index,\n",
    "        gap_sorted[\"Tiempo (s) (x veces LP)\"],\n",
    "        color=colores\n",
    "    )\n",
    "\n",
    "    ax.set_xlim(0, limite_x)\n",
    "    ax.set_xlabel(\"Tiempo relativo (× LP)\")\n",
    "    ax.set_title(\"Velocidad relativa a LP\")\n",
    "    ax.invert_yaxis()  # Mostrar el más lento arriba\n",
    "\n",
    "    # Etiquetas de valor a la derecha de cada barra\n",
    "    for bar, value in zip(bars, gap_sorted[\"Tiempo (s) (x veces LP)\"]):\n",
    "        ax.text(\n",
    "            value + max_val * 0.02,\n",
    "            bar.get_y() + bar.get_height() / 2,\n",
    "            f\"{value:.3f}\",\n",
    "            va=\"center\", fontsize=8\n",
    "        )\n",
    "\n",
    "    plt.tight_layout()\n",
    "    plt.show()\n"
   ]
  },
  {
   "cell_type": "markdown",
   "id": "be165d19",
   "metadata": {},
   "source": [
    "#### Comparar"
   ]
  },
  {
   "cell_type": "code",
   "execution_count": 134,
   "id": "95fa6db7",
   "metadata": {},
   "outputs": [
    {
     "data": {
      "image/png": "[encoded data removed]",
      "text/plain": [
       "<Figure size 2000x600 with 3 Axes>"
      ]
     },
     "metadata": {},
     "output_type": "display_data"
    },
    {
     "data": {
      "image/png": "[encoded data removed]",
      "text/plain": [
       "<Figure size 1200x600 with 1 Axes>"
      ]
     },
     "metadata": {},
     "output_type": "display_data"
    }
   ],
   "source": [
    "plot_barras_con_etiquetas(df_resultados)\n",
    "plot_eficiencia(df_resultados)"
   ]
  },
  {
   "cell_type": "code",
   "execution_count": 135,
   "id": "7f94c405",
   "metadata": {},
   "outputs": [
    {
     "data": {
      "image/png": "[encoded data removed]",
      "text/plain": [
       "<Figure size 1800x500 with 3 Axes>"
      ]
     },
     "metadata": {},
     "output_type": "display_data"
    },
    {
     "data": {
      "image/png": "[encoded data removed]",
      "text/plain": [
       "<Figure size 1000x400 with 1 Axes>"
      ]
     },
     "metadata": {},
     "output_type": "display_data"
    }
   ],
   "source": [
    "plot_gaps(gap_df)\n",
    "plot_tiempo_relativo(gap_df)\n"
   ]
  },
  {
   "cell_type": "markdown",
   "id": "6c883c19",
   "metadata": {},
   "source": [
    "## (Opcional) Visualizar PD"
   ]
  },
  {
   "cell_type": "code",
   "execution_count": 136,
   "id": "7adc1be3",
   "metadata": {},
   "outputs": [
    {
     "name": "stdout",
     "output_type": "stream",
     "text": [
      "Para visualizar, use una instancia más pequeña.\n"
     ]
    }
   ],
   "source": [
    "# ----- DESDE ACÁ EN ADELANTE, NO TOQUE EL CÓDIGO DE ESTÁ CELDA.\n",
    "\n",
    "# Visualización  de V(s)\n",
    "if env.capacity <= 20:\n",
    "\n",
    "    # Evaluación de política\n",
    "    print(\"Policy Evaluation\")\n",
    "    value_states_visual(env, V, propose_policy)\n",
    "\n",
    "    # Política óptima vía iteración de políticas\n",
    "    print(\"Policy Iteration\")\n",
    "    value_states_visual(env, V_star, star_policy)\n",
    "\n",
    "    # Política óptima vía iteración de valores\n",
    "    print(\"Value Iteration\")\n",
    "    value_states_visual(env, V_opt, opt_policy)\n",
    "\n",
    "else:\n",
    "    print(\"Para visualizar, use una instancia más pequeña.\")"
   ]
  },
  {
   "cell_type": "code",
   "execution_count": 137,
   "id": "d8fd12a7",
   "metadata": {},
   "outputs": [
    {
     "name": "stdout",
     "output_type": "stream",
     "text": [
      "Para visualizar, use una instancia más pequeña.\n"
     ]
    }
   ],
   "source": [
    "# ----- DESDE ACÁ EN ADELANTE, NO TOQUE EL CÓDIGO DE ESTÁ CELDA.\n",
    "\n",
    "# Visualización de las decisiones para cada política evaluada\n",
    "if env.capacity <= 20:\n",
    "\n",
    "    # Evaluación de política\n",
    "    print(\"Policy Evaluation\")\n",
    "    draw_policy_dag(env, propose_policy, initial_state=(0, env.capacity))\n",
    "    print()\n",
    "\n",
    "    # Política óptima vía iteración de políticas\n",
    "    print(\"Policy Iteration\")\n",
    "    draw_policy_dag(env, star_policy, initial_state=(0, env.capacity))\n",
    "    print()\n",
    "\n",
    "    # Política óptima vía iteración de valores\n",
    "    print(\"Value Iteration\")\n",
    "    draw_policy_dag(env, opt_policy, initial_state=(0, env.capacity))\n",
    "    print()\n",
    "\n",
    "else:\n",
    "    print(\"Para visualizar, use una instancia más pequeña.\")\n"
   ]
  }
 ],
 "metadata": {
  "kernelspec": {
   "display_name": "Python 3",
   "language": "python",
   "name": "python3"
  },
  "language_info": {
   "codemirror_mode": {
    "name": "ipython",
    "version": 3
   },
   "file_extension": ".py",
   "mimetype": "text/x-python",
   "name": "python",
   "nbconvert_exporter": "python",
   "pygments_lexer": "ipython3",
   "version": "3.12.11"
  }
 },
 "nbformat": 4,
 "nbformat_minor": 5
}

{
 "cells": [
  {
   "cell_type": "markdown",
   "id": "bcef2db9",
   "metadata": {},
   "source": [
    "## Dependencias"
   ]
  },
  {
   "cell_type": "code",
   "execution_count": 2,
   "id": "36b5814e",
   "metadata": {},
   "outputs": [],
   "source": [
    "from plot import plot_\n",
    "from math import cos, pi, sin\n",
    "import numpy as np"
   ]
  },
  {
   "cell_type": "markdown",
   "id": "7fc16b94",
   "metadata": {},
   "source": [
    "## Función de Perdida"
   ]
  },
  {
   "cell_type": "code",
   "execution_count": 3,
   "id": "db978b6b",
   "metadata": {},
   "outputs": [],
   "source": [
    "\"\"\"\n",
    "Implemente una función en Python llamada evaluar_indice que reciba como parámetro una tupla con una coordenada (x,y) \n",
    "y retorne el valor del índice ϕ para dicha coordenada. \n",
    "\"\"\"\n",
    "\n",
    "def evaluar_indice(coords: tuple) -> float:\n",
    "    \"\"\"\n",
    "    Calcula el valor del índice para una coordenada (x, y).\n",
    "\n",
    "    Fórmula:\n",
    "    --------\n",
    "    f(x, y) = 100 * (x² + y - 11)² + 100 * (x + y² - 7)²\n",
    "\n",
    "    Parámetros\n",
    "    ----------\n",
    "    coords : tuple\n",
    "        Tupla con la coordenada (x, y).\n",
    "\n",
    "    Retorna\n",
    "    -------\n",
    "    float\n",
    "        Valor del índice en la coordenada dada.\n",
    "    \"\"\"\n",
    "    x, y = coords\n"
   ]
  },
  {
   "cell_type": "code",
   "execution_count": 6,
   "id": "0cbe4939",
   "metadata": {},
   "outputs": [
    {
     "name": "stdout",
     "output_type": "stream",
     "text": [
      "None\n"
     ]
    }
   ],
   "source": [
    "\"\"\"\n",
    "    Vamos a probar la función con unos ejemplos.\n",
    "\"\"\"\n",
    "print(evaluar_indice((0.5, -0.25)))"
   ]
  },
  {
   "cell_type": "markdown",
   "id": "e43b03d2",
   "metadata": {},
   "source": [
    "## Radar & Espacio de Busqueda"
   ]
  },
  {
   "cell_type": "code",
   "execution_count": 8,
   "id": "2023dad2",
   "metadata": {},
   "outputs": [],
   "source": [
    "\"\"\"\n",
    "Implemente una función en Python llamada generar_radar que reciba dos parámetros: una tupla con las \n",
    "coordenadas actuales (x^t, y^t) y la longitud λ. La función debe retornar las 8 coordenadas vecinas en una lista. \n",
    "\"\"\"\n",
    "\n",
    "def generar_radar(coor: tuple, lbd: float) -> list[tuple]:\n",
    "    \"\"\"\n",
    "    Genera las 8 coordenadas vecinas de un punto (x, y) en un radio λ.\n",
    "\n",
    "    Parámetros\n",
    "    ----------\n",
    "    coor : tuple\n",
    "        Tupla con la coordenada actual (x, y).\n",
    "    lbd : float\n",
    "        Longitud de paso λ.\n",
    "\n",
    "    Retorna\n",
    "    -------\n",
    "    list[tuple]\n",
    "        Lista con las 8 coordenadas vecinas:\n",
    "        - 4 en las direcciones cardinales (arriba, abajo, izquierda, derecha).\n",
    "        - 4 en las diagonales (45°, 135°, 225°, 315°).\n",
    "    \"\"\"\n",
    "    x, y = coor"
   ]
  },
  {
   "cell_type": "code",
   "execution_count": 9,
   "id": "760c0778",
   "metadata": {},
   "outputs": [
    {
     "name": "stdout",
     "output_type": "stream",
     "text": [
      "None\n"
     ]
    }
   ],
   "source": [
    "\"\"\"\n",
    "    Vamos a probar la función con unos ejemplos.\n",
    "\"\"\"\n",
    "print(generar_radar((0.5, -0.25), 0.1))"
   ]
  },
  {
   "cell_type": "code",
   "execution_count": null,
   "id": "47d52467",
   "metadata": {},
   "outputs": [],
   "source": [
    "\"\"\"\n",
    "Implemente una función en Python llamada evaluar_factibilidad que reciba como parámetro una tupla representando \n",
    "una coordenada (x,y) y retorne True en caso de que dicha coordenada se encuentre dentro de la región de estudio \n",
    "(cumpla todas las restricciones) y False de lo contrario.\n",
    "\"\"\"\n",
    "\n",
    "def evaluar_factibilidad(coor: tuple) -> bool:\n",
    "    \"\"\"\n",
    "    Evalúa si una coordenada (x, y) es factible según restricciones.\n",
    "\n",
    "    Restricciones:\n",
    "    --------------\n",
    "    -6 ≤ x ≤ 6  \n",
    "    -6 ≤ y ≤ 6  \n",
    "    x + y ≥ -6\n",
    "\n",
    "    Parámetros\n",
    "    ----------\n",
    "    coor : tuple\n",
    "        Tupla con la coordenada (x, y).\n",
    "\n",
    "    Retorna\n",
    "    -------\n",
    "    bool\n",
    "        True si cumple todas las restricciones (factible).\n",
    "        False en caso contrario.\n",
    "    \"\"\"\n",
    "    x, y = coor"
   ]
  },
  {
   "cell_type": "code",
   "execution_count": null,
   "id": "6745d879",
   "metadata": {},
   "outputs": [],
   "source": [
    "\"\"\"\n",
    "    Vamos a probar la función con unos ejemplos.\n",
    "\"\"\"\n",
    "print(evaluar_factibilidad((0.5, -0.25)))"
   ]
  },
  {
   "cell_type": "markdown",
   "id": "ae123ee7",
   "metadata": {},
   "source": [
    "## Algoritmo de movimiento"
   ]
  },
  {
   "cell_type": "code",
   "execution_count": null,
   "id": "5ab4ef5c",
   "metadata": {},
   "outputs": [],
   "source": [
    "\"\"\"\n",
    "Implemente una función en Python llamada encontrar_mejor_coor que reciba como parámetro un diccionario donde \n",
    "las llaves son coordenadas y los valores el índice ϕ correspondiente. Esta función debe retornar una tupla \n",
    "con la coordenada de menor índice y, además, el valor de dicho índice. En esta función, debe evaluar si el \n",
    "diccionario que entra por parámetro está vacío, en cuyo caso deberá retornar False. \n",
    "\n",
    "El Algoritmo 1 resume esta función.\n",
    "\"\"\"\n",
    "\n",
    "def encontrar_mejor_coor(my_dict: dict):\n",
    "    \"\"\"\n",
    "    Encuentra la coordenada con el menor índice en un diccionario.\n",
    "\n",
    "    Parámetros\n",
    "    ----------\n",
    "    my_dict : dict\n",
    "        Diccionario donde:\n",
    "        - Llaves: coordenadas (x, y).\n",
    "        - Valores: índice ϕ asociado a cada coordenada.\n",
    "\n",
    "    Retorna\n",
    "    -------\n",
    "    tuple | bool\n",
    "        - (coordenada, índice) de la mejor ubicación (menor índice).\n",
    "        - False si el diccionario está vacío.\n",
    "    \"\"\"\n",
    "    return False"
   ]
  },
  {
   "cell_type": "code",
   "execution_count": null,
   "id": "2d62a482",
   "metadata": {},
   "outputs": [],
   "source": [
    "\"\"\"\n",
    "    Vamos a probar la función con unos ejemplos.\n",
    "\"\"\"\n",
    "candidatos = generar_radar((0.5, -0.25), 0.1)\n",
    "puntuaciones = {coor: evaluar_indice(coor) for coor in candidatos if evaluar_factibilidad(coor)}\n",
    "print(puntuaciones)"
   ]
  },
  {
   "cell_type": "code",
   "execution_count": null,
   "id": "94063cc7",
   "metadata": {},
   "outputs": [],
   "source": [
    "print(encontrar_mejor_coor(puntuaciones))"
   ]
  },
  {
   "cell_type": "markdown",
   "id": "0d393760",
   "metadata": {},
   "source": [
    "## Busqueda Local"
   ]
  },
  {
   "cell_type": "code",
   "execution_count": null,
   "id": "a10c0a24",
   "metadata": {},
   "outputs": [],
   "source": [
    "\"\"\"\n",
    "Función que implementa el método de búsqueda local.\n",
    "\n",
    "Este método utiliza las funciones:\n",
    "    - evaluar_indice\n",
    "    - generar_radar\n",
    "    - evaluar_factibilidad\n",
    "    - encontrar_mejor_coor\n",
    "para realizar un proceso de optimización local.\n",
    "\"\"\"\n",
    "\n",
    "\n",
    "def busqueda_local(coord_ini: tuple, lbd: float) -> list:\n",
    "    \"\"\"\n",
    "    Realiza una búsqueda local para encontrar la mejor coordenada factible.\n",
    "\n",
    "    Parámetros\n",
    "    ----------\n",
    "    coord_ini : tuple\n",
    "        Coordenada inicial (x, y) desde donde comienza la búsqueda.\n",
    "    lbd : float\n",
    "        Longitud de paso (lambda) utilizada para generar el radar.\n",
    "\n",
    "    Retorna\n",
    "    -------\n",
    "    list[tuple]\n",
    "        Lista de pasos [(coordenada, índice)], incluyendo la inicial\n",
    "        y cada mejora encontrada durante la búsqueda local.\n",
    "    \"\"\"\n",
    "\n",
    "    # --- Inicialización ---\n",
    "    ubicacion_actual = coord_ini\n",
    "    objetivo_actual = evaluar_indice(ubicacion_actual)\n",
    "    hay_mejora = True\n",
    "\n",
    "    steps = [(ubicacion_actual, objetivo_actual)]\n",
    "    print(f\"Iniciamos en: {coord_ini} con F.O. = {objetivo_actual}\")\n",
    "\n",
    "    # --- Proceso iterativo ---\n",
    "    while hay_mejora:\n",
    "        mejor_objetivo = objetivo_actual\n",
    "\n",
    "        # Generar las ubicaciones del radar\n",
    "        radar = generar_radar(ubicacion_actual, lbd)\n",
    "        my_dict = {}\n",
    "\n",
    "        # Guardar las ubicaciones factibles con sus índices\n",
    "        for coor in radar:\n",
    "            if evaluar_factibilidad(coor):\n",
    "                nuevo_objetivo = evaluar_indice(coor)\n",
    "                my_dict[coor] = nuevo_objetivo\n",
    "\n",
    "        # Buscar la mejor ubicación del radar y actualizar posición\n",
    "        res = encontrar_mejor_coor(my_dict)\n",
    "        if res is not False and res[1] < mejor_objetivo:\n",
    "            ubicacion_actual = res[0]\n",
    "            objetivo_actual = res[1]\n",
    "            steps.append((ubicacion_actual, objetivo_actual))\n",
    "        else:\n",
    "            # Criterio de parada: no hay mejora\n",
    "            hay_mejora = False\n",
    "\n",
    "    # --- Resumen del proceso ---\n",
    "    print('\\n-------- Proceso iterativo de búsqueda local finalizado --------\\n')\n",
    "    print(f'Para la coordenada inicial {coord_ini} y un lambda de {lbd}:\\n')\n",
    "    print(f'Número de iteraciones: {len(steps)}')\n",
    "    print(f'La mejor ubicación encontrada fue: '\n",
    "          f'({round(ubicacion_actual[0], 3)}, {round(ubicacion_actual[1], 3)})')\n",
    "    print(f'El mejor índice encontrado fue: {round(objetivo_actual, 5)}\\n')\n",
    "\n",
    "    return steps"
   ]
  },
  {
   "cell_type": "markdown",
   "id": "a88d1db3",
   "metadata": {},
   "source": [
    "### Correr"
   ]
  },
  {
   "cell_type": "code",
   "execution_count": null,
   "id": "21449aa4",
   "metadata": {},
   "outputs": [],
   "source": [
    "# --- Configuración inicial ---\n",
    "# Coordenadas iniciales (x⁰, y⁰)\n",
    "coor_inicial = np.array([0.5, -0.25])\n",
    "\n",
    "# Longitud de paso λ\n",
    "lbd = 0.01\n",
    "\n",
    "# --- Ejecución de la búsqueda local ---\n",
    "steps = busqueda_local(coor_inicial, lbd)\n",
    "\n",
    "# --- Visualización de resultados ---\n",
    "plot_(evaluar_indice, steps)"
   ]
  }
 ],
 "metadata": {
  "kernelspec": {
   "display_name": "Python 3",
   "language": "python",
   "name": "python3"
  },
  "language_info": {
   "codemirror_mode": {
    "name": "ipython",
    "version": 3
   },
   "file_extension": ".py",
   "mimetype": "text/x-python",
   "name": "python",
   "nbconvert_exporter": "python",
   "pygments_lexer": "ipython3",
   "version": "3.12.11"
  }
 },
 "nbformat": 4,
 "nbformat_minor": 5
}

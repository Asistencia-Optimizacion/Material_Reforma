{
 "cells": [
  {
   "cell_type": "markdown",
   "id": "c8aa9c53",
   "metadata": {},
   "source": [
    "## Dependencias"
   ]
  },
  {
   "cell_type": "code",
   "execution_count": 1,
   "id": "0c00edf2",
   "metadata": {},
   "outputs": [],
   "source": [
    "from plot import plot_\n",
    "import numpy as np"
   ]
  },
  {
   "cell_type": "markdown",
   "id": "168cc94f",
   "metadata": {},
   "source": [
    "## Función de Perdida & Espacio de Busqueda"
   ]
  },
  {
   "cell_type": "code",
   "execution_count": 2,
   "id": "c845a206",
   "metadata": {},
   "outputs": [],
   "source": [
    "\"\"\"\n",
    "Implemente una función en Python llamada evaluar_indice que reciba como parámetro una tupla con una coordenada (x,y) \n",
    "y retorne el valor del índice ϕ para dicha coordenada. \n",
    "\"\"\"\n",
    "\n",
    "# TODO: Literal B\n",
    "def evaluar_indice(coords):\n",
    "    \"\"\"\n",
    "    Calcula el valor del índice para (x, y) en escalares o arrays.\n",
    "\n",
    "    Fórmula:\n",
    "    --------\n",
    "    ϕ(x, y) = [ -100 * (x² + y - 60)² - 100 * (x + y² - 25)² ] / 100\n",
    "\n",
    "    Parámetros\n",
    "    ----------\n",
    "    coords : (x, y)\n",
    "        Puede ser una tupla de escalares o una lista/array [X, Y].\n",
    "\n",
    "    Retorna\n",
    "    -------\n",
    "    float | np.ndarray\n",
    "        Valor del índice en la coordenada o matriz de valores.\n",
    "    \"\"\"\n",
    "    x, y = coords\n",
    "    return (-100 * (x**2 + y - 60)**2 - 100 * (x + y**2 - 25)**2) / 100"
   ]
  },
  {
   "cell_type": "code",
   "execution_count": 3,
   "id": "c5e8b3ad",
   "metadata": {},
   "outputs": [],
   "source": [
    "\"\"\"\n",
    "Implemente una función en Python llamada evaluar_factibilidad que reciba como parámetro una tupla representando \n",
    "una coordenada (x,y) y retorne True en caso de que dicha coordenada se encuentre dentro de la región de estudio \n",
    "(cumpla todas las restricciones) y False de lo contrario.\n",
    "\"\"\"\n",
    "\n",
    "# TODO: Literal C (y A)\n",
    "def evaluar_factibilidad(coor: tuple) -> bool:\n",
    "    \"\"\"\n",
    "    Evalúa si una coordenada (x, y) es factible según restricciones.\n",
    "\n",
    "    Restricciones:\n",
    "    --------------\n",
    "    y ≥ -7\n",
    "    x ≥ -4\n",
    "    y ≤ 5\n",
    "    x + 0.5y ≤ 7\n",
    "    x - 0.3y ≤ 7\n",
    "\n",
    "    Parámetros\n",
    "    ----------\n",
    "    coor : tuple\n",
    "        Tupla con la coordenada (x, y).\n",
    "\n",
    "    Retorna\n",
    "    -------\n",
    "    bool\n",
    "        True si cumple todas las restricciones (factible).  \n",
    "        False en caso contrario.\n",
    "    \"\"\"\n",
    "    x, y = coor\n",
    "\n",
    "    return (\n",
    "        y >= -7 and\n",
    "        x >= -4 and\n",
    "        y <= 5 and\n",
    "        x + 0.5*y <= 7 and\n",
    "        x - 0.3*y <= 7\n",
    "    )\n"
   ]
  },
  {
   "cell_type": "markdown",
   "id": "2d515313",
   "metadata": {},
   "source": [
    "# Busqueda Local"
   ]
  },
  {
   "cell_type": "markdown",
   "id": "dfeb4153",
   "metadata": {},
   "source": [
    "## Radar"
   ]
  },
  {
   "cell_type": "code",
   "execution_count": 4,
   "id": "b5c557ef",
   "metadata": {},
   "outputs": [],
   "source": [
    "\"\"\"\n",
    "Implemente una función en Python llamada generar_radar que reciba dos parámetros: una tupla con las \n",
    "coordenadas actuales (x^t, y^t) y la longitud λ. La función debe retornar las 8 coordenadas vecinas en una lista. \n",
    "\"\"\"\n",
    "\n",
    "# TODO: Literal D\n",
    "def generar_radar(coor: tuple, lbd: float) -> list[tuple]:\n",
    "    \"\"\"\n",
    "    Genera las 8 coordenadas vecinas de un punto (x, y) en forma de cuadrado.\n",
    "\n",
    "    Parámetros\n",
    "    ----------\n",
    "    coor : tuple\n",
    "        Tupla con la coordenada actual (x, y).\n",
    "    lbd : float\n",
    "        Longitud de paso λ.\n",
    "\n",
    "    Retorna\n",
    "    -------\n",
    "    list[tuple]\n",
    "        Lista con las 8 coordenadas vecinas (4 cardinales y 4 diagonales).\n",
    "    \"\"\"\n",
    "    x, y = coor\n",
    "\n",
    "    return [\n",
    "        (x + lbd, y),     # derecha\n",
    "        (x - lbd, y),     # izquierda\n",
    "        (x, y + lbd),     # arriba\n",
    "        (x, y - lbd),     # abajo\n",
    "        (x + lbd, y + lbd), # diagonal superior derecha\n",
    "        (x - lbd, y + lbd), # diagonal superior izquierda\n",
    "        (x + lbd, y - lbd), # diagonal inferior derecha\n",
    "        (x - lbd, y - lbd)  # diagonal inferior izquierda\n",
    "    ]"
   ]
  },
  {
   "cell_type": "markdown",
   "id": "b3b95ac9",
   "metadata": {},
   "source": [
    "## Seleccionar mejor candidato"
   ]
  },
  {
   "cell_type": "code",
   "execution_count": 5,
   "id": "cda21756",
   "metadata": {},
   "outputs": [],
   "source": [
    "\"\"\"\n",
    "Implemente una función en Python llamada encontrar_mejor_coor que reciba como parámetro un diccionario donde \n",
    "las llaves son coordenadas y los valores el índice ϕ correspondiente. Esta función debe retornar una tupla \n",
    "con la coordenada de MAYOR índice y, además, el valor de dicho índice. En esta función, debe evaluar si el \n",
    "diccionario que entra por parámetro está vacío, en cuyo caso deberá retornar False. \n",
    "\"\"\"\n",
    "\n",
    "# TODO: Literal E\n",
    "def encontrar_mejor_coor(my_dict: dict):\n",
    "    \"\"\"\n",
    "    Encuentra la coordenada con el mayor índice en un diccionario.\n",
    "\n",
    "    Parámetros\n",
    "    ----------\n",
    "    my_dict : dict\n",
    "        Diccionario donde:\n",
    "        - Llaves: coordenadas (x, y).\n",
    "        - Valores: índice ϕ asociado a cada coordenada.\n",
    "\n",
    "    Retorna\n",
    "    -------\n",
    "    tuple | bool\n",
    "        - (coordenada, índice) de la mejor ubicación (mayor índice).\n",
    "        - False si el diccionario está vacío.\n",
    "    \"\"\"\n",
    "    if len(my_dict) != 0:\n",
    "        mejor_ubicacion = (0, 0)\n",
    "        mejor_objetivo = -10e12  # Valor inicial muy pequeño para comparación\n",
    "\n",
    "        # Recorre todas las coordenadas buscando el mayor índice\n",
    "        for coordenada, indice in my_dict.items():\n",
    "            if indice > mejor_objetivo:\n",
    "                mejor_ubicacion = coordenada\n",
    "                mejor_objetivo = indice\n",
    "\n",
    "        return (mejor_ubicacion, mejor_objetivo)\n",
    "    else:\n",
    "        # Caso: diccionario vacío\n",
    "        return False"
   ]
  },
  {
   "cell_type": "markdown",
   "id": "0e7d1203",
   "metadata": {},
   "source": [
    "## Busqueda"
   ]
  },
  {
   "cell_type": "code",
   "execution_count": 6,
   "id": "6fa0769c",
   "metadata": {},
   "outputs": [],
   "source": [
    "\"\"\"\n",
    "Función que implementa el método de búsqueda local.\n",
    "\n",
    "Este método utiliza las funciones:\n",
    "    - evaluar_indice\n",
    "    - generar_radar\n",
    "    - evaluar_factibilidad\n",
    "    - encontrar_mejor_coor\n",
    "para realizar un proceso de optimización local.\n",
    "\"\"\"\n",
    "\n",
    "# TODO: Literal F\n",
    "def busqueda_local(coord_ini: tuple, lbd: float) -> list:\n",
    "    \"\"\"\n",
    "    Realiza una búsqueda local para encontrar la mejor coordenada factible.\n",
    "\n",
    "    Parámetros\n",
    "    ----------\n",
    "    coord_ini : tuple\n",
    "        Coordenada inicial (x, y) desde donde comienza la búsqueda.\n",
    "    lbd : float\n",
    "        Longitud de paso (lambda) utilizada para generar el radar.\n",
    "\n",
    "    Retorna\n",
    "    -------\n",
    "    list[tuple]\n",
    "        Lista de pasos [(coordenada, índice)], incluyendo la inicial\n",
    "        y cada mejora encontrada durante la búsqueda local.\n",
    "    \"\"\"\n",
    "\n",
    "    # --- Inicialización ---\n",
    "    ubicacion_actual = coord_ini\n",
    "    objetivo_actual = evaluar_indice(ubicacion_actual)\n",
    "    hay_mejora = True\n",
    "\n",
    "    steps = [(ubicacion_actual, objetivo_actual)]\n",
    "    print(f\"Iniciamos en: {coord_ini} con F.O. = {objetivo_actual}\")\n",
    "\n",
    "    # --- Proceso iterativo ---\n",
    "    while hay_mejora:\n",
    "        mejor_objetivo = objetivo_actual\n",
    "\n",
    "        # Generar las ubicaciones del radar\n",
    "        radar = generar_radar(ubicacion_actual, lbd)\n",
    "        my_dict = {}\n",
    "\n",
    "        # Guardar las ubicaciones factibles con sus índices\n",
    "        for coor in radar:\n",
    "            if evaluar_factibilidad(coor):\n",
    "                nuevo_objetivo = evaluar_indice(coor)\n",
    "                my_dict[coor] = nuevo_objetivo\n",
    "\n",
    "        # Buscar la mejor ubicación del radar y actualizar posición\n",
    "        res = encontrar_mejor_coor(my_dict)\n",
    "        if res is not False and res[1] > mejor_objetivo:\n",
    "            ubicacion_actual = res[0]\n",
    "            objetivo_actual = res[1]\n",
    "            steps.append((ubicacion_actual, objetivo_actual))\n",
    "        else:\n",
    "            # Criterio de parada: no hay mejora\n",
    "            hay_mejora = False\n",
    "\n",
    "    # --- Resumen del proceso ---\n",
    "    print('\\n-------- Proceso iterativo de búsqueda local finalizado --------\\n')\n",
    "    print(f'Para la coordenada inicial {coord_ini} y un lambda de {lbd}:\\n')\n",
    "    print(f'Número de iteraciones: {len(steps)}')\n",
    "    print(f'La mejor ubicación encontrada fue: '\n",
    "          f'({round(ubicacion_actual[0], 3)}, {round(ubicacion_actual[1], 3)})')\n",
    "    print(f'El mejor índice encontrado fue: {round(objetivo_actual, 5)}\\n')\n",
    "\n",
    "    return steps"
   ]
  },
  {
   "cell_type": "markdown",
   "id": "640d9b09",
   "metadata": {},
   "source": [
    "## Correr"
   ]
  },
  {
   "cell_type": "code",
   "execution_count": 7,
   "id": "a6ccd474",
   "metadata": {},
   "outputs": [
    {
     "name": "stdout",
     "output_type": "stream",
     "text": [
      "Iniciamos en: [0. 0.] con F.O. = -4225.0\n",
      "\n",
      "-------- Proceso iterativo de búsqueda local finalizado --------\n",
      "\n",
      "Para la coordenada inicial [0. 0.] y un lambda de 0.5:\n",
      "\n",
      "Número de iteraciones: 11\n",
      "La mejor ubicación encontrada fue: (5.0, 4.0)\n",
      "El mejor índice encontrado fue: -977.0\n",
      "\n"
     ]
    },
    {
     "data": {
      "application/vnd.plotly.v1+json": {
       "config": {
        "plotlyServerURL": "https://plot.ly"
       },
       "data": [
        {
         "colorscale": [
          [
           0,
           "rgb(103,0,31)"
          ],
          [
           0.1,
           "rgb(178,24,43)"
          ],
          [
           0.2,
           "rgb(214,96,77)"
          ],
          [
           0.3,
           "rgb(244,165,130)"
          ],
          [
           0.4,
           "rgb(253,219,199)"
          ],
          [
           0.5,
           "rgb(255,255,255)"
          ],
          [
           0.6,
           "rgb(224,224,224)"
          ],
          [
           0.7,
           "rgb(186,186,186)"
          ],
          [
           0.8,
           "rgb(135,135,135)"
          ],
          [
           0.9,
           "rgb(77,77,77)"
          ],
          [
           1,
           "rgb(26,26,26)"
          ]
         ],
         "opacity": 0.9,
         "reversescale": true,
         "type": "surface",
         "x": {
          "bdata": "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",
          "dtype": "f8",
          "shape": "50, 50"
         },
         "y": {
          "bdata": "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",
          "dtype": "f8",
          "shape": "50, 50"
         },
         "z": {
          "bdata": "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",
          "dtype": "f8",
          "shape": "50, 50"
         }
        },
        {
         "line": {
          "color": "red",
          "width": 5
         },
         "marker": {
          "color": "red",
          "size": 4
         },
         "mode": "lines+markers",
         "name": "Ruta 1",
         "type": "scatter3d",
         "x": [
          0,
          0.5,
          1,
          1.5,
          2,
          2.5,
          3,
          3.5,
          4,
          4.5,
          5
         ],
         "y": [
          0,
          0.5,
          1,
          1.5,
          2,
          2.5,
          3,
          3.5,
          4,
          4.5,
          4
         ],
         "z": [
          -4225,
          -4098.625,
          -3893,
          -3615.625,
          -3277,
          -2890.625,
          -2473,
          -2043.625,
          -1625,
          -1242.625,
          -977
         ]
        }
       ],
       "layout": {
        "height": 700,
        "scene": {
         "xaxis": {
          "title": {
           "text": "x"
          }
         },
         "yaxis": {
          "title": {
           "text": "y"
          }
         },
         "zaxis": {
          "title": {
           "text": "Valor"
          }
         }
        },
        "template": {
         "data": {
          "bar": [
           {
            "error_x": {
             "color": "#2a3f5f"
            },
            "error_y": {
             "color": "#2a3f5f"
            },
            "marker": {
             "line": {
              "color": "#E5ECF6",
              "width": 0.5
             },
             "pattern": {
              "fillmode": "overlay",
              "size": 10,
              "solidity": 0.2
             }
            },
            "type": "bar"
           }
          ],
          "barpolar": [
           {
            "marker": {
             "line": {
              "color": "#E5ECF6",
              "width": 0.5
             },
             "pattern": {
              "fillmode": "overlay",
              "size": 10,
              "solidity": 0.2
             }
            },
            "type": "barpolar"
           }
          ],
          "carpet": [
           {
            "aaxis": {
             "endlinecolor": "#2a3f5f",
             "gridcolor": "white",
             "linecolor": "white",
             "minorgridcolor": "white",
             "startlinecolor": "#2a3f5f"
            },
            "baxis": {
             "endlinecolor": "#2a3f5f",
             "gridcolor": "white",
             "linecolor": "white",
             "minorgridcolor": "white",
             "startlinecolor": "#2a3f5f"
            },
            "type": "carpet"
           }
          ],
          "choropleth": [
           {
            "colorbar": {
             "outlinewidth": 0,
             "ticks": ""
            },
            "type": "choropleth"
           }
          ],
          "contour": [
           {
            "colorbar": {
             "outlinewidth": 0,
             "ticks": ""
            },
            "colorscale": [
             [
              0,
              "#0d0887"
             ],
             [
              0.1111111111111111,
              "#46039f"
             ],
             [
              0.2222222222222222,
              "#7201a8"
             ],
             [
              0.3333333333333333,
              "#9c179e"
             ],
             [
              0.4444444444444444,
              "#bd3786"
             ],
             [
              0.5555555555555556,
              "#d8576b"
             ],
             [
              0.6666666666666666,
              "#ed7953"
             ],
             [
              0.7777777777777778,
              "#fb9f3a"
             ],
             [
              0.8888888888888888,
              "#fdca26"
             ],
             [
              1,
              "#f0f921"
             ]
            ],
            "type": "contour"
           }
          ],
          "contourcarpet": [
           {
            "colorbar": {
             "outlinewidth": 0,
             "ticks": ""
            },
            "type": "contourcarpet"
           }
          ],
          "heatmap": [
           {
            "colorbar": {
             "outlinewidth": 0,
             "ticks": ""
            },
            "colorscale": [
             [
              0,
              "#0d0887"
             ],
             [
              0.1111111111111111,
              "#46039f"
             ],
             [
              0.2222222222222222,
              "#7201a8"
             ],
             [
              0.3333333333333333,
              "#9c179e"
             ],
             [
              0.4444444444444444,
              "#bd3786"
             ],
             [
              0.5555555555555556,
              "#d8576b"
             ],
             [
              0.6666666666666666,
              "#ed7953"
             ],
             [
              0.7777777777777778,
              "#fb9f3a"
             ],
             [
              0.8888888888888888,
              "#fdca26"
             ],
             [
              1,
              "#f0f921"
             ]
            ],
            "type": "heatmap"
           }
          ],
          "histogram": [
           {
            "marker": {
             "pattern": {
              "fillmode": "overlay",
              "size": 10,
              "solidity": 0.2
             }
            },
            "type": "histogram"
           }
          ],
          "histogram2d": [
           {
            "colorbar": {
             "outlinewidth": 0,
             "ticks": ""
            },
            "colorscale": [
             [
              0,
              "#0d0887"
             ],
             [
              0.1111111111111111,
              "#46039f"
             ],
             [
              0.2222222222222222,
              "#7201a8"
             ],
             [
              0.3333333333333333,
              "#9c179e"
             ],
             [
              0.4444444444444444,
              "#bd3786"
             ],
             [
              0.5555555555555556,
              "#d8576b"
             ],
             [
              0.6666666666666666,
              "#ed7953"
             ],
             [
              0.7777777777777778,
              "#fb9f3a"
             ],
             [
              0.8888888888888888,
              "#fdca26"
             ],
             [
              1,
              "#f0f921"
             ]
            ],
            "type": "histogram2d"
           }
          ],
          "histogram2dcontour": [
           {
            "colorbar": {
             "outlinewidth": 0,
             "ticks": ""
            },
            "colorscale": [
             [
              0,
              "#0d0887"
             ],
             [
              0.1111111111111111,
              "#46039f"
             ],
             [
              0.2222222222222222,
              "#7201a8"
             ],
             [
              0.3333333333333333,
              "#9c179e"
             ],
             [
              0.4444444444444444,
              "#bd3786"
             ],
             [
              0.5555555555555556,
              "#d8576b"
             ],
             [
              0.6666666666666666,
              "#ed7953"
             ],
             [
              0.7777777777777778,
              "#fb9f3a"
             ],
             [
              0.8888888888888888,
              "#fdca26"
             ],
             [
              1,
              "#f0f921"
             ]
            ],
            "type": "histogram2dcontour"
           }
          ],
          "mesh3d": [
           {
            "colorbar": {
             "outlinewidth": 0,
             "ticks": ""
            },
            "type": "mesh3d"
           }
          ],
          "parcoords": [
           {
            "line": {
             "colorbar": {
              "outlinewidth": 0,
              "ticks": ""
             }
            },
            "type": "parcoords"
           }
          ],
          "pie": [
           {
            "automargin": true,
            "type": "pie"
           }
          ],
          "scatter": [
           {
            "fillpattern": {
             "fillmode": "overlay",
             "size": 10,
             "solidity": 0.2
            },
            "type": "scatter"
           }
          ],
          "scatter3d": [
           {
            "line": {
             "colorbar": {
              "outlinewidth": 0,
              "ticks": ""
             }
            },
            "marker": {
             "colorbar": {
              "outlinewidth": 0,
              "ticks": ""
             }
            },
            "type": "scatter3d"
           }
          ],
          "scattercarpet": [
           {
            "marker": {
             "colorbar": {
              "outlinewidth": 0,
              "ticks": ""
             }
            },
            "type": "scattercarpet"
           }
          ],
          "scattergeo": [
           {
            "marker": {
             "colorbar": {
              "outlinewidth": 0,
              "ticks": ""
             }
            },
            "type": "scattergeo"
           }
          ],
          "scattergl": [
           {
            "marker": {
             "colorbar": {
              "outlinewidth": 0,
              "ticks": ""
             }
            },
            "type": "scattergl"
           }
          ],
          "scattermap": [
           {
            "marker": {
             "colorbar": {
              "outlinewidth": 0,
              "ticks": ""
             }
            },
            "type": "scattermap"
           }
          ],
          "scattermapbox": [
           {
            "marker": {
             "colorbar": {
              "outlinewidth": 0,
              "ticks": ""
             }
            },
            "type": "scattermapbox"
           }
          ],
          "scatterpolar": [
           {
            "marker": {
             "colorbar": {
              "outlinewidth": 0,
              "ticks": ""
             }
            },
            "type": "scatterpolar"
           }
          ],
          "scatterpolargl": [
           {
            "marker": {
             "colorbar": {
              "outlinewidth": 0,
              "ticks": ""
             }
            },
            "type": "scatterpolargl"
           }
          ],
          "scatterternary": [
           {
            "marker": {
             "colorbar": {
              "outlinewidth": 0,
              "ticks": ""
             }
            },
            "type": "scatterternary"
           }
          ],
          "surface": [
           {
            "colorbar": {
             "outlinewidth": 0,
             "ticks": ""
            },
            "colorscale": [
             [
              0,
              "#0d0887"
             ],
             [
              0.1111111111111111,
              "#46039f"
             ],
             [
              0.2222222222222222,
              "#7201a8"
             ],
             [
              0.3333333333333333,
              "#9c179e"
             ],
             [
              0.4444444444444444,
              "#bd3786"
             ],
             [
              0.5555555555555556,
              "#d8576b"
             ],
             [
              0.6666666666666666,
              "#ed7953"
             ],
             [
              0.7777777777777778,
              "#fb9f3a"
             ],
             [
              0.8888888888888888,
              "#fdca26"
             ],
             [
              1,
              "#f0f921"
             ]
            ],
            "type": "surface"
           }
          ],
          "table": [
           {
            "cells": {
             "fill": {
              "color": "#EBF0F8"
             },
             "line": {
              "color": "white"
             }
            },
            "header": {
             "fill": {
              "color": "#C8D4E3"
             },
             "line": {
              "color": "white"
             }
            },
            "type": "table"
           }
          ]
         },
         "layout": {
          "annotationdefaults": {
           "arrowcolor": "#2a3f5f",
           "arrowhead": 0,
           "arrowwidth": 1
          },
          "autotypenumbers": "strict",
          "coloraxis": {
           "colorbar": {
            "outlinewidth": 0,
            "ticks": ""
           }
          },
          "colorscale": {
           "diverging": [
            [
             0,
             "#8e0152"
            ],
            [
             0.1,
             "#c51b7d"
            ],
            [
             0.2,
             "#de77ae"
            ],
            [
             0.3,
             "#f1b6da"
            ],
            [
             0.4,
             "#fde0ef"
            ],
            [
             0.5,
             "#f7f7f7"
            ],
            [
             0.6,
             "#e6f5d0"
            ],
            [
             0.7,
             "#b8e186"
            ],
            [
             0.8,
             "#7fbc41"
            ],
            [
             0.9,
             "#4d9221"
            ],
            [
             1,
             "#276419"
            ]
           ],
           "sequential": [
            [
             0,
             "#0d0887"
            ],
            [
             0.1111111111111111,
             "#46039f"
            ],
            [
             0.2222222222222222,
             "#7201a8"
            ],
            [
             0.3333333333333333,
             "#9c179e"
            ],
            [
             0.4444444444444444,
             "#bd3786"
            ],
            [
             0.5555555555555556,
             "#d8576b"
            ],
            [
             0.6666666666666666,
             "#ed7953"
            ],
            [
             0.7777777777777778,
             "#fb9f3a"
            ],
            [
             0.8888888888888888,
             "#fdca26"
            ],
            [
             1,
             "#f0f921"
            ]
           ],
           "sequentialminus": [
            [
             0,
             "#0d0887"
            ],
            [
             0.1111111111111111,
             "#46039f"
            ],
            [
             0.2222222222222222,
             "#7201a8"
            ],
            [
             0.3333333333333333,
             "#9c179e"
            ],
            [
             0.4444444444444444,
             "#bd3786"
            ],
            [
             0.5555555555555556,
             "#d8576b"
            ],
            [
             0.6666666666666666,
             "#ed7953"
            ],
            [
             0.7777777777777778,
             "#fb9f3a"
            ],
            [
             0.8888888888888888,
             "#fdca26"
            ],
            [
             1,
             "#f0f921"
            ]
           ]
          },
          "colorway": [
           "#636efa",
           "#EF553B",
           "#00cc96",
           "#ab63fa",
           "#FFA15A",
           "#19d3f3",
           "#FF6692",
           "#B6E880",
           "#FF97FF",
           "#FECB52"
          ],
          "font": {
           "color": "#2a3f5f"
          },
          "geo": {
           "bgcolor": "white",
           "lakecolor": "white",
           "landcolor": "#E5ECF6",
           "showlakes": true,
           "showland": true,
           "subunitcolor": "white"
          },
          "hoverlabel": {
           "align": "left"
          },
          "hovermode": "closest",
          "mapbox": {
           "style": "light"
          },
          "paper_bgcolor": "white",
          "plot_bgcolor": "#E5ECF6",
          "polar": {
           "angularaxis": {
            "gridcolor": "white",
            "linecolor": "white",
            "ticks": ""
           },
           "bgcolor": "#E5ECF6",
           "radialaxis": {
            "gridcolor": "white",
            "linecolor": "white",
            "ticks": ""
           }
          },
          "scene": {
           "xaxis": {
            "backgroundcolor": "#E5ECF6",
            "gridcolor": "white",
            "gridwidth": 2,
            "linecolor": "white",
            "showbackground": true,
            "ticks": "",
            "zerolinecolor": "white"
           },
           "yaxis": {
            "backgroundcolor": "#E5ECF6",
            "gridcolor": "white",
            "gridwidth": 2,
            "linecolor": "white",
            "showbackground": true,
            "ticks": "",
            "zerolinecolor": "white"
           },
           "zaxis": {
            "backgroundcolor": "#E5ECF6",
            "gridcolor": "white",
            "gridwidth": 2,
            "linecolor": "white",
            "showbackground": true,
            "ticks": "",
            "zerolinecolor": "white"
           }
          },
          "shapedefaults": {
           "line": {
            "color": "#2a3f5f"
           }
          },
          "ternary": {
           "aaxis": {
            "gridcolor": "white",
            "linecolor": "white",
            "ticks": ""
           },
           "baxis": {
            "gridcolor": "white",
            "linecolor": "white",
            "ticks": ""
           },
           "bgcolor": "#E5ECF6",
           "caxis": {
            "gridcolor": "white",
            "linecolor": "white",
            "ticks": ""
           }
          },
          "title": {
           "x": 0.05
          },
          "xaxis": {
           "automargin": true,
           "gridcolor": "white",
           "linecolor": "white",
           "ticks": "",
           "title": {
            "standoff": 15
           },
           "zerolinecolor": "white",
           "zerolinewidth": 2
          },
          "yaxis": {
           "automargin": true,
           "gridcolor": "white",
           "linecolor": "white",
           "ticks": "",
           "title": {
            "standoff": 15
           },
           "zerolinecolor": "white",
           "zerolinewidth": 2
          }
         }
        },
        "width": 900
       }
      }
     },
     "metadata": {},
     "output_type": "display_data"
    }
   ],
   "source": [
    "# TODO: Literal G\n",
    "\n",
    "# --- Configuración inicial ---\n",
    "# Coordenadas iniciales (x⁰, y⁰)\n",
    "coor_inicial = np.array([0.0, 0.0])\n",
    "\n",
    "# Longitud de paso λ\n",
    "lbd = 0.5\n",
    "\n",
    "# --- Ejecución de la búsqueda local ---\n",
    "steps = busqueda_local(coor_inicial, lbd)\n",
    "\n",
    "# --- Visualización de resultados ---\n",
    "plot_(evaluar_indice, steps)"
   ]
  },
  {
   "cell_type": "markdown",
   "id": "3de390ca",
   "metadata": {},
   "source": [
    "# Decenso por Gradiente"
   ]
  },
  {
   "cell_type": "markdown",
   "id": "94295970",
   "metadata": {},
   "source": [
    "## Gradiente"
   ]
  },
  {
   "cell_type": "code",
   "execution_count": 8,
   "id": "0effac62",
   "metadata": {},
   "outputs": [
    {
     "data": {
      "text/plain": [
       "'\\nImplemente una función en Python llamada grad_evaluar_phi que reciba como parámetro un diccionario donde \\nlas llaves son coordenadas (x,y)  y retorne el gradiente en dicho punto. Realicé las derivadas parciales \\nde manera manual y adecuada.\\n\\nFunción\\nφ(x, y) = [ -100·(x² + y − 60)² − 100·(x + y² − 25)² ] / 100\\n\\nSimplificando:\\nφ(x, y) = −(x² + y − 60)² − (x + y² − 25)²\\n\\nDerivada parcial respecto de x\\n\\n∂/∂x [ −(x² + y − 60)² ]\\n    = −2·(x² + y − 60) · ∂/∂x(x² + y − 60)\\n    = −2·(x² + y − 60) · (2x)\\n    = −4x·(x² + y − 60)\\n\\n∂/∂x [ −(x + y² − 25)² ]\\n    = −2·(x + y² − 25) · ∂/∂x(x + y² − 25)\\n    = −2·(x + y² − 25) · (1)\\n    = −2·(x + y² − 25)\\n\\n∂φ/∂x = −4x·(x² + y − 60) − 2·(x + y² − 25)\\n\\nDerivada parcial respecto de y\\n\\n∂/∂y [ −(x² + y − 60)² ]\\n    = −2·(x² + y − 60) · ∂/∂y(x² + y − 60)\\n    = −2·(x² + y − 60) · (1)\\n    = −2·(x² + y − 60)\\n\\n∂/∂y [ −(x + y² − 25)² ]\\n    = −2·(x + y² − 25) · ∂/∂y(x + y² − 25)\\n    = −2·(x + y² − 25) · (2y)\\n    = −4y·(x + y² − 25)\\n\\n∂φ/∂y = −2·(x² + y − 60) − 4y·(x + y² − 25)\\n\\nGradiente\\n\\n∇φ(x, y) = ( ∂φ/∂x , ∂φ/∂y )\\n    = ( −4x·(x² + y − 60) − 2·(x + y² − 25) , −2·(x² + y − 60) − 4y·(x + y² − 25) )\\n'"
      ]
     },
     "execution_count": 8,
     "metadata": {},
     "output_type": "execute_result"
    }
   ],
   "source": [
    "\"\"\"\n",
    "Implemente una función en Python llamada grad_evaluar_phi que reciba como parámetro un diccionario donde \n",
    "las llaves son coordenadas (x,y)  y retorne el gradiente en dicho punto. Realicé las derivadas parciales \n",
    "de manera manual y adecuada.\n",
    "\n",
    "Función\n",
    "φ(x, y) = [ -100·(x² + y − 60)² − 100·(x + y² − 25)² ] / 100\n",
    "\n",
    "Simplificando:\n",
    "φ(x, y) = −(x² + y − 60)² − (x + y² − 25)²\n",
    "\n",
    "Derivada parcial respecto de x\n",
    "\n",
    "∂/∂x [ −(x² + y − 60)² ]\n",
    "    = −2·(x² + y − 60) · ∂/∂x(x² + y − 60)\n",
    "    = −2·(x² + y − 60) · (2x)\n",
    "    = −4x·(x² + y − 60)\n",
    "\n",
    "∂/∂x [ −(x + y² − 25)² ]\n",
    "    = −2·(x + y² − 25) · ∂/∂x(x + y² − 25)\n",
    "    = −2·(x + y² − 25) · (1)\n",
    "    = −2·(x + y² − 25)\n",
    "\n",
    "∂φ/∂x = −4x·(x² + y − 60) − 2·(x + y² − 25)\n",
    "\n",
    "Derivada parcial respecto de y\n",
    "\n",
    "∂/∂y [ −(x² + y − 60)² ]\n",
    "    = −2·(x² + y − 60) · ∂/∂y(x² + y − 60)\n",
    "    = −2·(x² + y − 60) · (1)\n",
    "    = −2·(x² + y − 60)\n",
    "\n",
    "∂/∂y [ −(x + y² − 25)² ]\n",
    "    = −2·(x + y² − 25) · ∂/∂y(x + y² − 25)\n",
    "    = −2·(x + y² − 25) · (2y)\n",
    "    = −4y·(x + y² − 25)\n",
    "\n",
    "∂φ/∂y = −2·(x² + y − 60) − 4y·(x + y² − 25)\n",
    "\n",
    "Gradiente\n",
    "\n",
    "∇φ(x, y) = ( ∂φ/∂x , ∂φ/∂y )\n",
    "    = ( −4x·(x² + y − 60) − 2·(x + y² − 25) , −2·(x² + y − 60) − 4y·(x + y² − 25) )\n",
    "\"\"\""
   ]
  },
  {
   "cell_type": "code",
   "execution_count": 9,
   "id": "f08447d3",
   "metadata": {},
   "outputs": [],
   "source": [
    "# TODO: Literal H\n",
    "def grad_phi(coords: tuple) -> np.ndarray:\n",
    "    \"\"\"\n",
    "    Calcula el gradiente de la función φ(x, y) en un punto dado.\n",
    "\n",
    "    Función:\n",
    "    --------\n",
    "    φ(x, y) = −(x² + y − 60)² − (x + y² − 25)²\n",
    "\n",
    "    Derivadas parciales:\n",
    "    ∂φ/∂x = −4x·(x² + y − 60) − 2·(x + y² − 25)\n",
    "    ∂φ/∂y = −2·(x² + y − 60) − 4y·(x + y² − 25)\n",
    "\n",
    "    Parámetros\n",
    "    ----------\n",
    "    coords : tuple\n",
    "        Tupla (x, y) con la coordenada donde evaluar el gradiente.\n",
    "\n",
    "    Retorna\n",
    "    -------\n",
    "    np.ndarray\n",
    "        Vector gradiente [∂φ/∂x, ∂φ/∂y] evaluado en la coordenada dada.\n",
    "    \"\"\"\n",
    "    x, y = coords\n",
    "    dphi_dx = -4*x*(x**2 + y - 60) - 2*(x + y**2 - 25)\n",
    "    dphi_dy = -2*(x**2 + y - 60) - 4*y*(x + y**2 - 25)\n",
    "\n",
    "    return np.array([dphi_dx, dphi_dy])"
   ]
  },
  {
   "cell_type": "markdown",
   "id": "113fa559",
   "metadata": {},
   "source": [
    "## \"Decenso\" (Ascenso)"
   ]
  },
  {
   "cell_type": "code",
   "execution_count": 10,
   "id": "854e29f6",
   "metadata": {},
   "outputs": [],
   "source": [
    "\"\"\"\n",
    "Implemente en Python la función gradient_descent, que reciba como parámetros una tupla inicial (x, y), \n",
    "la función objetivo, la función que calcula el gradiente, la tasa de aprendizaje (alpha), el número máximo \n",
    "de iteraciones y un valor de tolerancia (epsilon); asegúrese de que cada nuevo punto permanezca dentro de \n",
    "la región factible y retorne el recorrido completo de puntos generados durante el proceso, mostrando la \n",
    "trayectoria seguida hasta aproximarse al MÁXIMO de la función.\n",
    "\"\"\"\n",
    "\n",
    "# TODO: Literal I\n",
    "def gradient_descent(x0: np.ndarray, f_loss, f_grad, alpha: float, iters: int, eps: float = 1e-6):\n",
    "    \"\"\"\n",
    "    Ejecuta el algoritmo de descenso por gradiente para minimizar una función.\n",
    "\n",
    "    Fórmula de actualización:\n",
    "    -------------------------\n",
    "    x_{k+1} = x_k − α ∇f(x_k)\n",
    "\n",
    "    Donde:\n",
    "    - x_k es el punto actual.\n",
    "    - α (alpha) es la tasa de aprendizaje.\n",
    "    - ∇f(x_k) es el gradiente de la función en el punto actual.\n",
    "\n",
    "    Parámetros\n",
    "    ----------\n",
    "    x0 : np.ndarray\n",
    "        Punto inicial del algoritmo en forma de vector (x, y).\n",
    "    f_loss : callable\n",
    "        Función objetivo que se desea MÁXIMIZAR.\n",
    "    f_grad : callable\n",
    "        Función que calcula el gradiente de f en un punto dado.\n",
    "    alpha : float\n",
    "        Tasa de aprendizaje (define el tamaño del paso).\n",
    "    iters : int\n",
    "        Número máximo de iteraciones permitidas.\n",
    "    eps : float, opcional\n",
    "        Tolerancia usada como criterio de convergencia, por defecto 1e-6.\n",
    "\n",
    "    Retorna\n",
    "    -------\n",
    "    list[tuple[np.ndarray, float]]\n",
    "        Lista con la trayectoria completa del algoritmo.\n",
    "        Cada elemento es una tupla (x, f(x)), donde:\n",
    "        - x es la coordenada actual en forma de np.ndarray.\n",
    "        - f(x) es el valor de la función objetivo en ese punto.\n",
    "    \"\"\"\n",
    "    path = [(x0.copy(), f_loss(x0))]\n",
    "    x = x0.copy()\n",
    "    for _ in range(iters):\n",
    "\n",
    "        g = f_grad(x)\n",
    "        if np.linalg.norm(g) < eps: break\n",
    "        \n",
    "        x += alpha * g\n",
    "        if not evaluar_factibilidad(x): break\n",
    "\n",
    "        path.append((x.copy(), f_loss(x)))\n",
    "        \n",
    "    return path"
   ]
  },
  {
   "cell_type": "markdown",
   "id": "cc7c2ebf",
   "metadata": {},
   "source": [
    "## Correr"
   ]
  },
  {
   "cell_type": "code",
   "execution_count": 11,
   "id": "ef8671a7",
   "metadata": {},
   "outputs": [
    {
     "name": "stdout",
     "output_type": "stream",
     "text": [
      "--- Mejor Solución ---\n",
      "Numero de pasos: 64\n",
      "X: 5.259998992678103, Y: 3.2659751410528073\n",
      "Valor de la función objetivo: -927.1843916966868\n"
     ]
    },
    {
     "data": {
      "application/vnd.plotly.v1+json": {
       "config": {
        "plotlyServerURL": "https://plot.ly"
       },
       "data": [
        {
         "colorscale": [
          [
           0,
           "rgb(103,0,31)"
          ],
          [
           0.1,
           "rgb(178,24,43)"
          ],
          [
           0.2,
           "rgb(214,96,77)"
          ],
          [
           0.3,
           "rgb(244,165,130)"
          ],
          [
           0.4,
           "rgb(253,219,199)"
          ],
          [
           0.5,
           "rgb(255,255,255)"
          ],
          [
           0.6,
           "rgb(224,224,224)"
          ],
          [
           0.7,
           "rgb(186,186,186)"
          ],
          [
           0.8,
           "rgb(135,135,135)"
          ],
          [
           0.9,
           "rgb(77,77,77)"
          ],
          [
           1,
           "rgb(26,26,26)"
          ]
         ],
         "opacity": 0.9,
         "reversescale": true,
         "type": "surface",
         "x": {
          "bdata": "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",
          "dtype": "f8",
          "shape": "50, 50"
         },
         "y": {
          "bdata": "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",
          "dtype": "f8",
          "shape": "50, 50"
         },
         "z": {
          "bdata": "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",
          "dtype": "f8",
          "shape": "50, 50"
         }
        },
        {
         "line": {
          "color": "red",
          "width": 5
         },
         "marker": {
          "color": "red",
          "size": 4
         },
         "mode": "lines+markers",
         "name": "Ruta 1",
         "type": "scatter3d",
         "x": [
          0,
          0.0125,
          0.025742923046874998,
          0.03977120208335455,
          0.05462960568245079,
          0.07036535723127499,
          0.08702825873798947,
          0.10467081916493477,
          0.12334838712246549,
          0.1431192876745161,
          0.16404496290564904,
          0.18619011577710545,
          0.2096228566524596,
          0.23441485169755885,
          0.2606414721495389,
          0.2883819432001291,
          0.3177194909426825,
          0.34874148548297745,
          0.3815395779024926,
          0.4162098282802301,
          0.4528528214149353,
          0.4915737662324719,
          0.5324825741010637,
          0.5756939103973946,
          0.621327212656185,
          0.6695066674821409,
          0.7203611370944676,
          0.7740240249010144,
          0.830633067855877,
          0.8903300415409948,
          0.9532603619375762,
          1.0195725657376786,
          1.0894176488270693,
          1.162948240306638,
          1.2403175871987706,
          1.3216783229312423,
          1.4071809909736135,
          1.4969722938438539,
          1.5911930373944974,
          1.6899757411896907,
          1.7934418883379335,
          1.9016987928712796,
          2.0148360702545496,
          2.1329217075153433,
          2.2559977444711428,
          2.384075597212971,
          2.517131079871817,
          2.6550992109746194,
          2.7978689262101715,
          2.9452778593958424,
          3.0971073962939557,
          3.2530782491232904,
          3.4128468394858995,
          3.5760028091870377,
          3.742067996288812,
          3.910497211339928,
          4.080681119791935,
          4.251951475943701,
          4.4235888584210254,
          4.594832927817152,
          4.7648950689579905,
          4.932973103821937,
          5.098267581967534,
          5.259998992678103
         ],
         "y": [
          0,
          0.03,
          0.060734519875000004,
          0.09222039674849813,
          0.1244745535808119,
          0.1575139593527644,
          0.19135558416583456,
          0.2260163488160053,
          0.2615130683741523,
          0.2978623892823773,
          0.33508071945378387,
          0.3731841508435102,
          0.41218837394219654,
          0.45210858363043493,
          0.4929593758252503,
          0.5347546343485962,
          0.5775074074547036,
          0.621229773469602,
          0.6659326950241502,
          0.7116258614036449,
          0.7583175185948866,
          0.8060142866881514,
          0.8547209643897083,
          0.9044403205234688,
          0.9551728725513917,
          1.0069166523249087,
          1.059666959497531,
          1.1134161032856673,
          1.1681531335642032,
          1.223863562629138,
          1.2805290793547919,
          1.3381272579206016,
          1.3966312637844187,
          1.4560095601366445,
          1.5162256186823129,
          1.5772376392644663,
          1.638998283557746,
          1.7014544288191011,
          1.7645469484724303,
          1.8282105271109126,
          1.8923735183044745,
          1.9569578543733748,
          2.0218790179974864,
          2.087046086130434,
          2.1523618571234806,
          2.2177230721692043,
          2.2830207420700637,
          2.348140589829803,
          2.4129636185529697,
          2.4773668125088415,
          2.5412239768590426,
          2.6044067183608157,
          2.6667855652623937,
          2.7282312195690004,
          2.788615928910945,
          2.8478149585152503,
          2.9057081365128776,
          2.9621814383836735,
          3.0171285692692074,
          3.0704524968121363,
          3.122066882833621,
          3.1718973602714238,
          3.219882603016759,
          3.2659751410528073
         ],
         "z": [
          -4225,
          -4220.712338959414,
          -4216.165389434738,
          -4211.341081781046,
          -4206.2199133950335,
          -4200.7808240537515,
          -4195.001059932128,
          -4188.856025299527,
          -4182.319120824712,
          -4175.361567348409,
          -4167.95221391548,
          -4160.057328797605,
          -4151.640372186317,
          -4142.661749200526,
          -4133.078541839444,
          -4122.844218529916,
          -4111.908319978132,
          -4100.216120154353,
          -4087.7082614339215,
          -4074.320363211786,
          -4059.982603729734,
          -4044.619275440888,
          -4028.148315028103,
          -4010.4808102437773,
          -3991.5204871107026,
          -3971.1631827903357,
          -3949.296311671531,
          -3925.798335056182,
          -3900.538248326193,
          -3873.375103784055,
          -3844.1575925860066,
          -3812.723715445328,
          -3778.900579169283,
          -3742.504364665103,
          -3703.34052180397,
          -3661.2042573650774,
          -3615.881393947899,
          -3567.1496897923043,
          -3514.7807211646495,
          -3458.5424392878067,
          -3398.2025212196245,
          -3333.53263662194,
          -3264.3137474658865,
          -3190.3425422977957,
          -3111.4390771951207,
          -3027.4556481862337,
          -2938.2868510621984,
          -2843.880691320064,
          -2744.250488240249,
          -2639.487174362618,
          -2529.7714304502274,
          -2415.384927232155,
          -2296.71978577925,
          -2174.2852416016126,
          -2048.7104320334042,
          -1920.7422532316402,
          -1791.2373809318021,
          -1661.1478379376779,
          -1531.4999248263723,
          -1403.3668889451883,
          -1277.8363435072251,
          -1155.9740900308996,
          -1038.78655127615,
          -927.1843916966868
         ]
        }
       ],
       "layout": {
        "height": 700,
        "scene": {
         "xaxis": {
          "title": {
           "text": "x"
          }
         },
         "yaxis": {
          "title": {
           "text": "y"
          }
         },
         "zaxis": {
          "title": {
           "text": "Valor"
          }
         }
        },
        "template": {
         "data": {
          "bar": [
           {
            "error_x": {
             "color": "#2a3f5f"
            },
            "error_y": {
             "color": "#2a3f5f"
            },
            "marker": {
             "line": {
              "color": "#E5ECF6",
              "width": 0.5
             },
             "pattern": {
              "fillmode": "overlay",
              "size": 10,
              "solidity": 0.2
             }
            },
            "type": "bar"
           }
          ],
          "barpolar": [
           {
            "marker": {
             "line": {
              "color": "#E5ECF6",
              "width": 0.5
             },
             "pattern": {
              "fillmode": "overlay",
              "size": 10,
              "solidity": 0.2
             }
            },
            "type": "barpolar"
           }
          ],
          "carpet": [
           {
            "aaxis": {
             "endlinecolor": "#2a3f5f",
             "gridcolor": "white",
             "linecolor": "white",
             "minorgridcolor": "white",
             "startlinecolor": "#2a3f5f"
            },
            "baxis": {
             "endlinecolor": "#2a3f5f",
             "gridcolor": "white",
             "linecolor": "white",
             "minorgridcolor": "white",
             "startlinecolor": "#2a3f5f"
            },
            "type": "carpet"
           }
          ],
          "choropleth": [
           {
            "colorbar": {
             "outlinewidth": 0,
             "ticks": ""
            },
            "type": "choropleth"
           }
          ],
          "contour": [
           {
            "colorbar": {
             "outlinewidth": 0,
             "ticks": ""
            },
            "colorscale": [
             [
              0,
              "#0d0887"
             ],
             [
              0.1111111111111111,
              "#46039f"
             ],
             [
              0.2222222222222222,
              "#7201a8"
             ],
             [
              0.3333333333333333,
              "#9c179e"
             ],
             [
              0.4444444444444444,
              "#bd3786"
             ],
             [
              0.5555555555555556,
              "#d8576b"
             ],
             [
              0.6666666666666666,
              "#ed7953"
             ],
             [
              0.7777777777777778,
              "#fb9f3a"
             ],
             [
              0.8888888888888888,
              "#fdca26"
             ],
             [
              1,
              "#f0f921"
             ]
            ],
            "type": "contour"
           }
          ],
          "contourcarpet": [
           {
            "colorbar": {
             "outlinewidth": 0,
             "ticks": ""
            },
            "type": "contourcarpet"
           }
          ],
          "heatmap": [
           {
            "colorbar": {
             "outlinewidth": 0,
             "ticks": ""
            },
            "colorscale": [
             [
              0,
              "#0d0887"
             ],
             [
              0.1111111111111111,
              "#46039f"
             ],
             [
              0.2222222222222222,
              "#7201a8"
             ],
             [
              0.3333333333333333,
              "#9c179e"
             ],
             [
              0.4444444444444444,
              "#bd3786"
             ],
             [
              0.5555555555555556,
              "#d8576b"
             ],
             [
              0.6666666666666666,
              "#ed7953"
             ],
             [
              0.7777777777777778,
              "#fb9f3a"
             ],
             [
              0.8888888888888888,
              "#fdca26"
             ],
             [
              1,
              "#f0f921"
             ]
            ],
            "type": "heatmap"
           }
          ],
          "histogram": [
           {
            "marker": {
             "pattern": {
              "fillmode": "overlay",
              "size": 10,
              "solidity": 0.2
             }
            },
            "type": "histogram"
           }
          ],
          "histogram2d": [
           {
            "colorbar": {
             "outlinewidth": 0,
             "ticks": ""
            },
            "colorscale": [
             [
              0,
              "#0d0887"
             ],
             [
              0.1111111111111111,
              "#46039f"
             ],
             [
              0.2222222222222222,
              "#7201a8"
             ],
             [
              0.3333333333333333,
              "#9c179e"
             ],
             [
              0.4444444444444444,
              "#bd3786"
             ],
             [
              0.5555555555555556,
              "#d8576b"
             ],
             [
              0.6666666666666666,
              "#ed7953"
             ],
             [
              0.7777777777777778,
              "#fb9f3a"
             ],
             [
              0.8888888888888888,
              "#fdca26"
             ],
             [
              1,
              "#f0f921"
             ]
            ],
            "type": "histogram2d"
           }
          ],
          "histogram2dcontour": [
           {
            "colorbar": {
             "outlinewidth": 0,
             "ticks": ""
            },
            "colorscale": [
             [
              0,
              "#0d0887"
             ],
             [
              0.1111111111111111,
              "#46039f"
             ],
             [
              0.2222222222222222,
              "#7201a8"
             ],
             [
              0.3333333333333333,
              "#9c179e"
             ],
             [
              0.4444444444444444,
              "#bd3786"
             ],
             [
              0.5555555555555556,
              "#d8576b"
             ],
             [
              0.6666666666666666,
              "#ed7953"
             ],
             [
              0.7777777777777778,
              "#fb9f3a"
             ],
             [
              0.8888888888888888,
              "#fdca26"
             ],
             [
              1,
              "#f0f921"
             ]
            ],
            "type": "histogram2dcontour"
           }
          ],
          "mesh3d": [
           {
            "colorbar": {
             "outlinewidth": 0,
             "ticks": ""
            },
            "type": "mesh3d"
           }
          ],
          "parcoords": [
           {
            "line": {
             "colorbar": {
              "outlinewidth": 0,
              "ticks": ""
             }
            },
            "type": "parcoords"
           }
          ],
          "pie": [
           {
            "automargin": true,
            "type": "pie"
           }
          ],
          "scatter": [
           {
            "fillpattern": {
             "fillmode": "overlay",
             "size": 10,
             "solidity": 0.2
            },
            "type": "scatter"
           }
          ],
          "scatter3d": [
           {
            "line": {
             "colorbar": {
              "outlinewidth": 0,
              "ticks": ""
             }
            },
            "marker": {
             "colorbar": {
              "outlinewidth": 0,
              "ticks": ""
             }
            },
            "type": "scatter3d"
           }
          ],
          "scattercarpet": [
           {
            "marker": {
             "colorbar": {
              "outlinewidth": 0,
              "ticks": ""
             }
            },
            "type": "scattercarpet"
           }
          ],
          "scattergeo": [
           {
            "marker": {
             "colorbar": {
              "outlinewidth": 0,
              "ticks": ""
             }
            },
            "type": "scattergeo"
           }
          ],
          "scattergl": [
           {
            "marker": {
             "colorbar": {
              "outlinewidth": 0,
              "ticks": ""
             }
            },
            "type": "scattergl"
           }
          ],
          "scattermap": [
           {
            "marker": {
             "colorbar": {
              "outlinewidth": 0,
              "ticks": ""
             }
            },
            "type": "scattermap"
           }
          ],
          "scattermapbox": [
           {
            "marker": {
             "colorbar": {
              "outlinewidth": 0,
              "ticks": ""
             }
            },
            "type": "scattermapbox"
           }
          ],
          "scatterpolar": [
           {
            "marker": {
             "colorbar": {
              "outlinewidth": 0,
              "ticks": ""
             }
            },
            "type": "scatterpolar"
           }
          ],
          "scatterpolargl": [
           {
            "marker": {
             "colorbar": {
              "outlinewidth": 0,
              "ticks": ""
             }
            },
            "type": "scatterpolargl"
           }
          ],
          "scatterternary": [
           {
            "marker": {
             "colorbar": {
              "outlinewidth": 0,
              "ticks": ""
             }
            },
            "type": "scatterternary"
           }
          ],
          "surface": [
           {
            "colorbar": {
             "outlinewidth": 0,
             "ticks": ""
            },
            "colorscale": [
             [
              0,
              "#0d0887"
             ],
             [
              0.1111111111111111,
              "#46039f"
             ],
             [
              0.2222222222222222,
              "#7201a8"
             ],
             [
              0.3333333333333333,
              "#9c179e"
             ],
             [
              0.4444444444444444,
              "#bd3786"
             ],
             [
              0.5555555555555556,
              "#d8576b"
             ],
             [
              0.6666666666666666,
              "#ed7953"
             ],
             [
              0.7777777777777778,
              "#fb9f3a"
             ],
             [
              0.8888888888888888,
              "#fdca26"
             ],
             [
              1,
              "#f0f921"
             ]
            ],
            "type": "surface"
           }
          ],
          "table": [
           {
            "cells": {
             "fill": {
              "color": "#EBF0F8"
             },
             "line": {
              "color": "white"
             }
            },
            "header": {
             "fill": {
              "color": "#C8D4E3"
             },
             "line": {
              "color": "white"
             }
            },
            "type": "table"
           }
          ]
         },
         "layout": {
          "annotationdefaults": {
           "arrowcolor": "#2a3f5f",
           "arrowhead": 0,
           "arrowwidth": 1
          },
          "autotypenumbers": "strict",
          "coloraxis": {
           "colorbar": {
            "outlinewidth": 0,
            "ticks": ""
           }
          },
          "colorscale": {
           "diverging": [
            [
             0,
             "#8e0152"
            ],
            [
             0.1,
             "#c51b7d"
            ],
            [
             0.2,
             "#de77ae"
            ],
            [
             0.3,
             "#f1b6da"
            ],
            [
             0.4,
             "#fde0ef"
            ],
            [
             0.5,
             "#f7f7f7"
            ],
            [
             0.6,
             "#e6f5d0"
            ],
            [
             0.7,
             "#b8e186"
            ],
            [
             0.8,
             "#7fbc41"
            ],
            [
             0.9,
             "#4d9221"
            ],
            [
             1,
             "#276419"
            ]
           ],
           "sequential": [
            [
             0,
             "#0d0887"
            ],
            [
             0.1111111111111111,
             "#46039f"
            ],
            [
             0.2222222222222222,
             "#7201a8"
            ],
            [
             0.3333333333333333,
             "#9c179e"
            ],
            [
             0.4444444444444444,
             "#bd3786"
            ],
            [
             0.5555555555555556,
             "#d8576b"
            ],
            [
             0.6666666666666666,
             "#ed7953"
            ],
            [
             0.7777777777777778,
             "#fb9f3a"
            ],
            [
             0.8888888888888888,
             "#fdca26"
            ],
            [
             1,
             "#f0f921"
            ]
           ],
           "sequentialminus": [
            [
             0,
             "#0d0887"
            ],
            [
             0.1111111111111111,
             "#46039f"
            ],
            [
             0.2222222222222222,
             "#7201a8"
            ],
            [
             0.3333333333333333,
             "#9c179e"
            ],
            [
             0.4444444444444444,
             "#bd3786"
            ],
            [
             0.5555555555555556,
             "#d8576b"
            ],
            [
             0.6666666666666666,
             "#ed7953"
            ],
            [
             0.7777777777777778,
             "#fb9f3a"
            ],
            [
             0.8888888888888888,
             "#fdca26"
            ],
            [
             1,
             "#f0f921"
            ]
           ]
          },
          "colorway": [
           "#636efa",
           "#EF553B",
           "#00cc96",
           "#ab63fa",
           "#FFA15A",
           "#19d3f3",
           "#FF6692",
           "#B6E880",
           "#FF97FF",
           "#FECB52"
          ],
          "font": {
           "color": "#2a3f5f"
          },
          "geo": {
           "bgcolor": "white",
           "lakecolor": "white",
           "landcolor": "#E5ECF6",
           "showlakes": true,
           "showland": true,
           "subunitcolor": "white"
          },
          "hoverlabel": {
           "align": "left"
          },
          "hovermode": "closest",
          "mapbox": {
           "style": "light"
          },
          "paper_bgcolor": "white",
          "plot_bgcolor": "#E5ECF6",
          "polar": {
           "angularaxis": {
            "gridcolor": "white",
            "linecolor": "white",
            "ticks": ""
           },
           "bgcolor": "#E5ECF6",
           "radialaxis": {
            "gridcolor": "white",
            "linecolor": "white",
            "ticks": ""
           }
          },
          "scene": {
           "xaxis": {
            "backgroundcolor": "#E5ECF6",
            "gridcolor": "white",
            "gridwidth": 2,
            "linecolor": "white",
            "showbackground": true,
            "ticks": "",
            "zerolinecolor": "white"
           },
           "yaxis": {
            "backgroundcolor": "#E5ECF6",
            "gridcolor": "white",
            "gridwidth": 2,
            "linecolor": "white",
            "showbackground": true,
            "ticks": "",
            "zerolinecolor": "white"
           },
           "zaxis": {
            "backgroundcolor": "#E5ECF6",
            "gridcolor": "white",
            "gridwidth": 2,
            "linecolor": "white",
            "showbackground": true,
            "ticks": "",
            "zerolinecolor": "white"
           }
          },
          "shapedefaults": {
           "line": {
            "color": "#2a3f5f"
           }
          },
          "ternary": {
           "aaxis": {
            "gridcolor": "white",
            "linecolor": "white",
            "ticks": ""
           },
           "baxis": {
            "gridcolor": "white",
            "linecolor": "white",
            "ticks": ""
           },
           "bgcolor": "#E5ECF6",
           "caxis": {
            "gridcolor": "white",
            "linecolor": "white",
            "ticks": ""
           }
          },
          "title": {
           "x": 0.05
          },
          "xaxis": {
           "automargin": true,
           "gridcolor": "white",
           "linecolor": "white",
           "ticks": "",
           "title": {
            "standoff": 15
           },
           "zerolinecolor": "white",
           "zerolinewidth": 2
          },
          "yaxis": {
           "automargin": true,
           "gridcolor": "white",
           "linecolor": "white",
           "ticks": "",
           "title": {
            "standoff": 15
           },
           "zerolinecolor": "white",
           "zerolinewidth": 2
          }
         }
        },
        "width": 900
       }
      }
     },
     "metadata": {},
     "output_type": "display_data"
    }
   ],
   "source": [
    "# TODO: Literal J\n",
    "\n",
    "# --- Configuración inicial ---\n",
    "# Coordenadas iniciales (x⁰, y⁰)\n",
    "coor_inicial = np.array([0.0, 0.0])\n",
    "\n",
    "# Longitud de paso λ\n",
    "lbd = 0.00025\n",
    "\n",
    "# --- Ejecución de la búsqueda local ---\n",
    "path_g2  = gradient_descent(coor_inicial, evaluar_indice, grad_phi, alpha=lbd, iters=1000)\n",
    "\n",
    "print(\"--- Mejor Solución ---\")\n",
    "\n",
    "print(f\"Numero de pasos: {len(path_g2)}\")\n",
    "print(f\"X: {path_g2[-1][0][0]}, Y: {path_g2[-1][0][1]}\")\n",
    "print(f\"Valor de la función objetivo: {path_g2[-1][1]}\")\n",
    "\n",
    "# --- Visualización de resultados ---\n",
    "plot_(evaluar_indice, path_g2)"
   ]
  }
 ],
 "metadata": {
  "kernelspec": {
   "display_name": "Python 3",
   "language": "python",
   "name": "python3"
  },
  "language_info": {
   "codemirror_mode": {
    "name": "ipython",
    "version": 3
   },
   "file_extension": ".py",
   "mimetype": "text/x-python",
   "name": "python",
   "nbconvert_exporter": "python",
   "pygments_lexer": "ipython3",
   "version": "3.12.11"
  }
 },
 "nbformat": 4,
 "nbformat_minor": 5
}

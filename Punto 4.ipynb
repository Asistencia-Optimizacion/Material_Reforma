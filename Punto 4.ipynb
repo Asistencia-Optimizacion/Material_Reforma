{
 "cells": [
  {
   "cell_type": "markdown",
   "metadata": {},
   "source": [
    "# Entrenamiento 2: Principios de Optimización.\n",
    "\n",
    "## Implementación: Búsqueda Local"
   ]
  },
  {
   "cell_type": "code",
   "execution_count": 1,
   "metadata": {},
   "outputs": [],
   "source": [
    "#Importación de las librerias necesarias\n",
    "import numpy as np\n",
    "import matplotlib as mpl\n",
    "import matplotlib.pyplot as plt\n",
    "import matplotlib.colors as colors\n",
    "from math import cos, sin, pi "
   ]
  },
  {
   "cell_type": "markdown",
   "metadata": {},
   "source": [
    "**INCISO B**: \tImplemente una   función en Python llamada evaluar_indice que  reciba como parámetro una tupla con la coordenada $(x,y)$ y retorne el valor del índice para dicha coordenada. "
   ]
  },
  {
   "cell_type": "code",
   "execution_count": 2,
   "metadata": {},
   "outputs": [],
   "source": [
    "#TODO\n",
    "def evaluar_indice(coor:tuple):\n",
    "    x = coor\n",
    "    return 95*(x[0]**2 *x[1] - 9)**2 + 130*(x[0] + x[1]**2 - 12)**2"
   ]
  },
  {
   "cell_type": "markdown",
   "metadata": {},
   "source": [
    "**INCISO C:** Implemente una función en Python llamada generar_radar que reciba como parámetro una tupla con las coordenadas actuales $(x^t, y^t)$ y la longitud $\\lambda$ y retorne las 8 coordenadas vecinas en una lista. "
   ]
  },
  {
   "cell_type": "code",
   "execution_count": 3,
   "metadata": {},
   "outputs": [],
   "source": [
    "#TODO\n",
    "def generar_radar(coor: tuple, lbd: float):\n",
    "    x, y = coor\n",
    "    coor1, coor2, coor3, coor4 = (x+lbd,y), (x-lbd,y), (x,y+lbd), (x,y-lbd)\n",
    "    coor5, coor6, coor7, coor8 = (x+lbd*cos(pi/4),y+lbd*sin(pi/4)), (x+lbd*cos(pi/4),y-lbd*sin(pi/4)), \\\n",
    "    (x-lbd*cos(pi/4),y+lbd*sin(pi/4)), (x-lbd*cos(pi/4),y-lbd*sin(pi/4))\n",
    "    z=[coor1, coor2, coor3, coor4, coor5, coor6, coor7, coor8]\n",
    "\n",
    "    return z"
   ]
  },
  {
   "cell_type": "markdown",
   "metadata": {},
   "source": [
    "**INCISO D:** Implemente una función en Python llamada evaluar_factibilidad que reciba como parámetro una tupla con la coordenada $(x,y)$ y retorne True en caso de que se encuentre dentro de la región de estudio (cumpla todas las restricciones) y False de lo contrario."
   ]
  },
  {
   "cell_type": "code",
   "execution_count": 4,
   "metadata": {},
   "outputs": [],
   "source": [
    "#TODO\n",
    "def evaluar_factibilidad(coor: tuple):\n",
    "    if coor[0] < -4: return False\n",
    "    if coor[1] < -7 or coor[1] > 5: return False\n",
    "    if coor[0]+0.5*coor[1] > 7 or coor[0]-0.3*coor[1] > 7: return False\n",
    "    return True\n"
   ]
  },
  {
   "cell_type": "markdown",
   "metadata": {},
   "source": [
    "**INCISO E:** Implemente una función en Python llamada encontrar_mejor_coor que reciba como parámetro un diccionario donde las llaves son coordenadas; \n",
    "y retorne la coordenada con menor índice y su índice. En esta función, \n",
    "debe evaluar si el diccionario que entra por parámetro está vacío, en cuyo \n",
    "caso deberá retornar False"
   ]
  },
  {
   "cell_type": "code",
   "execution_count": 5,
   "metadata": {},
   "outputs": [],
   "source": [
    "#TODO\n",
    "def encontrar_mejor_coor(my_dict: dict):\n",
    "    if len(my_dict.keys()) != 0:\n",
    "        # min_val, min_coor = 1e9, tuple()\n",
    "        # for key, value in radar.items():\n",
    "        #     if value < min_val:   min_coor, min_val = key, value     \n",
    "        min_coor = min(my_dict, key = my_dict.get)\n",
    "        min_val = my_dict[min_coor]\n",
    "        return (min_coor, min_val)\n",
    "    else:\n",
    "        return False"
   ]
  },
  {
   "cell_type": "markdown",
   "metadata": {},
   "source": [
    "**NOTA:** A continuación se encuentra implementado el método de búsqueda local, el cual utilizará las funciones previamente implementadas para realizar el proceso de búsqueda local (corra esta celda antes de continuar con la implementación asegurandose de haber cumplido con los TODO previos)."
   ]
  },
  {
   "cell_type": "code",
   "execution_count": 6,
   "metadata": {},
   "outputs": [],
   "source": [
    "#################################################\n",
    "########### Método de búsqueda local ############\n",
    "#################################################\n",
    "\n",
    "# INCISO F. \n",
    "def busqueda_local(coord_ini: tuple, lbd: float):\n",
    "    ### Incialización \n",
    "    ubicacion_actual = coord_ini\n",
    "    objetivo_actual = evaluar_indice(ubicacion_actual)\n",
    "    hay_mejora = True\n",
    "\n",
    "    steps = [ubicacion_actual]  \n",
    "\n",
    "    ### Proceso iterativo\n",
    "    while hay_mejora:\n",
    "        \n",
    "        mejor_objetivo = objetivo_actual\n",
    "\n",
    "        # Generar las ubicaciones del radar\n",
    "        radar = generar_radar(ubicacion_actual, lbd)\n",
    "        my_dict = {}\n",
    "\n",
    "        # Guardar las ubicaciones factibles con sus índices\n",
    "        for coor in radar:\n",
    "            if evaluar_factibilidad(coor):\n",
    "                nuevo_objetivo = evaluar_indice(coor)\n",
    "                my_dict[coor] = nuevo_objetivo\n",
    "\n",
    "        # Buscar la mejor ubicación del radar y actualizar la posición\n",
    "        res = encontrar_mejor_coor(my_dict)\n",
    "        if res != False and res[1] < mejor_objetivo:\n",
    "            ubicacion_actual = res[0]\n",
    "            objetivo_actual = res[1]\n",
    "            steps.append(ubicacion_actual)\n",
    "         \n",
    "        # Criterio de parda del proceso iterativo\n",
    "        else:\n",
    "            hay_mejora = False\n",
    "   \n",
    "    #################################################\n",
    "    ############### Resumen del método ##############\n",
    "    #################################################\n",
    "    print('\\n######## Proceso iterativo de búsqueda local finalizado ########\\n')\n",
    "    print(f'Para la coordenada inicial {coor_inicial} y un lambda de {lbd}:\\n')\n",
    "    print(f'Número de iteraciones: {len(steps)}')\n",
    "    print(f'La mejor ubicación encontrada fue: ({round(ubicacion_actual[0],3)},{round(ubicacion_actual[1],3)})')\n",
    "    print(f'El mejor índice encontrado fue: {round(objetivo_actual,5)}\\n')\n",
    "    \n",
    "    return steps"
   ]
  },
  {
   "cell_type": "markdown",
   "metadata": {},
   "source": [
    "Determine las coordenadas iniciales $(x^0, y^0)$ y distancia del radar cuadrado de búsqueda (lbd)"
   ]
  },
  {
   "cell_type": "code",
   "execution_count": 7,
   "metadata": {},
   "outputs": [],
   "source": [
    "#TODO\n",
    "coor_inicial = (-4,-1)\n",
    "lbd = 0.01"
   ]
  },
  {
   "cell_type": "markdown",
   "metadata": {},
   "source": [
    "Invoque el método de búsqueda local utilizando los argumentos definidos en la celda anterior."
   ]
  },
  {
   "cell_type": "code",
   "execution_count": 8,
   "metadata": {},
   "outputs": [
    {
     "name": "stdout",
     "output_type": "stream",
     "text": [
      "\n",
      "######## Proceso iterativo de búsqueda local finalizado ########\n",
      "\n",
      "Para la coordenada inicial (-4, -1) y un lambda de 0.01:\n",
      "\n",
      "Número de iteraciones: 570\n",
      "La mejor ubicación encontrada fue: (-1.56,3.68)\n",
      "El mejor índice encontrado fue: 0.21276\n",
      "\n"
     ]
    }
   ],
   "source": [
    "#TODO\n",
    "steps = busqueda_local(coor_inicial, lbd)"
   ]
  },
  {
   "cell_type": "markdown",
   "metadata": {},
   "source": [
    "Grafique el resultado de busqueda corriendo la celda que se muestra a continuación"
   ]
  },
  {
   "cell_type": "code",
   "execution_count": 9,
   "metadata": {},
   "outputs": [
    {
     "data": {
      "image/png": "[encoded data removed]",
      "text/plain": [
       "<Figure size 960x720 with 1 Axes>"
      ]
     },
     "metadata": {},
     "output_type": "display_data"
    }
   ],
   "source": [
    "### Graficar el resultado\n",
    "x_1, x_2 = np.linspace(-7, 9, 50), np.linspace(-8, 7, 50)\n",
    "X, Y = np.meshgrid(x_1, x_2)\n",
    "Z = evaluar_indice([X, Y])\n",
    "\n",
    "mpl.rcParams['figure.dpi'] = 150\n",
    "arrow_s = {0.5: 0.1, 0.1: 0.0005, 0.01: 0.0005}\n",
    "\n",
    "# plot the contour\n",
    "plt.contourf(X, Y, Z, cmap='RdGy', norm=colors.LogNorm(vmin=Z.min(), vmax=Z.max()))\n",
    "for i in range(1,len(steps)):\n",
    "    x, y,  = round(steps[i-1][0],2), round(steps[i-1][1],2)\n",
    "    dx, dy = round(steps[i][0],2) - x, round(steps[i][1],2) - y\n",
    "    if lbd in arrow_s.keys():\n",
    "        plt.arrow(x, y, dx, dy , color = 'red', head_width = arrow_s[lbd])\n",
    "    else:\n",
    "        plt.arrow(x, y, dx, dy , color = 'red')\n",
    "\n",
    "# add axis titles\n",
    "plt.xlabel('x-coordinate'); plt.ylabel('y-coordinate')\n",
    "plt.title(\"Parque Nacional Natural los Nevados\")\n",
    "\n",
    "plt.show()"
   ]
  }
 ],
 "metadata": {
  "kernelspec": {
   "display_name": "base",
   "language": "python",
   "name": "python3"
  },
  "language_info": {
   "codemirror_mode": {
    "name": "ipython",
    "version": 3
   },
   "file_extension": ".py",
   "mimetype": "text/x-python",
   "name": "python",
   "nbconvert_exporter": "python",
   "pygments_lexer": "ipython3",
   "version": "3.11.5"
  }
 },
 "nbformat": 4,
 "nbformat_minor": 4
}
